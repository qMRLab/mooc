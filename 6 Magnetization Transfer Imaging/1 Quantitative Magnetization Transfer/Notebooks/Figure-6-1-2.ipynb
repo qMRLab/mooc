{
 "cells": [
  {
   "cell_type": "code",
   "execution_count": 1,
   "metadata": {},
   "outputs": [
    {
     "data": {
      "text/html": [
       "        <script type=\"text/javascript\">\n",
       "        window.PlotlyConfig = {MathJaxConfig: 'local'};\n",
       "        if (window.MathJax && window.MathJax.Hub && window.MathJax.Hub.Config) {window.MathJax.Hub.Config({SVG: {font: \"STIX-Web\"}});}\n",
       "        if (typeof require !== 'undefined') {\n",
       "        require.undef(\"plotly\");\n",
       "        requirejs.config({\n",
       "            paths: {\n",
       "                'plotly': ['https://cdn.plot.ly/plotly-2.32.0.min']\n",
       "            }\n",
       "        });\n",
       "        require(['plotly'], function(Plotly) {\n",
       "            window._Plotly = Plotly;\n",
       "        });\n",
       "        }\n",
       "        </script>\n",
       "        "
      ]
     },
     "metadata": {},
     "output_type": "display_data"
    },
    {
     "data": {
      "application/vnd.plotly.v1+json": {
       "config": {
        "displayModeBar": false,
        "linkText": "Export to plot.ly",
        "plotlyServerURL": "https://plot.ly",
        "showLink": false
       },
       "data": [
        {
         "hovertemplate": "Fitted curve (angle = 142)<br>M<sub>z</sub> = %{y}<br>Offset = %{x} Hz<extra></extra>",
         "line": {
          "color": "firebrick"
         },
         "mode": "lines",
         "name": "Fitted curve (angle = 142)",
         "type": "scatter",
         "visible": true,
         "x": [
          100,
          221.5,
          343,
          443,
          543,
          765.5,
          988,
          1088,
          1188,
          1910,
          2632,
          2732,
          2832,
          4797,
          6762,
          6862,
          6962,
          12048.5,
          17135,
          17235,
          17335,
          18235
         ],
         "y": [
          0.008813726425223186,
          0.37343447696210635,
          0.6610938327892172,
          0.7199791813847203,
          0.7513422491517757,
          0.7848775846900953,
          0.8008618331869922,
          0.8058661063271711,
          0.8101648894800186,
          0.8402396928424347,
          0.8654618056194635,
          0.868439773234378,
          0.8713245002893902,
          0.915442841636216,
          0.9451162255894823,
          0.9463530668898814,
          0.9475664472654632,
          0.985052328418574,
          0.9958130103343505,
          0.995911365194335,
          0.9960071877695557,
          0.9967669381232114
         ]
        },
        {
         "hovertemplate": "Fitted curve (angle = 426)<br>M<sub>z</sub> = %{y}<br>Offset = %{x} Hz<extra></extra>",
         "line": {
          "color": "royalblue"
         },
         "mode": "lines",
         "name": "Fitted curve (angle = 426)",
         "type": "scatter",
         "visible": true,
         "x": [
          100,
          221.5,
          343,
          443,
          543,
          765.5,
          988,
          1088,
          1188,
          1910,
          2632,
          2732,
          2832,
          4797,
          6762,
          6862,
          6962,
          12048.5,
          17135,
          17235,
          17335,
          18235
         ],
         "y": [
          0.02072946310600699,
          0.0795215283221416,
          0.23644933763830436,
          0.28572380143123816,
          0.31597055609720837,
          0.360231191142515,
          0.3862028584236417,
          0.3946817277607403,
          0.40192284552376417,
          0.4468384300060341,
          0.48633117932554853,
          0.49140335768294585,
          0.4964183720307222,
          0.5904553969099567,
          0.6828354898211059,
          0.6874619526545536,
          0.692074135487011,
          0.8831708108604882,
          0.9638436932114943,
          0.9646591961670091,
          0.965455218872067,
          0.9718197187349694
         ]
        },
        {
         "hovertemplate": "Raw data<br>M<sub>z</sub> = %{y}<br>Offset = %{x} Hz<extra></extra>",
         "line": {
          "color": "darkslategray"
         },
         "mode": "markers",
         "name": "Raw data",
         "type": "scatter",
         "visible": true,
         "x": [
          443,
          443,
          1088,
          1088,
          2732,
          2732,
          6862,
          6862,
          17235,
          17235
         ],
         "y": [
          0.7198512301443871,
          0.28527814427249487,
          0.8058247094225103,
          0.394538939895933,
          0.8666946828666708,
          0.4919464066533335,
          0.9458777961703054,
          0.6870291667105725,
          0.9956037124638679,
          0.9641230723731966
         ]
        },
        {
         "hovertemplate": "Fitted curve (angle = 142)<br>M<sub>z</sub> = %{y}<br>Offset = %{x} Hz<extra></extra>",
         "line": {
          "color": "firebrick"
         },
         "mode": "lines",
         "name": "Fitted curve (angle = 142)",
         "type": "scatter",
         "visible": false,
         "x": [
          100,
          221.5,
          343,
          443,
          543,
          765.5,
          988,
          1088,
          1188,
          1910,
          2632,
          2732,
          2832,
          4797,
          6762,
          6862,
          6962,
          12048.5,
          17135,
          17235,
          17335,
          18235
         ],
         "y": [
          0.00891034403105526,
          0.3995247477393032,
          0.7409239894257367,
          0.8142956636422309,
          0.8534032633603168,
          0.8938425779022307,
          0.9108822333560096,
          0.9154619835076663,
          0.9189795352448058,
          0.9308610594677456,
          0.9353839950996347,
          0.9358418686741242,
          0.9362781909205519,
          0.9432424515815218,
          0.94985077019896,
          0.9501885105306999,
          0.9505260372756261,
          0.9662334701873027,
          0.9772410312632461,
          0.9774113965606668,
          0.9775801939466912,
          0.9790311277326624
         ]
        },
        {
         "hovertemplate": "Fitted curve (angle = 426)<br>M<sub>z</sub> = %{y}<br>Offset = %{x} Hz<extra></extra>",
         "line": {
          "color": "royalblue"
         },
         "mode": "lines",
         "name": "Fitted curve (angle = 426)",
         "type": "scatter",
         "visible": false,
         "x": [
          100,
          221.5,
          343,
          443,
          543,
          765.5,
          988,
          1088,
          1188,
          1910,
          2632,
          2732,
          2832,
          4797,
          6762,
          6862,
          6962,
          12048.5,
          17135,
          17235,
          17335,
          18235
         ],
         "y": [
          0.02206798027093326,
          0.08863031193194656,
          0.30111697799246795,
          0.38046980078000725,
          0.43237455488484905,
          0.5118178964120413,
          0.5582334701217911,
          0.5725978048037556,
          0.5842341057169589,
          0.6277815936465259,
          0.6455427974656768,
          0.6473279301391159,
          0.649021699376939,
          0.6753716128768276,
          0.7008953692877316,
          0.7022458542897788,
          0.7036008103410339,
          0.7738260053701286,
          0.8337040711586933,
          0.8347162429063589,
          0.8357219201412155,
          0.8444837014327549
         ]
        },
        {
         "hovertemplate": "Raw data<br>M<sub>z</sub> = %{y}<br>Offset = %{x} Hz<extra></extra>",
         "line": {
          "color": "darkslategray"
         },
         "mode": "markers",
         "name": "Raw data",
         "type": "scatter",
         "visible": false,
         "x": [
          443,
          443,
          1088,
          1088,
          2732,
          2732,
          6862,
          6862,
          17235,
          17235
         ],
         "y": [
          0.8142689731403137,
          0.37950935761938115,
          0.9173166287428104,
          0.5739899084269897,
          0.9358679334899276,
          0.6459982625890102,
          0.9500031920696281,
          0.7022815655450371,
          0.9779590418519898,
          0.834682988854354
         ]
        },
        {
         "hovertemplate": "Fitted curve (angle = 142)<br>M<sub>z</sub> = %{y}<br>Offset = %{x} Hz<extra></extra>",
         "line": {
          "color": "firebrick"
         },
         "mode": "lines",
         "name": "Fitted curve (angle = 142)",
         "type": "scatter",
         "visible": false,
         "x": [
          100,
          221.5,
          343,
          443,
          543,
          765.5,
          988,
          1088,
          1188,
          1910,
          2632,
          2732,
          2832,
          4797,
          6762,
          6862,
          6962,
          12048.5,
          17135,
          17235,
          17335,
          18235
         ],
         "y": [
          0.00890021883771251,
          0.39663934583032356,
          0.7316707736604597,
          0.8032026284464518,
          0.8412551420163539,
          0.8805282783628192,
          0.8970244273018898,
          0.901442429962131,
          0.9048260243125212,
          0.9160597309029904,
          0.9200437992083287,
          0.920425466820645,
          0.9207849264992692,
          0.9261801755219731,
          0.9315674579377606,
          0.9318645511215873,
          0.9321640143685207,
          0.9498857295611755,
          0.9686993523130494,
          0.9690421393014393,
          0.9693832728482406,
          0.9723748850546639
         ]
        },
        {
         "hovertemplate": "Fitted curve (angle = 426)<br>M<sub>z</sub> = %{y}<br>Offset = %{x} Hz<extra></extra>",
         "line": {
          "color": "royalblue"
         },
         "mode": "lines",
         "name": "Fitted curve (angle = 426)",
         "type": "scatter",
         "visible": false,
         "x": [
          100,
          221.5,
          343,
          443,
          543,
          765.5,
          988,
          1088,
          1188,
          1910,
          2632,
          2732,
          2832,
          4797,
          6762,
          6862,
          6962,
          12048.5,
          17135,
          17235,
          17335,
          18235
         ],
         "y": [
          0.021879751048764464,
          0.08729472168293209,
          0.29045862600728867,
          0.3641831950541362,
          0.41178306844310036,
          0.48366382780532136,
          0.5250582312474853,
          0.5377546158995316,
          0.5479870089661871,
          0.5854577797504733,
          0.5996460087568636,
          0.600987833399762,
          0.6022430841335396,
          0.6199597089724168,
          0.636872324116505,
          0.637818528062186,
          0.6387746622721161,
          0.7014564646968547,
          0.7864177801942844,
          0.7881953984176869,
          0.7899738532849223,
          0.8059839633054418
         ]
        },
        {
         "hovertemplate": "Raw data<br>M<sub>z</sub> = %{y}<br>Offset = %{x} Hz<extra></extra>",
         "line": {
          "color": "darkslategray"
         },
         "mode": "markers",
         "name": "Raw data",
         "type": "scatter",
         "visible": false,
         "x": [
          443,
          443,
          1088,
          1088,
          2732,
          2732,
          6862,
          6862,
          17235,
          17235
         ],
         "y": [
          0.8031380432576933,
          0.3640810313258787,
          0.9002944440799832,
          0.5372693624986837,
          0.9177197003836047,
          0.6001606918294244,
          0.9323123495505548,
          0.6371288099462531,
          0.9678804801786786,
          0.7864842513358085
         ]
        }
       ],
       "layout": {
        "annotations": [
         {
          "font": {
           "family": "Times New Roman",
           "size": 22
          },
          "showarrow": false,
          "text": "Absorption lineshape: ",
          "x": 0.35,
          "xref": "paper",
          "y": 1.1,
          "yref": "paper"
         },
         {
          "font": {
           "family": "Times New Roman",
           "size": 22
          },
          "showarrow": false,
          "text": "Frequency offset Δ (Hz)",
          "x": 0.5004254919715793,
          "xref": "paper",
          "y": -0.2,
          "yref": "paper"
         },
         {
          "font": {
           "family": "Times New Roman",
           "size": 22
          },
          "showarrow": false,
          "text": "Magnetization |M<sub>z</sub>|",
          "textangle": -90,
          "x": -0.2,
          "xref": "paper",
          "y": 0.5,
          "yref": "paper"
         }
        ],
        "height": 450,
        "legend": {
         "bordercolor": "#000000",
         "borderwidth": 2,
         "font": {
          "color": "#000",
          "family": "Times New Roman",
          "size": 12
         },
         "traceorder": "normal",
         "x": 0.55,
         "y": 0.1
        },
        "margin": {
         "b": 80,
         "l": 120,
         "r": 80,
         "t": 40
        },
        "plot_bgcolor": "rgba(0,0,0,0)",
        "template": {
         "data": {
          "bar": [
           {
            "error_x": {
             "color": "#2a3f5f"
            },
            "error_y": {
             "color": "#2a3f5f"
            },
            "marker": {
             "line": {
              "color": "#E5ECF6",
              "width": 0.5
             },
             "pattern": {
              "fillmode": "overlay",
              "size": 10,
              "solidity": 0.2
             }
            },
            "type": "bar"
           }
          ],
          "barpolar": [
           {
            "marker": {
             "line": {
              "color": "#E5ECF6",
              "width": 0.5
             },
             "pattern": {
              "fillmode": "overlay",
              "size": 10,
              "solidity": 0.2
             }
            },
            "type": "barpolar"
           }
          ],
          "carpet": [
           {
            "aaxis": {
             "endlinecolor": "#2a3f5f",
             "gridcolor": "white",
             "linecolor": "white",
             "minorgridcolor": "white",
             "startlinecolor": "#2a3f5f"
            },
            "baxis": {
             "endlinecolor": "#2a3f5f",
             "gridcolor": "white",
             "linecolor": "white",
             "minorgridcolor": "white",
             "startlinecolor": "#2a3f5f"
            },
            "type": "carpet"
           }
          ],
          "choropleth": [
           {
            "colorbar": {
             "outlinewidth": 0,
             "ticks": ""
            },
            "type": "choropleth"
           }
          ],
          "contour": [
           {
            "colorbar": {
             "outlinewidth": 0,
             "ticks": ""
            },
            "colorscale": [
             [
              0,
              "#0d0887"
             ],
             [
              0.1111111111111111,
              "#46039f"
             ],
             [
              0.2222222222222222,
              "#7201a8"
             ],
             [
              0.3333333333333333,
              "#9c179e"
             ],
             [
              0.4444444444444444,
              "#bd3786"
             ],
             [
              0.5555555555555556,
              "#d8576b"
             ],
             [
              0.6666666666666666,
              "#ed7953"
             ],
             [
              0.7777777777777778,
              "#fb9f3a"
             ],
             [
              0.8888888888888888,
              "#fdca26"
             ],
             [
              1,
              "#f0f921"
             ]
            ],
            "type": "contour"
           }
          ],
          "contourcarpet": [
           {
            "colorbar": {
             "outlinewidth": 0,
             "ticks": ""
            },
            "type": "contourcarpet"
           }
          ],
          "heatmap": [
           {
            "colorbar": {
             "outlinewidth": 0,
             "ticks": ""
            },
            "colorscale": [
             [
              0,
              "#0d0887"
             ],
             [
              0.1111111111111111,
              "#46039f"
             ],
             [
              0.2222222222222222,
              "#7201a8"
             ],
             [
              0.3333333333333333,
              "#9c179e"
             ],
             [
              0.4444444444444444,
              "#bd3786"
             ],
             [
              0.5555555555555556,
              "#d8576b"
             ],
             [
              0.6666666666666666,
              "#ed7953"
             ],
             [
              0.7777777777777778,
              "#fb9f3a"
             ],
             [
              0.8888888888888888,
              "#fdca26"
             ],
             [
              1,
              "#f0f921"
             ]
            ],
            "type": "heatmap"
           }
          ],
          "heatmapgl": [
           {
            "colorbar": {
             "outlinewidth": 0,
             "ticks": ""
            },
            "colorscale": [
             [
              0,
              "#0d0887"
             ],
             [
              0.1111111111111111,
              "#46039f"
             ],
             [
              0.2222222222222222,
              "#7201a8"
             ],
             [
              0.3333333333333333,
              "#9c179e"
             ],
             [
              0.4444444444444444,
              "#bd3786"
             ],
             [
              0.5555555555555556,
              "#d8576b"
             ],
             [
              0.6666666666666666,
              "#ed7953"
             ],
             [
              0.7777777777777778,
              "#fb9f3a"
             ],
             [
              0.8888888888888888,
              "#fdca26"
             ],
             [
              1,
              "#f0f921"
             ]
            ],
            "type": "heatmapgl"
           }
          ],
          "histogram": [
           {
            "marker": {
             "pattern": {
              "fillmode": "overlay",
              "size": 10,
              "solidity": 0.2
             }
            },
            "type": "histogram"
           }
          ],
          "histogram2d": [
           {
            "colorbar": {
             "outlinewidth": 0,
             "ticks": ""
            },
            "colorscale": [
             [
              0,
              "#0d0887"
             ],
             [
              0.1111111111111111,
              "#46039f"
             ],
             [
              0.2222222222222222,
              "#7201a8"
             ],
             [
              0.3333333333333333,
              "#9c179e"
             ],
             [
              0.4444444444444444,
              "#bd3786"
             ],
             [
              0.5555555555555556,
              "#d8576b"
             ],
             [
              0.6666666666666666,
              "#ed7953"
             ],
             [
              0.7777777777777778,
              "#fb9f3a"
             ],
             [
              0.8888888888888888,
              "#fdca26"
             ],
             [
              1,
              "#f0f921"
             ]
            ],
            "type": "histogram2d"
           }
          ],
          "histogram2dcontour": [
           {
            "colorbar": {
             "outlinewidth": 0,
             "ticks": ""
            },
            "colorscale": [
             [
              0,
              "#0d0887"
             ],
             [
              0.1111111111111111,
              "#46039f"
             ],
             [
              0.2222222222222222,
              "#7201a8"
             ],
             [
              0.3333333333333333,
              "#9c179e"
             ],
             [
              0.4444444444444444,
              "#bd3786"
             ],
             [
              0.5555555555555556,
              "#d8576b"
             ],
             [
              0.6666666666666666,
              "#ed7953"
             ],
             [
              0.7777777777777778,
              "#fb9f3a"
             ],
             [
              0.8888888888888888,
              "#fdca26"
             ],
             [
              1,
              "#f0f921"
             ]
            ],
            "type": "histogram2dcontour"
           }
          ],
          "mesh3d": [
           {
            "colorbar": {
             "outlinewidth": 0,
             "ticks": ""
            },
            "type": "mesh3d"
           }
          ],
          "parcoords": [
           {
            "line": {
             "colorbar": {
              "outlinewidth": 0,
              "ticks": ""
             }
            },
            "type": "parcoords"
           }
          ],
          "pie": [
           {
            "automargin": true,
            "type": "pie"
           }
          ],
          "scatter": [
           {
            "fillpattern": {
             "fillmode": "overlay",
             "size": 10,
             "solidity": 0.2
            },
            "type": "scatter"
           }
          ],
          "scatter3d": [
           {
            "line": {
             "colorbar": {
              "outlinewidth": 0,
              "ticks": ""
             }
            },
            "marker": {
             "colorbar": {
              "outlinewidth": 0,
              "ticks": ""
             }
            },
            "type": "scatter3d"
           }
          ],
          "scattercarpet": [
           {
            "marker": {
             "colorbar": {
              "outlinewidth": 0,
              "ticks": ""
             }
            },
            "type": "scattercarpet"
           }
          ],
          "scattergeo": [
           {
            "marker": {
             "colorbar": {
              "outlinewidth": 0,
              "ticks": ""
             }
            },
            "type": "scattergeo"
           }
          ],
          "scattergl": [
           {
            "marker": {
             "colorbar": {
              "outlinewidth": 0,
              "ticks": ""
             }
            },
            "type": "scattergl"
           }
          ],
          "scattermapbox": [
           {
            "marker": {
             "colorbar": {
              "outlinewidth": 0,
              "ticks": ""
             }
            },
            "type": "scattermapbox"
           }
          ],
          "scatterpolar": [
           {
            "marker": {
             "colorbar": {
              "outlinewidth": 0,
              "ticks": ""
             }
            },
            "type": "scatterpolar"
           }
          ],
          "scatterpolargl": [
           {
            "marker": {
             "colorbar": {
              "outlinewidth": 0,
              "ticks": ""
             }
            },
            "type": "scatterpolargl"
           }
          ],
          "scatterternary": [
           {
            "marker": {
             "colorbar": {
              "outlinewidth": 0,
              "ticks": ""
             }
            },
            "type": "scatterternary"
           }
          ],
          "surface": [
           {
            "colorbar": {
             "outlinewidth": 0,
             "ticks": ""
            },
            "colorscale": [
             [
              0,
              "#0d0887"
             ],
             [
              0.1111111111111111,
              "#46039f"
             ],
             [
              0.2222222222222222,
              "#7201a8"
             ],
             [
              0.3333333333333333,
              "#9c179e"
             ],
             [
              0.4444444444444444,
              "#bd3786"
             ],
             [
              0.5555555555555556,
              "#d8576b"
             ],
             [
              0.6666666666666666,
              "#ed7953"
             ],
             [
              0.7777777777777778,
              "#fb9f3a"
             ],
             [
              0.8888888888888888,
              "#fdca26"
             ],
             [
              1,
              "#f0f921"
             ]
            ],
            "type": "surface"
           }
          ],
          "table": [
           {
            "cells": {
             "fill": {
              "color": "#EBF0F8"
             },
             "line": {
              "color": "white"
             }
            },
            "header": {
             "fill": {
              "color": "#C8D4E3"
             },
             "line": {
              "color": "white"
             }
            },
            "type": "table"
           }
          ]
         },
         "layout": {
          "annotationdefaults": {
           "arrowcolor": "#2a3f5f",
           "arrowhead": 0,
           "arrowwidth": 1
          },
          "autotypenumbers": "strict",
          "coloraxis": {
           "colorbar": {
            "outlinewidth": 0,
            "ticks": ""
           }
          },
          "colorscale": {
           "diverging": [
            [
             0,
             "#8e0152"
            ],
            [
             0.1,
             "#c51b7d"
            ],
            [
             0.2,
             "#de77ae"
            ],
            [
             0.3,
             "#f1b6da"
            ],
            [
             0.4,
             "#fde0ef"
            ],
            [
             0.5,
             "#f7f7f7"
            ],
            [
             0.6,
             "#e6f5d0"
            ],
            [
             0.7,
             "#b8e186"
            ],
            [
             0.8,
             "#7fbc41"
            ],
            [
             0.9,
             "#4d9221"
            ],
            [
             1,
             "#276419"
            ]
           ],
           "sequential": [
            [
             0,
             "#0d0887"
            ],
            [
             0.1111111111111111,
             "#46039f"
            ],
            [
             0.2222222222222222,
             "#7201a8"
            ],
            [
             0.3333333333333333,
             "#9c179e"
            ],
            [
             0.4444444444444444,
             "#bd3786"
            ],
            [
             0.5555555555555556,
             "#d8576b"
            ],
            [
             0.6666666666666666,
             "#ed7953"
            ],
            [
             0.7777777777777778,
             "#fb9f3a"
            ],
            [
             0.8888888888888888,
             "#fdca26"
            ],
            [
             1,
             "#f0f921"
            ]
           ],
           "sequentialminus": [
            [
             0,
             "#0d0887"
            ],
            [
             0.1111111111111111,
             "#46039f"
            ],
            [
             0.2222222222222222,
             "#7201a8"
            ],
            [
             0.3333333333333333,
             "#9c179e"
            ],
            [
             0.4444444444444444,
             "#bd3786"
            ],
            [
             0.5555555555555556,
             "#d8576b"
            ],
            [
             0.6666666666666666,
             "#ed7953"
            ],
            [
             0.7777777777777778,
             "#fb9f3a"
            ],
            [
             0.8888888888888888,
             "#fdca26"
            ],
            [
             1,
             "#f0f921"
            ]
           ]
          },
          "colorway": [
           "#636efa",
           "#EF553B",
           "#00cc96",
           "#ab63fa",
           "#FFA15A",
           "#19d3f3",
           "#FF6692",
           "#B6E880",
           "#FF97FF",
           "#FECB52"
          ],
          "font": {
           "color": "#2a3f5f"
          },
          "geo": {
           "bgcolor": "white",
           "lakecolor": "white",
           "landcolor": "#E5ECF6",
           "showlakes": true,
           "showland": true,
           "subunitcolor": "white"
          },
          "hoverlabel": {
           "align": "left"
          },
          "hovermode": "closest",
          "mapbox": {
           "style": "light"
          },
          "paper_bgcolor": "white",
          "plot_bgcolor": "#E5ECF6",
          "polar": {
           "angularaxis": {
            "gridcolor": "white",
            "linecolor": "white",
            "ticks": ""
           },
           "bgcolor": "#E5ECF6",
           "radialaxis": {
            "gridcolor": "white",
            "linecolor": "white",
            "ticks": ""
           }
          },
          "scene": {
           "xaxis": {
            "backgroundcolor": "#E5ECF6",
            "gridcolor": "white",
            "gridwidth": 2,
            "linecolor": "white",
            "showbackground": true,
            "ticks": "",
            "zerolinecolor": "white"
           },
           "yaxis": {
            "backgroundcolor": "#E5ECF6",
            "gridcolor": "white",
            "gridwidth": 2,
            "linecolor": "white",
            "showbackground": true,
            "ticks": "",
            "zerolinecolor": "white"
           },
           "zaxis": {
            "backgroundcolor": "#E5ECF6",
            "gridcolor": "white",
            "gridwidth": 2,
            "linecolor": "white",
            "showbackground": true,
            "ticks": "",
            "zerolinecolor": "white"
           }
          },
          "shapedefaults": {
           "line": {
            "color": "#2a3f5f"
           }
          },
          "ternary": {
           "aaxis": {
            "gridcolor": "white",
            "linecolor": "white",
            "ticks": ""
           },
           "baxis": {
            "gridcolor": "white",
            "linecolor": "white",
            "ticks": ""
           },
           "bgcolor": "#E5ECF6",
           "caxis": {
            "gridcolor": "white",
            "linecolor": "white",
            "ticks": ""
           }
          },
          "title": {
           "x": 0.05
          },
          "xaxis": {
           "automargin": true,
           "gridcolor": "white",
           "linecolor": "white",
           "ticks": "",
           "title": {
            "standoff": 15
           },
           "zerolinecolor": "white",
           "zerolinewidth": 2
          },
          "yaxis": {
           "automargin": true,
           "gridcolor": "white",
           "linecolor": "white",
           "ticks": "",
           "title": {
            "standoff": 15
           },
           "zerolinecolor": "white",
           "zerolinewidth": 2
          }
         }
        },
        "updatemenus": [
         {
          "active": 0,
          "buttons": [
           {
            "args": [
             {
              "visible": [
               true,
               true,
               true,
               false,
               false,
               false,
               false,
               false,
               false
              ]
             }
            ],
            "label": "Super-Lorentzian",
            "method": "update"
           },
           {
            "args": [
             {
              "visible": [
               false,
               false,
               false,
               true,
               true,
               true,
               false,
               false,
               false
              ]
             }
            ],
            "label": "Lorentzian",
            "method": "update"
           },
           {
            "args": [
             {
              "visible": [
               false,
               false,
               false,
               false,
               false,
               false,
               true,
               true,
               true
              ]
             }
            ],
            "label": "Gaussian",
            "method": "update"
           }
          ],
          "x": 0.98,
          "y": 1.1
         }
        ],
        "width": 580,
        "xaxis": {
         "dtick": 1,
         "linecolor": "black",
         "linewidth": 2,
         "range": [
          2,
          5
         ],
         "showline": true,
         "ticktext": [
          "10<sup>2</sup>",
          "10<sup>3</sup>",
          "10<sup>4</sup>",
          "10<sup>5</sup>"
         ],
         "tickvals": [
          100,
          1000,
          10000,
          100000
         ],
         "type": "log"
        },
        "yaxis": {
         "linecolor": "black",
         "linewidth": 2,
         "showline": true
        }
       }
      },
      "text/html": [
       "<div>                            <div id=\"fa2a0157-2338-4fbb-a731-f63e53fcb1ae\" class=\"plotly-graph-div\" style=\"height:450px; width:580px;\"></div>            <script type=\"text/javascript\">                require([\"plotly\"], function(Plotly) {                    window.PLOTLYENV=window.PLOTLYENV || {};                                    if (document.getElementById(\"fa2a0157-2338-4fbb-a731-f63e53fcb1ae\")) {                    Plotly.newPlot(                        \"fa2a0157-2338-4fbb-a731-f63e53fcb1ae\",                        [{\"hovertemplate\":\"Fitted curve (angle = 142)\\u003cbr\\u003eM\\u003csub\\u003ez\\u003c\\u002fsub\\u003e = %{y}\\u003cbr\\u003eOffset = %{x} Hz\\u003cextra\\u003e\\u003c\\u002fextra\\u003e\",\"line\":{\"color\":\"firebrick\"},\"mode\":\"lines\",\"name\":\"Fitted curve (angle = 142)\",\"visible\":true,\"x\":[100.0,221.5,343.0,443.0,543.0,765.5,988.0,1088.0,1188.0,1910.0,2632.0,2732.0,2832.0,4797.0,6762.0,6862.0,6962.0,12048.5,17135.0,17235.0,17335.0,18235.0],\"y\":[0.008813726425223186,0.37343447696210635,0.6610938327892172,0.7199791813847203,0.7513422491517757,0.7848775846900953,0.8008618331869922,0.8058661063271711,0.8101648894800186,0.8402396928424347,0.8654618056194635,0.868439773234378,0.8713245002893902,0.915442841636216,0.9451162255894823,0.9463530668898814,0.9475664472654632,0.985052328418574,0.9958130103343505,0.995911365194335,0.9960071877695557,0.9967669381232114],\"type\":\"scatter\"},{\"hovertemplate\":\"Fitted curve (angle = 426)\\u003cbr\\u003eM\\u003csub\\u003ez\\u003c\\u002fsub\\u003e = %{y}\\u003cbr\\u003eOffset = %{x} Hz\\u003cextra\\u003e\\u003c\\u002fextra\\u003e\",\"line\":{\"color\":\"royalblue\"},\"mode\":\"lines\",\"name\":\"Fitted curve (angle = 426)\",\"visible\":true,\"x\":[100.0,221.5,343.0,443.0,543.0,765.5,988.0,1088.0,1188.0,1910.0,2632.0,2732.0,2832.0,4797.0,6762.0,6862.0,6962.0,12048.5,17135.0,17235.0,17335.0,18235.0],\"y\":[0.02072946310600699,0.0795215283221416,0.23644933763830436,0.28572380143123816,0.31597055609720837,0.360231191142515,0.3862028584236417,0.3946817277607403,0.40192284552376417,0.4468384300060341,0.48633117932554853,0.49140335768294585,0.4964183720307222,0.5904553969099567,0.6828354898211059,0.6874619526545536,0.692074135487011,0.8831708108604882,0.9638436932114943,0.9646591961670091,0.965455218872067,0.9718197187349694],\"type\":\"scatter\"},{\"hovertemplate\":\"Raw data\\u003cbr\\u003eM\\u003csub\\u003ez\\u003c\\u002fsub\\u003e = %{y}\\u003cbr\\u003eOffset = %{x} Hz\\u003cextra\\u003e\\u003c\\u002fextra\\u003e\",\"line\":{\"color\":\"darkslategray\"},\"mode\":\"markers\",\"name\":\"Raw data\",\"visible\":true,\"x\":[443.0,443.0,1088.0,1088.0,2732.0,2732.0,6862.0,6862.0,17235.0,17235.0],\"y\":[0.7198512301443871,0.28527814427249487,0.8058247094225103,0.394538939895933,0.8666946828666708,0.4919464066533335,0.9458777961703054,0.6870291667105725,0.9956037124638679,0.9641230723731966],\"type\":\"scatter\"},{\"hovertemplate\":\"Fitted curve (angle = 142)\\u003cbr\\u003eM\\u003csub\\u003ez\\u003c\\u002fsub\\u003e = %{y}\\u003cbr\\u003eOffset = %{x} Hz\\u003cextra\\u003e\\u003c\\u002fextra\\u003e\",\"line\":{\"color\":\"firebrick\"},\"mode\":\"lines\",\"name\":\"Fitted curve (angle = 142)\",\"visible\":false,\"x\":[100.0,221.5,343.0,443.0,543.0,765.5,988.0,1088.0,1188.0,1910.0,2632.0,2732.0,2832.0,4797.0,6762.0,6862.0,6962.0,12048.5,17135.0,17235.0,17335.0,18235.0],\"y\":[0.00891034403105526,0.3995247477393032,0.7409239894257367,0.8142956636422309,0.8534032633603168,0.8938425779022307,0.9108822333560096,0.9154619835076663,0.9189795352448058,0.9308610594677456,0.9353839950996347,0.9358418686741242,0.9362781909205519,0.9432424515815218,0.94985077019896,0.9501885105306999,0.9505260372756261,0.9662334701873027,0.9772410312632461,0.9774113965606668,0.9775801939466912,0.9790311277326624],\"type\":\"scatter\"},{\"hovertemplate\":\"Fitted curve (angle = 426)\\u003cbr\\u003eM\\u003csub\\u003ez\\u003c\\u002fsub\\u003e = %{y}\\u003cbr\\u003eOffset = %{x} Hz\\u003cextra\\u003e\\u003c\\u002fextra\\u003e\",\"line\":{\"color\":\"royalblue\"},\"mode\":\"lines\",\"name\":\"Fitted curve (angle = 426)\",\"visible\":false,\"x\":[100.0,221.5,343.0,443.0,543.0,765.5,988.0,1088.0,1188.0,1910.0,2632.0,2732.0,2832.0,4797.0,6762.0,6862.0,6962.0,12048.5,17135.0,17235.0,17335.0,18235.0],\"y\":[0.02206798027093326,0.08863031193194656,0.30111697799246795,0.38046980078000725,0.43237455488484905,0.5118178964120413,0.5582334701217911,0.5725978048037556,0.5842341057169589,0.6277815936465259,0.6455427974656768,0.6473279301391159,0.649021699376939,0.6753716128768276,0.7008953692877316,0.7022458542897788,0.7036008103410339,0.7738260053701286,0.8337040711586933,0.8347162429063589,0.8357219201412155,0.8444837014327549],\"type\":\"scatter\"},{\"hovertemplate\":\"Raw data\\u003cbr\\u003eM\\u003csub\\u003ez\\u003c\\u002fsub\\u003e = %{y}\\u003cbr\\u003eOffset = %{x} Hz\\u003cextra\\u003e\\u003c\\u002fextra\\u003e\",\"line\":{\"color\":\"darkslategray\"},\"mode\":\"markers\",\"name\":\"Raw data\",\"visible\":false,\"x\":[443.0,443.0,1088.0,1088.0,2732.0,2732.0,6862.0,6862.0,17235.0,17235.0],\"y\":[0.8142689731403137,0.37950935761938115,0.9173166287428104,0.5739899084269897,0.9358679334899276,0.6459982625890102,0.9500031920696281,0.7022815655450371,0.9779590418519898,0.834682988854354],\"type\":\"scatter\"},{\"hovertemplate\":\"Fitted curve (angle = 142)\\u003cbr\\u003eM\\u003csub\\u003ez\\u003c\\u002fsub\\u003e = %{y}\\u003cbr\\u003eOffset = %{x} Hz\\u003cextra\\u003e\\u003c\\u002fextra\\u003e\",\"line\":{\"color\":\"firebrick\"},\"mode\":\"lines\",\"name\":\"Fitted curve (angle = 142)\",\"visible\":false,\"x\":[100.0,221.5,343.0,443.0,543.0,765.5,988.0,1088.0,1188.0,1910.0,2632.0,2732.0,2832.0,4797.0,6762.0,6862.0,6962.0,12048.5,17135.0,17235.0,17335.0,18235.0],\"y\":[0.00890021883771251,0.39663934583032356,0.7316707736604597,0.8032026284464518,0.8412551420163539,0.8805282783628192,0.8970244273018898,0.901442429962131,0.9048260243125212,0.9160597309029904,0.9200437992083287,0.920425466820645,0.9207849264992692,0.9261801755219731,0.9315674579377606,0.9318645511215873,0.9321640143685207,0.9498857295611755,0.9686993523130494,0.9690421393014393,0.9693832728482406,0.9723748850546639],\"type\":\"scatter\"},{\"hovertemplate\":\"Fitted curve (angle = 426)\\u003cbr\\u003eM\\u003csub\\u003ez\\u003c\\u002fsub\\u003e = %{y}\\u003cbr\\u003eOffset = %{x} Hz\\u003cextra\\u003e\\u003c\\u002fextra\\u003e\",\"line\":{\"color\":\"royalblue\"},\"mode\":\"lines\",\"name\":\"Fitted curve (angle = 426)\",\"visible\":false,\"x\":[100.0,221.5,343.0,443.0,543.0,765.5,988.0,1088.0,1188.0,1910.0,2632.0,2732.0,2832.0,4797.0,6762.0,6862.0,6962.0,12048.5,17135.0,17235.0,17335.0,18235.0],\"y\":[0.021879751048764464,0.08729472168293209,0.29045862600728867,0.3641831950541362,0.41178306844310036,0.48366382780532136,0.5250582312474853,0.5377546158995316,0.5479870089661871,0.5854577797504733,0.5996460087568636,0.600987833399762,0.6022430841335396,0.6199597089724168,0.636872324116505,0.637818528062186,0.6387746622721161,0.7014564646968547,0.7864177801942844,0.7881953984176869,0.7899738532849223,0.8059839633054418],\"type\":\"scatter\"},{\"hovertemplate\":\"Raw data\\u003cbr\\u003eM\\u003csub\\u003ez\\u003c\\u002fsub\\u003e = %{y}\\u003cbr\\u003eOffset = %{x} Hz\\u003cextra\\u003e\\u003c\\u002fextra\\u003e\",\"line\":{\"color\":\"darkslategray\"},\"mode\":\"markers\",\"name\":\"Raw data\",\"visible\":false,\"x\":[443.0,443.0,1088.0,1088.0,2732.0,2732.0,6862.0,6862.0,17235.0,17235.0],\"y\":[0.8031380432576933,0.3640810313258787,0.9002944440799832,0.5372693624986837,0.9177197003836047,0.6001606918294244,0.9323123495505548,0.6371288099462531,0.9678804801786786,0.7864842513358085],\"type\":\"scatter\"}],                        {\"annotations\":[{\"font\":{\"family\":\"Times New Roman\",\"size\":22},\"showarrow\":false,\"text\":\"Absorption lineshape: \",\"x\":0.35,\"xref\":\"paper\",\"y\":1.1,\"yref\":\"paper\"},{\"font\":{\"family\":\"Times New Roman\",\"size\":22},\"showarrow\":false,\"text\":\"Frequency offset \\u0394 (Hz)\",\"x\":0.5004254919715793,\"xref\":\"paper\",\"y\":-0.2,\"yref\":\"paper\"},{\"font\":{\"family\":\"Times New Roman\",\"size\":22},\"showarrow\":false,\"text\":\"Magnetization |M\\u003csub\\u003ez\\u003c\\u002fsub\\u003e|\",\"textangle\":-90,\"x\":-0.2,\"xref\":\"paper\",\"y\":0.5,\"yref\":\"paper\"}],\"height\":450,\"legend\":{\"bordercolor\":\"#000000\",\"borderwidth\":2,\"font\":{\"color\":\"#000\",\"family\":\"Times New Roman\",\"size\":12},\"traceorder\":\"normal\",\"x\":0.55,\"y\":0.1},\"margin\":{\"b\":80,\"l\":120,\"r\":80,\"t\":40},\"plot_bgcolor\":\"rgba(0,0,0,0)\",\"template\":{\"data\":{\"barpolar\":[{\"marker\":{\"line\":{\"color\":\"#E5ECF6\",\"width\":0.5},\"pattern\":{\"fillmode\":\"overlay\",\"size\":10,\"solidity\":0.2}},\"type\":\"barpolar\"}],\"bar\":[{\"error_x\":{\"color\":\"#2a3f5f\"},\"error_y\":{\"color\":\"#2a3f5f\"},\"marker\":{\"line\":{\"color\":\"#E5ECF6\",\"width\":0.5},\"pattern\":{\"fillmode\":\"overlay\",\"size\":10,\"solidity\":0.2}},\"type\":\"bar\"}],\"carpet\":[{\"aaxis\":{\"endlinecolor\":\"#2a3f5f\",\"gridcolor\":\"white\",\"linecolor\":\"white\",\"minorgridcolor\":\"white\",\"startlinecolor\":\"#2a3f5f\"},\"baxis\":{\"endlinecolor\":\"#2a3f5f\",\"gridcolor\":\"white\",\"linecolor\":\"white\",\"minorgridcolor\":\"white\",\"startlinecolor\":\"#2a3f5f\"},\"type\":\"carpet\"}],\"choropleth\":[{\"colorbar\":{\"outlinewidth\":0,\"ticks\":\"\"},\"type\":\"choropleth\"}],\"contourcarpet\":[{\"colorbar\":{\"outlinewidth\":0,\"ticks\":\"\"},\"type\":\"contourcarpet\"}],\"contour\":[{\"colorbar\":{\"outlinewidth\":0,\"ticks\":\"\"},\"colorscale\":[[0.0,\"#0d0887\"],[0.1111111111111111,\"#46039f\"],[0.2222222222222222,\"#7201a8\"],[0.3333333333333333,\"#9c179e\"],[0.4444444444444444,\"#bd3786\"],[0.5555555555555556,\"#d8576b\"],[0.6666666666666666,\"#ed7953\"],[0.7777777777777778,\"#fb9f3a\"],[0.8888888888888888,\"#fdca26\"],[1.0,\"#f0f921\"]],\"type\":\"contour\"}],\"heatmapgl\":[{\"colorbar\":{\"outlinewidth\":0,\"ticks\":\"\"},\"colorscale\":[[0.0,\"#0d0887\"],[0.1111111111111111,\"#46039f\"],[0.2222222222222222,\"#7201a8\"],[0.3333333333333333,\"#9c179e\"],[0.4444444444444444,\"#bd3786\"],[0.5555555555555556,\"#d8576b\"],[0.6666666666666666,\"#ed7953\"],[0.7777777777777778,\"#fb9f3a\"],[0.8888888888888888,\"#fdca26\"],[1.0,\"#f0f921\"]],\"type\":\"heatmapgl\"}],\"heatmap\":[{\"colorbar\":{\"outlinewidth\":0,\"ticks\":\"\"},\"colorscale\":[[0.0,\"#0d0887\"],[0.1111111111111111,\"#46039f\"],[0.2222222222222222,\"#7201a8\"],[0.3333333333333333,\"#9c179e\"],[0.4444444444444444,\"#bd3786\"],[0.5555555555555556,\"#d8576b\"],[0.6666666666666666,\"#ed7953\"],[0.7777777777777778,\"#fb9f3a\"],[0.8888888888888888,\"#fdca26\"],[1.0,\"#f0f921\"]],\"type\":\"heatmap\"}],\"histogram2dcontour\":[{\"colorbar\":{\"outlinewidth\":0,\"ticks\":\"\"},\"colorscale\":[[0.0,\"#0d0887\"],[0.1111111111111111,\"#46039f\"],[0.2222222222222222,\"#7201a8\"],[0.3333333333333333,\"#9c179e\"],[0.4444444444444444,\"#bd3786\"],[0.5555555555555556,\"#d8576b\"],[0.6666666666666666,\"#ed7953\"],[0.7777777777777778,\"#fb9f3a\"],[0.8888888888888888,\"#fdca26\"],[1.0,\"#f0f921\"]],\"type\":\"histogram2dcontour\"}],\"histogram2d\":[{\"colorbar\":{\"outlinewidth\":0,\"ticks\":\"\"},\"colorscale\":[[0.0,\"#0d0887\"],[0.1111111111111111,\"#46039f\"],[0.2222222222222222,\"#7201a8\"],[0.3333333333333333,\"#9c179e\"],[0.4444444444444444,\"#bd3786\"],[0.5555555555555556,\"#d8576b\"],[0.6666666666666666,\"#ed7953\"],[0.7777777777777778,\"#fb9f3a\"],[0.8888888888888888,\"#fdca26\"],[1.0,\"#f0f921\"]],\"type\":\"histogram2d\"}],\"histogram\":[{\"marker\":{\"pattern\":{\"fillmode\":\"overlay\",\"size\":10,\"solidity\":0.2}},\"type\":\"histogram\"}],\"mesh3d\":[{\"colorbar\":{\"outlinewidth\":0,\"ticks\":\"\"},\"type\":\"mesh3d\"}],\"parcoords\":[{\"line\":{\"colorbar\":{\"outlinewidth\":0,\"ticks\":\"\"}},\"type\":\"parcoords\"}],\"pie\":[{\"automargin\":true,\"type\":\"pie\"}],\"scatter3d\":[{\"line\":{\"colorbar\":{\"outlinewidth\":0,\"ticks\":\"\"}},\"marker\":{\"colorbar\":{\"outlinewidth\":0,\"ticks\":\"\"}},\"type\":\"scatter3d\"}],\"scattercarpet\":[{\"marker\":{\"colorbar\":{\"outlinewidth\":0,\"ticks\":\"\"}},\"type\":\"scattercarpet\"}],\"scattergeo\":[{\"marker\":{\"colorbar\":{\"outlinewidth\":0,\"ticks\":\"\"}},\"type\":\"scattergeo\"}],\"scattergl\":[{\"marker\":{\"colorbar\":{\"outlinewidth\":0,\"ticks\":\"\"}},\"type\":\"scattergl\"}],\"scattermapbox\":[{\"marker\":{\"colorbar\":{\"outlinewidth\":0,\"ticks\":\"\"}},\"type\":\"scattermapbox\"}],\"scatterpolargl\":[{\"marker\":{\"colorbar\":{\"outlinewidth\":0,\"ticks\":\"\"}},\"type\":\"scatterpolargl\"}],\"scatterpolar\":[{\"marker\":{\"colorbar\":{\"outlinewidth\":0,\"ticks\":\"\"}},\"type\":\"scatterpolar\"}],\"scatter\":[{\"fillpattern\":{\"fillmode\":\"overlay\",\"size\":10,\"solidity\":0.2},\"type\":\"scatter\"}],\"scatterternary\":[{\"marker\":{\"colorbar\":{\"outlinewidth\":0,\"ticks\":\"\"}},\"type\":\"scatterternary\"}],\"surface\":[{\"colorbar\":{\"outlinewidth\":0,\"ticks\":\"\"},\"colorscale\":[[0.0,\"#0d0887\"],[0.1111111111111111,\"#46039f\"],[0.2222222222222222,\"#7201a8\"],[0.3333333333333333,\"#9c179e\"],[0.4444444444444444,\"#bd3786\"],[0.5555555555555556,\"#d8576b\"],[0.6666666666666666,\"#ed7953\"],[0.7777777777777778,\"#fb9f3a\"],[0.8888888888888888,\"#fdca26\"],[1.0,\"#f0f921\"]],\"type\":\"surface\"}],\"table\":[{\"cells\":{\"fill\":{\"color\":\"#EBF0F8\"},\"line\":{\"color\":\"white\"}},\"header\":{\"fill\":{\"color\":\"#C8D4E3\"},\"line\":{\"color\":\"white\"}},\"type\":\"table\"}]},\"layout\":{\"annotationdefaults\":{\"arrowcolor\":\"#2a3f5f\",\"arrowhead\":0,\"arrowwidth\":1},\"autotypenumbers\":\"strict\",\"coloraxis\":{\"colorbar\":{\"outlinewidth\":0,\"ticks\":\"\"}},\"colorscale\":{\"diverging\":[[0,\"#8e0152\"],[0.1,\"#c51b7d\"],[0.2,\"#de77ae\"],[0.3,\"#f1b6da\"],[0.4,\"#fde0ef\"],[0.5,\"#f7f7f7\"],[0.6,\"#e6f5d0\"],[0.7,\"#b8e186\"],[0.8,\"#7fbc41\"],[0.9,\"#4d9221\"],[1,\"#276419\"]],\"sequential\":[[0.0,\"#0d0887\"],[0.1111111111111111,\"#46039f\"],[0.2222222222222222,\"#7201a8\"],[0.3333333333333333,\"#9c179e\"],[0.4444444444444444,\"#bd3786\"],[0.5555555555555556,\"#d8576b\"],[0.6666666666666666,\"#ed7953\"],[0.7777777777777778,\"#fb9f3a\"],[0.8888888888888888,\"#fdca26\"],[1.0,\"#f0f921\"]],\"sequentialminus\":[[0.0,\"#0d0887\"],[0.1111111111111111,\"#46039f\"],[0.2222222222222222,\"#7201a8\"],[0.3333333333333333,\"#9c179e\"],[0.4444444444444444,\"#bd3786\"],[0.5555555555555556,\"#d8576b\"],[0.6666666666666666,\"#ed7953\"],[0.7777777777777778,\"#fb9f3a\"],[0.8888888888888888,\"#fdca26\"],[1.0,\"#f0f921\"]]},\"colorway\":[\"#636efa\",\"#EF553B\",\"#00cc96\",\"#ab63fa\",\"#FFA15A\",\"#19d3f3\",\"#FF6692\",\"#B6E880\",\"#FF97FF\",\"#FECB52\"],\"font\":{\"color\":\"#2a3f5f\"},\"geo\":{\"bgcolor\":\"white\",\"lakecolor\":\"white\",\"landcolor\":\"#E5ECF6\",\"showlakes\":true,\"showland\":true,\"subunitcolor\":\"white\"},\"hoverlabel\":{\"align\":\"left\"},\"hovermode\":\"closest\",\"mapbox\":{\"style\":\"light\"},\"paper_bgcolor\":\"white\",\"plot_bgcolor\":\"#E5ECF6\",\"polar\":{\"angularaxis\":{\"gridcolor\":\"white\",\"linecolor\":\"white\",\"ticks\":\"\"},\"bgcolor\":\"#E5ECF6\",\"radialaxis\":{\"gridcolor\":\"white\",\"linecolor\":\"white\",\"ticks\":\"\"}},\"scene\":{\"xaxis\":{\"backgroundcolor\":\"#E5ECF6\",\"gridcolor\":\"white\",\"gridwidth\":2,\"linecolor\":\"white\",\"showbackground\":true,\"ticks\":\"\",\"zerolinecolor\":\"white\"},\"yaxis\":{\"backgroundcolor\":\"#E5ECF6\",\"gridcolor\":\"white\",\"gridwidth\":2,\"linecolor\":\"white\",\"showbackground\":true,\"ticks\":\"\",\"zerolinecolor\":\"white\"},\"zaxis\":{\"backgroundcolor\":\"#E5ECF6\",\"gridcolor\":\"white\",\"gridwidth\":2,\"linecolor\":\"white\",\"showbackground\":true,\"ticks\":\"\",\"zerolinecolor\":\"white\"}},\"shapedefaults\":{\"line\":{\"color\":\"#2a3f5f\"}},\"ternary\":{\"aaxis\":{\"gridcolor\":\"white\",\"linecolor\":\"white\",\"ticks\":\"\"},\"baxis\":{\"gridcolor\":\"white\",\"linecolor\":\"white\",\"ticks\":\"\"},\"bgcolor\":\"#E5ECF6\",\"caxis\":{\"gridcolor\":\"white\",\"linecolor\":\"white\",\"ticks\":\"\"}},\"title\":{\"x\":0.05},\"xaxis\":{\"automargin\":true,\"gridcolor\":\"white\",\"linecolor\":\"white\",\"ticks\":\"\",\"title\":{\"standoff\":15},\"zerolinecolor\":\"white\",\"zerolinewidth\":2},\"yaxis\":{\"automargin\":true,\"gridcolor\":\"white\",\"linecolor\":\"white\",\"ticks\":\"\",\"title\":{\"standoff\":15},\"zerolinecolor\":\"white\",\"zerolinewidth\":2}}},\"updatemenus\":[{\"active\":0,\"buttons\":[{\"args\":[{\"visible\":[true,true,true,false,false,false,false,false,false]}],\"label\":\"Super-Lorentzian\",\"method\":\"update\"},{\"args\":[{\"visible\":[false,false,false,true,true,true,false,false,false]}],\"label\":\"Lorentzian\",\"method\":\"update\"},{\"args\":[{\"visible\":[false,false,false,false,false,false,true,true,true]}],\"label\":\"Gaussian\",\"method\":\"update\"}],\"x\":0.98,\"y\":1.1}],\"width\":580,\"xaxis\":{\"dtick\":1,\"linecolor\":\"black\",\"linewidth\":2,\"range\":[2,5],\"showline\":true,\"ticktext\":[\"10\\u003csup\\u003e2\\u003c\\u002fsup\\u003e\",\"10\\u003csup\\u003e3\\u003c\\u002fsup\\u003e\",\"10\\u003csup\\u003e4\\u003c\\u002fsup\\u003e\",\"10\\u003csup\\u003e5\\u003c\\u002fsup\\u003e\"],\"tickvals\":[100,1000,10000,100000],\"type\":\"log\"},\"yaxis\":{\"linecolor\":\"black\",\"linewidth\":2,\"showline\":true}},                        {\"displayModeBar\": false, \"responsive\": true}                    ).then(function(){\n",
       "                            \n",
       "var gd = document.getElementById('fa2a0157-2338-4fbb-a731-f63e53fcb1ae');\n",
       "var x = new MutationObserver(function (mutations, observer) {{\n",
       "        var display = window.getComputedStyle(gd).display;\n",
       "        if (!display || display === 'none') {{\n",
       "            console.log([gd, 'removed!']);\n",
       "            Plotly.purge(gd);\n",
       "            observer.disconnect();\n",
       "        }}\n",
       "}});\n",
       "\n",
       "// Listen for the removal of the full notebook cells\n",
       "var notebookContainer = gd.closest('#notebook-container');\n",
       "if (notebookContainer) {{\n",
       "    x.observe(notebookContainer, {childList: true});\n",
       "}}\n",
       "\n",
       "// Listen for the clearing of the current output cell\n",
       "var outputEl = gd.closest('.output');\n",
       "if (outputEl) {{\n",
       "    x.observe(outputEl, {childList: true});\n",
       "}}\n",
       "\n",
       "                        })                };                });            </script>        </div>"
      ]
     },
     "metadata": {},
     "output_type": "display_data"
    }
   ],
   "source": [
    "#| label: qmtFig2jn\n",
    "\n",
    "import scipy\n",
    "import scipy.io as sio\n",
    "from pathlib import Path\n",
    "import numpy as np\n",
    "\n",
    "data_dir = Path(\"../../../data/06-MT-01-qMT\")\n",
    "\n",
    "\n",
    "# Simulations have been performed and the results have been saved in the folder results.\n",
    "dataSim_lineshape_mat = scipy.io.loadmat(data_dir / 'qMT_tutorial-ISMRM2022-main' / 'results/dataSim_lineshape.mat')\n",
    "dataRaw_lineshape_mat = scipy.io.loadmat(data_dir / 'qMT_tutorial-ISMRM2022-main' / 'results/dataRaw_lineshape.mat')\n",
    "dataSim_lineshape = np.array(dataSim_lineshape_mat[\"dataSim_lineshape\"])\n",
    "dataRaw_lineshape = np.array(dataRaw_lineshape_mat[\"dataRaw_lineshape\"])\n",
    "\n",
    "\n",
    "import matplotlib.pyplot as plt\n",
    "from PIL import Image\n",
    "from matplotlib.image import imread\n",
    "import scipy.io\n",
    "import plotly\n",
    "from plotly.subplots import make_subplots\n",
    "import plotly.graph_objs as go\n",
    "import numpy as np\n",
    "from plotly import __version__\n",
    "from plotly.offline import download_plotlyjs, init_notebook_mode, plot, iplot\n",
    "config={'showLink': False, 'displayModeBar': False}\n",
    "\n",
    "init_notebook_mode(connected=True)\n",
    "\n",
    "absorption_lineshape = [\"Super-Lorentzian\", \"Lorentzian\", \"Gaussian\"]\n",
    "\n",
    "fig = go.Figure()\n",
    "\n",
    "#Add traces (three traces per fitting model)\n",
    "for ii in range(len(absorption_lineshape)):\n",
    "    if ii==0:\n",
    "        vis = True\n",
    "    else:\n",
    "        vis = False\n",
    "        \n",
    "    fig.add_trace(go.Scatter(x=dataSim_lineshape[:,0,0], y=dataSim_lineshape[:,1,ii],\n",
    "                             name=\"Fitted curve (angle = 142)\", mode='lines', line=dict(color=\"firebrick\"), visible = vis,\n",
    "                             hovertemplate=\"Fitted curve (angle = 142)<br>M<sub>z</sub> = %{y}<br>Offset = %{x} Hz<extra></extra>\"))\n",
    "    \n",
    "    fig.add_trace(go.Scatter(x=dataSim_lineshape[:,0,0], y=dataSim_lineshape[:,2,ii],\n",
    "                             name=\"Fitted curve (angle = 426)\", mode='lines', line=dict(color=\"royalblue\"), visible = vis,\n",
    "                             hovertemplate=\"Fitted curve (angle = 426)<br>M<sub>z</sub> = %{y}<br>Offset = %{x} Hz<extra></extra>\"))\n",
    "    \n",
    "    fig.add_trace(go.Scatter(x=dataRaw_lineshape[:,0,0], y=dataRaw_lineshape[:,1,ii],\n",
    "                             name=\"Raw data\", mode='markers', line=dict(color=\"darkslategray\"), visible = vis,\n",
    "                             hovertemplate=\"Raw data<br>M<sub>z</sub> = %{y}<br>Offset = %{x} Hz<extra></extra>\"))\n",
    "\n",
    "buttons = []\n",
    "for i, label in enumerate(absorption_lineshape):\n",
    "    visibility = [False] * 9\n",
    "    for j in range(3):\n",
    "        visibility[3*i+j] = True\n",
    "    button = dict(\n",
    "                label =  label,\n",
    "                method = 'update',\n",
    "                args = [{'visible': visibility}])\n",
    "    buttons.append(button)\n",
    "        \n",
    "updatemenus = list([\n",
    "    dict(active=0,\n",
    "         x=0.98,\n",
    "         y=1.1,\n",
    "         buttons=buttons\n",
    "    )\n",
    "])\n",
    "\n",
    "fig['layout']['updatemenus'] = updatemenus\n",
    "\n",
    "fig.update_layout(height=450, width=580, plot_bgcolor='rgba(0,0,0,0)',\n",
    "                 margin=go.layout.Margin(\n",
    "                     l=120,\n",
    "                     r=80,\n",
    "                     b=80,\n",
    "                     t=40,\n",
    "                     )\n",
    "                 )\n",
    "fig.update_layout(legend=dict(\n",
    "        x=0.55,\n",
    "        y=0.1,\n",
    "        traceorder='normal',\n",
    "        font=dict(\n",
    "            family='Times New Roman',\n",
    "            size=12,\n",
    "            color='#000'\n",
    "        ),\n",
    "        bordercolor='#000000',\n",
    "        borderwidth=2),\n",
    "    annotations=[\n",
    "        dict(\n",
    "            x=0.35,\n",
    "            y=1.1,\n",
    "            showarrow=False,\n",
    "            text='Absorption lineshape: ',\n",
    "            font=dict(\n",
    "                family='Times New Roman',\n",
    "                size=22\n",
    "            ),\n",
    "            xref='paper',\n",
    "            yref='paper'\n",
    "        ),\n",
    "        dict(\n",
    "            x=0.5004254919715793,\n",
    "            y=-0.2,\n",
    "            showarrow=False,\n",
    "            text='Frequency offset \\u0394 (Hz)',\n",
    "            font=dict(\n",
    "                family='Times New Roman',\n",
    "                size=22\n",
    "            ),\n",
    "            xref='paper',\n",
    "            yref='paper'\n",
    "        ),\n",
    "        dict(\n",
    "            x=-0.2,\n",
    "            y=0.5,\n",
    "            showarrow=False,\n",
    "            text='Magnetization |M<sub>z</sub>|',\n",
    "            font=dict(\n",
    "                family='Times New Roman',\n",
    "                size=22\n",
    "            ),\n",
    "            textangle=-90,\n",
    "            xref='paper',\n",
    "            yref='paper'\n",
    "        ),\n",
    "    ])\n",
    "\n",
    "fig.update_xaxes(type=\"log\", range=[2,5], showline=True, linewidth=2, linecolor='black', dtick=1, tickvals=[100,1000,10000,100000], ticktext=[\"10<sup>2</sup>\",\"10<sup>3</sup>\",\"10<sup>4</sup>\",\"10<sup>5</sup>\"])\n",
    "fig.update_yaxes(showline=True, linewidth=2, linecolor='black')\n",
    "\n",
    "iplot(fig, filename='dropdown', config=config)"
   ]
  }
 ],
 "metadata": {
  "kernelspec": {
   "display_name": "Python 3",
   "language": "python",
   "name": "python3"
  },
  "language_info": {
   "codemirror_mode": {
    "name": "ipython",
    "version": 3
   },
   "file_extension": ".py",
   "mimetype": "text/x-python",
   "name": "python",
   "nbconvert_exporter": "python",
   "pygments_lexer": "ipython3",
   "version": "3.12.2"
  }
 },
 "nbformat": 4,
 "nbformat_minor": 2
}
