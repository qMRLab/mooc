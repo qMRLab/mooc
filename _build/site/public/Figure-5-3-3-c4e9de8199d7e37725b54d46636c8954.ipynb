{
 "cells": [
  {
   "cell_type": "code",
   "execution_count": 2,
   "metadata": {},
   "outputs": [
    {
     "data": {
      "text/html": [
       "\n",
       "        <iframe\n",
       "            width=\"100%\"\n",
       "            height=\"650\"\n",
       "            src=\"http://127.0.0.1:8050/\"\n",
       "            frameborder=\"0\"\n",
       "            allowfullscreen\n",
       "            \n",
       "        ></iframe>\n",
       "        "
      ],
      "text/plain": [
       "<IPython.lib.display.IFrame at 0x13d0ef410>"
      ]
     },
     "metadata": {},
     "output_type": "display_data"
    }
   ],
   "source": [
    "#| label: b0Fig12jn\n",
    "\n",
    "# Prepare Python environment\n",
    "import numpy as np\n",
    "import plotly.express as px\n",
    "import os\n",
    "import nibabel as nib\n",
    "import numpy as np\n",
    "from plotly.subplots import make_subplots\n",
    "import plotly.graph_objects as go\n",
    "import math\n",
    "from sklearn.linear_model import LinearRegression\n",
    "from dash import Dash, dcc, html\n",
    "import pandas as pd\n",
    "PI_UNICODE = \"\\U0001D70B\"\n",
    "GYRO_BAR_RATIO_H = 42.6e6  # [Hz/T]\n",
    "import dash\n",
    "import dash_bootstrap_components as dbc\n",
    "from dash import Dash, html, dcc\n",
    "import plotly.express as px\n",
    "\n",
    "t = np.linspace(0, 3, 1001)\n",
    "y_unwrapped = t + t**2 - 3 * t**3 + t**4\n",
    "y_wrapped = np.mod(y_unwrapped, 2 * math.pi);\n",
    "\n",
    "y_delta = y_unwrapped.max() - y_unwrapped.min()\n",
    "min_y = y_unwrapped.min() - 2 * math.pi - y_delta * 0.05\n",
    "max_y = y_unwrapped.max() + 2 * math.pi + y_delta * 0.05\n",
    "\n",
    "fig1 = go.Figure()\n",
    "fig1.add_trace(go.Scatter(x=t, y=y_wrapped,\n",
    "                          mode='lines',\n",
    "                          name='Wrapped  '))\n",
    "fig1.update_layout(title_text=\"Wrapped\", title_x=0.25, showlegend=True,\n",
    "                   legend={\"x\": 0.03, \"y\": 0.95})\n",
    "fig1.update_yaxes(range=[min_y, max_y], title_text=\"rad\", tickmode = 'array',\n",
    "                  tickvals = [-2*math.pi, -math.pi, 0, math.pi, 2*math.pi, 3*math.pi, 4*math.pi, 5*math.pi],\n",
    "                  ticktext = [f'-2{PI_UNICODE}', f'-{PI_UNICODE}', '0', f'{PI_UNICODE}', f'2{PI_UNICODE}', f'3{PI_UNICODE}', f'4{PI_UNICODE}', f'5{PI_UNICODE}'])\n",
    "fig1.update_xaxes(fixedrange=True)\n",
    "fig1.update_yaxes(fixedrange=True)\n",
    "\n",
    "fig2 = go.Figure()\n",
    "fig2.add_trace(go.Scatter(x=t, y=y_unwrapped,\n",
    "                          mode='lines',\n",
    "                          name='Solution 1', showlegend=True))\n",
    "fig2.add_trace(go.Scatter(x=t, y=y_unwrapped+2*math.pi,\n",
    "                          mode='lines',\n",
    "                          name='Solution 2', showlegend=True))\n",
    "fig2.add_trace(go.Scatter(x=t, y=y_unwrapped-2*math.pi,\n",
    "                          mode='lines',\n",
    "                          name='Solution 3', showlegend=True))\n",
    "fig2.update_layout(title_text=\"Unwrapped\", title_x=0.75,\n",
    "                   legend={\"x\": 0.85, \"y\": 0.95})\n",
    "fig2.update_yaxes(range=[min_y, max_y], title_text=\"rad\", tickmode = 'array',\n",
    "                  tickvals = [-2*math.pi, -math.pi, 0, math.pi, 2*math.pi, 3*math.pi, 4*math.pi, 5*math.pi],\n",
    "                  ticktext = [f'-2{PI_UNICODE}', f'-{PI_UNICODE}', '0', f'{PI_UNICODE}', f'2{PI_UNICODE}', f'3{PI_UNICODE}', f'4{PI_UNICODE}', f'5{PI_UNICODE}'])\n",
    "fig2.update_xaxes(fixedrange=True)\n",
    "fig2.update_yaxes(fixedrange=True)\n",
    "app = Dash(\n",
    "    __name__,\n",
    "    external_stylesheets=[dbc.themes.BOOTSTRAP, dbc.icons.FONT_AWESOME],\n",
    "    external_scripts=[{'src':\"https://ajax.googleapis.com/ajax/libs/jquery/3.6.0/jquery.min.js\"}]\n",
    ")\n",
    "\n",
    "def beforeAfterSlide(fig1, fig2, style=None):\n",
    "    bfA = []\n",
    "    if not style:\n",
    "        style = {'width':'100vw', 'height':'100vh'}\n",
    "    for key in style:\n",
    "        if '%' in style[key]:\n",
    "            if key in ['width', 'left']:\n",
    "                style[key] = style[key].replace('%','vw')\n",
    "            if key in ['top', 'height']:\n",
    "                style[key] = style[key].replace('%','vh')\n",
    "    bfA.append(html.Div(dcc.Graph(figure=fig2, style=style), className='after'))\n",
    "    bfA.append(html.Div(className='middle'))\n",
    "    bfA.append(html.Div(dcc.Graph(figure=fig1, style=style), className='before'))\n",
    "    return html.Div(bfA, className='beforeAfter', style=style)\n",
    "\n",
    "app.layout = html.Div(beforeAfterSlide(fig1, fig2, {'height':'75%', 'width':'75%', 'top':'10%', 'left':'6%'}))\n",
    "\n",
    "if __name__ == \"__main__\":\n",
    "    app.run_server(debug=True)"
   ]
  },
  {
   "cell_type": "code",
   "execution_count": null,
   "metadata": {},
   "outputs": [],
   "source": []
  }
 ],
 "metadata": {
  "kernelspec": {
   "display_name": "Python 3 (ipykernel)",
   "language": "python",
   "name": "python3"
  },
  "language_info": {
   "codemirror_mode": {
    "name": "ipython",
    "version": 3
   },
   "file_extension": ".py",
   "mimetype": "text/x-python",
   "name": "python",
   "nbconvert_exporter": "python",
   "pygments_lexer": "ipython3",
   "version": "3.11.0"
  }
 },
 "nbformat": 4,
 "nbformat_minor": 4
}
