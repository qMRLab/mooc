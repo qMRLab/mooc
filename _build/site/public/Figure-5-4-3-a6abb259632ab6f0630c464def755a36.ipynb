{
 "cells": [
  {
   "cell_type": "code",
   "execution_count": 1,
   "metadata": {},
   "outputs": [
    {
     "data": {
      "application/vnd.plotly.v1+json": {
       "config": {
        "plotlyServerURL": "https://plot.ly"
       },
       "data": [
        {
         "marker": {
          "color": "blue"
         },
         "mode": "markers",
         "name": "Wrapped",
         "type": "scatter",
         "x": [
          0.003,
          0.011,
          0.02
         ],
         "y": [
          1,
          2.766814692820414,
          -1.0995559215387594
         ]
        },
        {
         "marker": {
          "color": "red"
         },
         "mode": "markers",
         "name": "True phase",
         "type": "scatter",
         "x": [
          0.003,
          0.011,
          0.02
         ],
         "y": [
          1,
          9.05,
          17.75
         ]
        },
        {
         "marker": {
          "color": "green"
         },
         "mode": "markers",
         "name": "Umpire",
         "type": "scatter",
         "visible": "legendonly",
         "x": [
          0.003,
          0.011,
          0.02
         ],
         "y": [
          1,
          9.05,
          17.75
         ]
        },
        {
         "marker": {
          "color": "green"
         },
         "mode": "lines",
         "name": "Umpire fit",
         "type": "scatter",
         "visible": "legendonly",
         "x": [
          0,
          0.021
         ],
         "y": [
          -1.8956221198156662,
          18.787442396313363
         ]
        },
        {
         "line": {
          "color": "gray"
         },
         "mode": "lines",
         "showlegend": false,
         "type": "scatter",
         "x": [
          0,
          0.021
         ],
         "y": [
          3.141592653589793,
          3.141592653589793
         ]
        },
        {
         "line": {
          "color": "gray"
         },
         "mode": "lines",
         "showlegend": false,
         "type": "scatter",
         "x": [
          0,
          0.021
         ],
         "y": [
          -3.141592653589793,
          -3.141592653589793
         ]
        },
        {
         "line": {
          "color": "black"
         },
         "marker": {
          "color": "black",
          "size": 10,
          "symbol": "line-ns-open"
         },
         "mode": "lines+markers",
         "showlegend": false,
         "type": "scatter",
         "x": [
          0.003,
          0.011
         ],
         "y": [
          22.491148575128552,
          22.491148575128552
         ]
        },
        {
         "line": {
          "color": "black"
         },
         "marker": {
          "color": "black",
          "size": 10,
          "symbol": "line-ns-open"
         },
         "mode": "lines+markers",
         "showlegend": false,
         "type": "scatter",
         "x": [
          0.011,
          0.02
         ],
         "y": [
          22.491148575128552,
          22.491148575128552
         ]
        },
        {
         "line": {
          "color": "black"
         },
         "marker": {
          "color": "black",
          "size": 10,
          "symbol": "line-ns-open"
         },
         "mode": "lines+markers",
         "showlegend": false,
         "type": "scatter",
         "x": [
          0.011,
          0.02
         ],
         "y": [
          19.491148575128552,
          19.491148575128552
         ]
        },
        {
         "line": {
          "color": "black"
         },
         "marker": {
          "color": "black",
          "size": 10,
          "symbol": "line-ew-open"
         },
         "mode": "lines+markers",
         "showlegend": false,
         "type": "scatter",
         "x": [
          0.002,
          0.002
         ],
         "y": [
          1,
          9.05
         ]
        }
       ],
       "layout": {
        "annotations": [
         {
          "showarrow": false,
          "text": "ΔTE1",
          "x": 0.007,
          "y": 23.64114857512855
         },
         {
          "showarrow": false,
          "text": "ΔTE2",
          "x": 0.0155,
          "y": 23.64114857512855
         },
         {
          "showarrow": false,
          "text": "ΔTE1 + δTE",
          "x": 0.0155,
          "y": 20.64114857512855
         },
         {
          "showarrow": false,
          "text": ">2𝜋",
          "x": 0.0015,
          "y": 5.025
         }
        ],
        "template": {
         "data": {
          "bar": [
           {
            "error_x": {
             "color": "#2a3f5f"
            },
            "error_y": {
             "color": "#2a3f5f"
            },
            "marker": {
             "line": {
              "color": "#E5ECF6",
              "width": 0.5
             },
             "pattern": {
              "fillmode": "overlay",
              "size": 10,
              "solidity": 0.2
             }
            },
            "type": "bar"
           }
          ],
          "barpolar": [
           {
            "marker": {
             "line": {
              "color": "#E5ECF6",
              "width": 0.5
             },
             "pattern": {
              "fillmode": "overlay",
              "size": 10,
              "solidity": 0.2
             }
            },
            "type": "barpolar"
           }
          ],
          "carpet": [
           {
            "aaxis": {
             "endlinecolor": "#2a3f5f",
             "gridcolor": "white",
             "linecolor": "white",
             "minorgridcolor": "white",
             "startlinecolor": "#2a3f5f"
            },
            "baxis": {
             "endlinecolor": "#2a3f5f",
             "gridcolor": "white",
             "linecolor": "white",
             "minorgridcolor": "white",
             "startlinecolor": "#2a3f5f"
            },
            "type": "carpet"
           }
          ],
          "choropleth": [
           {
            "colorbar": {
             "outlinewidth": 0,
             "ticks": ""
            },
            "type": "choropleth"
           }
          ],
          "contour": [
           {
            "colorbar": {
             "outlinewidth": 0,
             "ticks": ""
            },
            "colorscale": [
             [
              0,
              "#0d0887"
             ],
             [
              0.1111111111111111,
              "#46039f"
             ],
             [
              0.2222222222222222,
              "#7201a8"
             ],
             [
              0.3333333333333333,
              "#9c179e"
             ],
             [
              0.4444444444444444,
              "#bd3786"
             ],
             [
              0.5555555555555556,
              "#d8576b"
             ],
             [
              0.6666666666666666,
              "#ed7953"
             ],
             [
              0.7777777777777778,
              "#fb9f3a"
             ],
             [
              0.8888888888888888,
              "#fdca26"
             ],
             [
              1,
              "#f0f921"
             ]
            ],
            "type": "contour"
           }
          ],
          "contourcarpet": [
           {
            "colorbar": {
             "outlinewidth": 0,
             "ticks": ""
            },
            "type": "contourcarpet"
           }
          ],
          "heatmap": [
           {
            "colorbar": {
             "outlinewidth": 0,
             "ticks": ""
            },
            "colorscale": [
             [
              0,
              "#0d0887"
             ],
             [
              0.1111111111111111,
              "#46039f"
             ],
             [
              0.2222222222222222,
              "#7201a8"
             ],
             [
              0.3333333333333333,
              "#9c179e"
             ],
             [
              0.4444444444444444,
              "#bd3786"
             ],
             [
              0.5555555555555556,
              "#d8576b"
             ],
             [
              0.6666666666666666,
              "#ed7953"
             ],
             [
              0.7777777777777778,
              "#fb9f3a"
             ],
             [
              0.8888888888888888,
              "#fdca26"
             ],
             [
              1,
              "#f0f921"
             ]
            ],
            "type": "heatmap"
           }
          ],
          "heatmapgl": [
           {
            "colorbar": {
             "outlinewidth": 0,
             "ticks": ""
            },
            "colorscale": [
             [
              0,
              "#0d0887"
             ],
             [
              0.1111111111111111,
              "#46039f"
             ],
             [
              0.2222222222222222,
              "#7201a8"
             ],
             [
              0.3333333333333333,
              "#9c179e"
             ],
             [
              0.4444444444444444,
              "#bd3786"
             ],
             [
              0.5555555555555556,
              "#d8576b"
             ],
             [
              0.6666666666666666,
              "#ed7953"
             ],
             [
              0.7777777777777778,
              "#fb9f3a"
             ],
             [
              0.8888888888888888,
              "#fdca26"
             ],
             [
              1,
              "#f0f921"
             ]
            ],
            "type": "heatmapgl"
           }
          ],
          "histogram": [
           {
            "marker": {
             "pattern": {
              "fillmode": "overlay",
              "size": 10,
              "solidity": 0.2
             }
            },
            "type": "histogram"
           }
          ],
          "histogram2d": [
           {
            "colorbar": {
             "outlinewidth": 0,
             "ticks": ""
            },
            "colorscale": [
             [
              0,
              "#0d0887"
             ],
             [
              0.1111111111111111,
              "#46039f"
             ],
             [
              0.2222222222222222,
              "#7201a8"
             ],
             [
              0.3333333333333333,
              "#9c179e"
             ],
             [
              0.4444444444444444,
              "#bd3786"
             ],
             [
              0.5555555555555556,
              "#d8576b"
             ],
             [
              0.6666666666666666,
              "#ed7953"
             ],
             [
              0.7777777777777778,
              "#fb9f3a"
             ],
             [
              0.8888888888888888,
              "#fdca26"
             ],
             [
              1,
              "#f0f921"
             ]
            ],
            "type": "histogram2d"
           }
          ],
          "histogram2dcontour": [
           {
            "colorbar": {
             "outlinewidth": 0,
             "ticks": ""
            },
            "colorscale": [
             [
              0,
              "#0d0887"
             ],
             [
              0.1111111111111111,
              "#46039f"
             ],
             [
              0.2222222222222222,
              "#7201a8"
             ],
             [
              0.3333333333333333,
              "#9c179e"
             ],
             [
              0.4444444444444444,
              "#bd3786"
             ],
             [
              0.5555555555555556,
              "#d8576b"
             ],
             [
              0.6666666666666666,
              "#ed7953"
             ],
             [
              0.7777777777777778,
              "#fb9f3a"
             ],
             [
              0.8888888888888888,
              "#fdca26"
             ],
             [
              1,
              "#f0f921"
             ]
            ],
            "type": "histogram2dcontour"
           }
          ],
          "mesh3d": [
           {
            "colorbar": {
             "outlinewidth": 0,
             "ticks": ""
            },
            "type": "mesh3d"
           }
          ],
          "parcoords": [
           {
            "line": {
             "colorbar": {
              "outlinewidth": 0,
              "ticks": ""
             }
            },
            "type": "parcoords"
           }
          ],
          "pie": [
           {
            "automargin": true,
            "type": "pie"
           }
          ],
          "scatter": [
           {
            "fillpattern": {
             "fillmode": "overlay",
             "size": 10,
             "solidity": 0.2
            },
            "type": "scatter"
           }
          ],
          "scatter3d": [
           {
            "line": {
             "colorbar": {
              "outlinewidth": 0,
              "ticks": ""
             }
            },
            "marker": {
             "colorbar": {
              "outlinewidth": 0,
              "ticks": ""
             }
            },
            "type": "scatter3d"
           }
          ],
          "scattercarpet": [
           {
            "marker": {
             "colorbar": {
              "outlinewidth": 0,
              "ticks": ""
             }
            },
            "type": "scattercarpet"
           }
          ],
          "scattergeo": [
           {
            "marker": {
             "colorbar": {
              "outlinewidth": 0,
              "ticks": ""
             }
            },
            "type": "scattergeo"
           }
          ],
          "scattergl": [
           {
            "marker": {
             "colorbar": {
              "outlinewidth": 0,
              "ticks": ""
             }
            },
            "type": "scattergl"
           }
          ],
          "scattermapbox": [
           {
            "marker": {
             "colorbar": {
              "outlinewidth": 0,
              "ticks": ""
             }
            },
            "type": "scattermapbox"
           }
          ],
          "scatterpolar": [
           {
            "marker": {
             "colorbar": {
              "outlinewidth": 0,
              "ticks": ""
             }
            },
            "type": "scatterpolar"
           }
          ],
          "scatterpolargl": [
           {
            "marker": {
             "colorbar": {
              "outlinewidth": 0,
              "ticks": ""
             }
            },
            "type": "scatterpolargl"
           }
          ],
          "scatterternary": [
           {
            "marker": {
             "colorbar": {
              "outlinewidth": 0,
              "ticks": ""
             }
            },
            "type": "scatterternary"
           }
          ],
          "surface": [
           {
            "colorbar": {
             "outlinewidth": 0,
             "ticks": ""
            },
            "colorscale": [
             [
              0,
              "#0d0887"
             ],
             [
              0.1111111111111111,
              "#46039f"
             ],
             [
              0.2222222222222222,
              "#7201a8"
             ],
             [
              0.3333333333333333,
              "#9c179e"
             ],
             [
              0.4444444444444444,
              "#bd3786"
             ],
             [
              0.5555555555555556,
              "#d8576b"
             ],
             [
              0.6666666666666666,
              "#ed7953"
             ],
             [
              0.7777777777777778,
              "#fb9f3a"
             ],
             [
              0.8888888888888888,
              "#fdca26"
             ],
             [
              1,
              "#f0f921"
             ]
            ],
            "type": "surface"
           }
          ],
          "table": [
           {
            "cells": {
             "fill": {
              "color": "#EBF0F8"
             },
             "line": {
              "color": "white"
             }
            },
            "header": {
             "fill": {
              "color": "#C8D4E3"
             },
             "line": {
              "color": "white"
             }
            },
            "type": "table"
           }
          ]
         },
         "layout": {
          "annotationdefaults": {
           "arrowcolor": "#2a3f5f",
           "arrowhead": 0,
           "arrowwidth": 1
          },
          "autotypenumbers": "strict",
          "coloraxis": {
           "colorbar": {
            "outlinewidth": 0,
            "ticks": ""
           }
          },
          "colorscale": {
           "diverging": [
            [
             0,
             "#8e0152"
            ],
            [
             0.1,
             "#c51b7d"
            ],
            [
             0.2,
             "#de77ae"
            ],
            [
             0.3,
             "#f1b6da"
            ],
            [
             0.4,
             "#fde0ef"
            ],
            [
             0.5,
             "#f7f7f7"
            ],
            [
             0.6,
             "#e6f5d0"
            ],
            [
             0.7,
             "#b8e186"
            ],
            [
             0.8,
             "#7fbc41"
            ],
            [
             0.9,
             "#4d9221"
            ],
            [
             1,
             "#276419"
            ]
           ],
           "sequential": [
            [
             0,
             "#0d0887"
            ],
            [
             0.1111111111111111,
             "#46039f"
            ],
            [
             0.2222222222222222,
             "#7201a8"
            ],
            [
             0.3333333333333333,
             "#9c179e"
            ],
            [
             0.4444444444444444,
             "#bd3786"
            ],
            [
             0.5555555555555556,
             "#d8576b"
            ],
            [
             0.6666666666666666,
             "#ed7953"
            ],
            [
             0.7777777777777778,
             "#fb9f3a"
            ],
            [
             0.8888888888888888,
             "#fdca26"
            ],
            [
             1,
             "#f0f921"
            ]
           ],
           "sequentialminus": [
            [
             0,
             "#0d0887"
            ],
            [
             0.1111111111111111,
             "#46039f"
            ],
            [
             0.2222222222222222,
             "#7201a8"
            ],
            [
             0.3333333333333333,
             "#9c179e"
            ],
            [
             0.4444444444444444,
             "#bd3786"
            ],
            [
             0.5555555555555556,
             "#d8576b"
            ],
            [
             0.6666666666666666,
             "#ed7953"
            ],
            [
             0.7777777777777778,
             "#fb9f3a"
            ],
            [
             0.8888888888888888,
             "#fdca26"
            ],
            [
             1,
             "#f0f921"
            ]
           ]
          },
          "colorway": [
           "#636efa",
           "#EF553B",
           "#00cc96",
           "#ab63fa",
           "#FFA15A",
           "#19d3f3",
           "#FF6692",
           "#B6E880",
           "#FF97FF",
           "#FECB52"
          ],
          "font": {
           "color": "#2a3f5f"
          },
          "geo": {
           "bgcolor": "white",
           "lakecolor": "white",
           "landcolor": "#E5ECF6",
           "showlakes": true,
           "showland": true,
           "subunitcolor": "white"
          },
          "hoverlabel": {
           "align": "left"
          },
          "hovermode": "closest",
          "mapbox": {
           "style": "light"
          },
          "paper_bgcolor": "white",
          "plot_bgcolor": "#E5ECF6",
          "polar": {
           "angularaxis": {
            "gridcolor": "white",
            "linecolor": "white",
            "ticks": ""
           },
           "bgcolor": "#E5ECF6",
           "radialaxis": {
            "gridcolor": "white",
            "linecolor": "white",
            "ticks": ""
           }
          },
          "scene": {
           "xaxis": {
            "backgroundcolor": "#E5ECF6",
            "gridcolor": "white",
            "gridwidth": 2,
            "linecolor": "white",
            "showbackground": true,
            "ticks": "",
            "zerolinecolor": "white"
           },
           "yaxis": {
            "backgroundcolor": "#E5ECF6",
            "gridcolor": "white",
            "gridwidth": 2,
            "linecolor": "white",
            "showbackground": true,
            "ticks": "",
            "zerolinecolor": "white"
           },
           "zaxis": {
            "backgroundcolor": "#E5ECF6",
            "gridcolor": "white",
            "gridwidth": 2,
            "linecolor": "white",
            "showbackground": true,
            "ticks": "",
            "zerolinecolor": "white"
           }
          },
          "shapedefaults": {
           "line": {
            "color": "#2a3f5f"
           }
          },
          "ternary": {
           "aaxis": {
            "gridcolor": "white",
            "linecolor": "white",
            "ticks": ""
           },
           "baxis": {
            "gridcolor": "white",
            "linecolor": "white",
            "ticks": ""
           },
           "bgcolor": "#E5ECF6",
           "caxis": {
            "gridcolor": "white",
            "linecolor": "white",
            "ticks": ""
           }
          },
          "title": {
           "x": 0.05
          },
          "xaxis": {
           "automargin": true,
           "gridcolor": "white",
           "linecolor": "white",
           "ticks": "",
           "title": {
            "standoff": 15
           },
           "zerolinecolor": "white",
           "zerolinewidth": 2
          },
          "yaxis": {
           "automargin": true,
           "gridcolor": "white",
           "linecolor": "white",
           "ticks": "",
           "title": {
            "standoff": 15
           },
           "zerolinecolor": "white",
           "zerolinewidth": 2
          }
         }
        },
        "title": {
         "text": "Phase unwrapping using UMPIRE algorithm",
         "x": 0.5
        },
        "width": 800,
        "xaxis": {
         "range": [
          0,
          0.021
         ],
         "title": {
          "text": "Time (ms)"
         }
        },
        "yaxis": {
         "range": [
          -4,
          25
         ],
         "tickmode": "array",
         "ticktext": [
          "-2𝜋",
          "0",
          "2𝜋",
          "4𝜋",
          "6𝜋"
         ],
         "tickvals": [
          -6.283185307179586,
          0,
          6.283185307179586,
          12.566370614359172,
          18.84955592153876
         ],
         "title": {
          "text": "Phase (rad)"
         }
        }
       }
      }
     },
     "metadata": {},
     "output_type": "display_data"
    }
   ],
   "source": [
    "#| label: b0Fig17jn\n",
    "\n",
    "# Prepare Python environment\n",
    "\n",
    "import numpy as np\n",
    "import plotly.express as px\n",
    "import os\n",
    "import nibabel as nib\n",
    "import numpy as np\n",
    "from plotly.subplots import make_subplots\n",
    "import plotly.graph_objects as go\n",
    "import math\n",
    "from sklearn.linear_model import LinearRegression\n",
    "import copy\n",
    "PI_UNICODE = \"\\U0001D70B\"\n",
    "DELTA_UNICODE = \"\\u0394\"\n",
    "GYRO_UNICODE = \"\\U0001D6FE\"\n",
    "GREEK_DELTA_UNICODE = \"\\u03B4\"\n",
    "phase1, phase2, phase3 = (-1, 2, 14)\n",
    "phase_wrapped1 = 14-4*math.pi\n",
    "phase_unwrapped1 = 14-2*math.pi\n",
    "beg = 0\n",
    "end = 0.016\n",
    "def complex_difference(phase1, phase2):\n",
    "    \"\"\" Calculates the complex difference between 2 phase arrays (phase2 - phase1)\n",
    "\n",
    "    Args:\n",
    "        phase1 (numpy.ndarray): Array containing phase data in radians\n",
    "        phase2 (numpy.ndarray): Array containing phase data in radians. Must be the same shape as phase1.\n",
    "\n",
    "    Returns:\n",
    "        numpy.ndarray: The difference in phase between each voxels of phase2 and phase1 (phase2 - phase1)\n",
    "    \"\"\"\n",
    "\n",
    "    # Calculate phasediff using complex difference\n",
    "    comp_0 = np.exp(-1j * phase1)\n",
    "    comp_1 = np.exp(1j * phase2)\n",
    "    return np.angle(comp_0 * comp_1)\n",
    "\n",
    "def umpire_3echoes(phases, times):\n",
    "    \"\"\"\n",
    "    This function performs unwrapping using the UMPIRE algorithm with 3 echoes. UMPIRE requires echo times that are unevenly spaced.\n",
    "    \"\"\"\n",
    "    \n",
    "    # Complex difference\n",
    "    dpTE2 = complex_difference(phases[1], phases[2])\n",
    "    dpTE1 = complex_difference(phases[0], phases[1])\n",
    "    dpd = complex_difference(dpTE1, dpTE2)\n",
    "    # print(\"Diff in phase diff:\" , dpd)\n",
    "    dTEs = np.array([times[1]-times[0], times[2]-times[1]])\n",
    "    dt_dpd = dTEs[1] - dTEs[0]\n",
    "    \n",
    "    # Slope\n",
    "    slope = dpd / dt_dpd\n",
    "    \n",
    "    # n wraps in differences\n",
    "    n_wraps_dp = np.round((dTEs - dTEs*slope) / (2*math.pi))\n",
    "    \n",
    "    # Remove wraps in differences\n",
    "    dpTE1_prime = dpTE1 - (2*n_wraps_dp[0]*math.pi)\n",
    "    dpTE2_prime = dpTE2 - (2*n_wraps_dp[1]*math.pi)\n",
    "    \n",
    "    # Calculate better slope\n",
    "    slope_prime1 = dpTE1_prime / dTEs[0]\n",
    "    slope_prime2 = dpTE2_prime / dTEs[1]\n",
    "    slope_avg = (slope_prime1 + slope_prime2) / 2\n",
    "    \n",
    "    # Calculate wraps in original phase\n",
    "    n_wraps = np.round((phases - t*slope_avg) / (2*math.pi))\n",
    "    \n",
    "    # Remove wraps\n",
    "    unwrapped_with_phase_offset = phases - 2*math.pi*n_wraps\n",
    "    \n",
    "    # # Calculate receiver offset\n",
    "    # r = (t[0] * unwrapped_with_phase_offset[1] - t[1] * unwrapped_with_phase_offset[0]) / dTEs[0]\n",
    "\n",
    "    # # Remove receiver phase offset\n",
    "    # phase_no_offset = complex_difference(r, unwrapped_with_phase_offset)\n",
    "    # # Unwrap one last time\n",
    "    # ns = np.round((phase_no_offset - t*slope_avg) / (2*math.pi))\n",
    "    # unwrapped_umpire = phase_no_offset - 2*math.pi*ns\n",
    "    \n",
    "    return unwrapped_with_phase_offset\n",
    "\n",
    "t = np.array([0.003, 0.011, 0.020])\n",
    "y_unwrapped = np.array([1.0, 9.05, 17.75])\n",
    "wrapped = copy.deepcopy(y_unwrapped)\n",
    "wrapped[0] = np.angle(np.exp(1j*wrapped[0]))\n",
    "wrapped[1] = np.angle(np.exp(1j*wrapped[1]))\n",
    "wrapped[2] = np.angle(np.exp(1j*wrapped[2]))\n",
    "beg = 0.0\n",
    "end = 0.021\n",
    "\n",
    "# Fit original data\n",
    "reg1 = LinearRegression().fit(t.reshape(-1, 1), y_unwrapped.reshape(-1,1))\n",
    "fieldmap_rad1 = reg1.coef_[0]  # [rad / s]\n",
    "fieldmap_intercept1 = reg1.intercept_[0]  # [rad / s]\n",
    "t_predict1 = np.array([beg, end])\n",
    "y_predict1 = reg1.predict(t_predict1.reshape(-1,1))[:,0]\n",
    "\n",
    "# Unwrap with UMPIRE\n",
    "unwrapped_umpire = umpire_3echoes(wrapped, t)\n",
    "\n",
    "# Fit unwrapped data of UMPIRE\n",
    "reg2 = LinearRegression().fit(t.reshape(-1, 1), unwrapped_umpire.reshape(-1,1))\n",
    "# Slope of linear regression reshaped into the shape of original 3D phase.\n",
    "fieldmap_rad2 = reg2.coef_[0]  # [rad / s]\n",
    "fieldmap_intercept2 = reg2.intercept_[0]  # [rad / s]\n",
    "t_predict2 = np.array([beg, end])\n",
    "y_predict2 = reg2.predict(t_predict2.reshape(-1,1))[:,0]\n",
    "\n",
    "# Plot\n",
    "height_annotations = 7*math.pi + 0.5\n",
    "fig = go.Figure()\n",
    "fig.add_trace(go.Scatter(x=t, y=wrapped, mode='markers', marker=dict(color='blue'), name='Wrapped'))\n",
    "fig.add_trace(go.Scatter(x=t, y=y_unwrapped, mode='markers', marker=dict(color='red'), name='True phase'))\n",
    "fig.add_trace(go.Scatter(x=t, y=unwrapped_umpire, mode='markers', marker=dict(color='green'), name='Umpire', visible='legendonly'))\n",
    "fig.add_trace(go.Scatter(x=t_predict2, y=y_predict2, mode='lines', marker=dict(color='green'), name='Umpire fit', visible='legendonly'))\n",
    "fig.add_trace(go.Scatter(x=[beg, end], y=[math.pi, math.pi], mode='lines', line=dict(color='gray'), showlegend=False))\n",
    "fig.add_trace(go.Scatter(x=[beg, end], y=[-math.pi, -math.pi], mode='lines', line=dict(color='gray'), showlegend=False))\n",
    "fig.add_trace(go.Scatter(x=[t[0], t[1]], y=[height_annotations, height_annotations], mode='lines+markers', \n",
    "                         marker=dict(symbol=\"line-ns-open\", color=\"black\",size=10),\n",
    "                         line=dict(color='black'), showlegend=False))\n",
    "fig.add_trace(go.Scatter(x=[t[1], t[2]], y=[height_annotations, height_annotations], mode='lines+markers', \n",
    "                         marker=dict(symbol=\"line-ns-open\", color=\"black\",size=10),\n",
    "                         line=dict(color='black'), showlegend=False))\n",
    "fig.add_trace(go.Scatter(x=[t[1], t[2]], y=[height_annotations-3, height_annotations-3], mode='lines+markers', \n",
    "                         marker=dict(symbol=\"line-ns-open\", color=\"black\",size=10),\n",
    "                         line=dict(color='black'), showlegend=False))\n",
    "fig.add_trace(go.Scatter(x=[0.002, 0.002], y=[y_unwrapped[0], y_unwrapped[1]], mode='lines+markers', \n",
    "                         marker=dict(symbol=\"line-ew-open\", color=\"black\",size=10),\n",
    "                         line=dict(color='black'), showlegend=False))\n",
    "fig.add_annotation(x=(t[1]-t[0])/2 + t[0], y=height_annotations+1.15, text=f\"{DELTA_UNICODE}TE1\", showarrow=False)\n",
    "fig.add_annotation(x=(t[2]-t[1])/2 + t[1], y=height_annotations+1.15, text=f\"{DELTA_UNICODE}TE2\", showarrow=False)\n",
    "fig.add_annotation(x=(t[2]-t[1])/2 + t[1], y=height_annotations+1.15-3, text=f\"{DELTA_UNICODE}TE1 + {GREEK_DELTA_UNICODE}TE\", showarrow=False)\n",
    "fig.add_annotation(x=0.0015, y=(y_unwrapped[1] + y_unwrapped[0]) / 2, text=f\">2{PI_UNICODE}\", showarrow=False)\n",
    "fig.update_xaxes(title_text=\"Time (ms)\", range=[beg, end])\n",
    "fig.update_yaxes(title_text=\"Phase (rad)\", tickmode = 'array', range=[-4,25],\n",
    "                 tickvals = [-2*math.pi, 0, 2*math.pi, 4*math.pi, 6*math.pi],\n",
    "                 ticktext = [f'-2{PI_UNICODE}', '0', f'2{PI_UNICODE}', f'4{PI_UNICODE}', f'6{PI_UNICODE}'])\n",
    "fig.update_layout({\"width\": 800}, title_text=\"Phase unwrapping using UMPIRE algorithm\", title_x=0.5)\n",
    "fig.show()\n",
    "\n"
   ]
  }
 ],
 "metadata": {
  "kernelspec": {
   "display_name": "Python 3",
   "language": "python",
   "name": "python3"
  },
  "language_info": {
   "codemirror_mode": {
    "name": "ipython",
    "version": 3
   },
   "file_extension": ".py",
   "mimetype": "text/x-python",
   "name": "python",
   "nbconvert_exporter": "python",
   "pygments_lexer": "ipython3",
   "version": "3.12.2"
  }
 },
 "nbformat": 4,
 "nbformat_minor": 2
}
