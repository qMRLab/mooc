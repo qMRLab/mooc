{
 "cells": [
  {
   "cell_type": "code",
   "execution_count": 1,
   "metadata": {},
   "outputs": [
    {
     "data": {
      "text/html": [
       "        <script type=\"text/javascript\">\n",
       "        window.PlotlyConfig = {MathJaxConfig: 'local'};\n",
       "        if (window.MathJax && window.MathJax.Hub && window.MathJax.Hub.Config) {window.MathJax.Hub.Config({SVG: {font: \"STIX-Web\"}});}\n",
       "        if (typeof require !== 'undefined') {\n",
       "        require.undef(\"plotly\");\n",
       "        requirejs.config({\n",
       "            paths: {\n",
       "                'plotly': ['https://cdn.plot.ly/plotly-2.32.0.min']\n",
       "            }\n",
       "        });\n",
       "        require(['plotly'], function(Plotly) {\n",
       "            window._Plotly = Plotly;\n",
       "        });\n",
       "        }\n",
       "        </script>\n",
       "        "
      ]
     },
     "metadata": {},
     "output_type": "display_data"
    },
    {
     "data": {
      "text/html": [
       "        <script type=\"text/javascript\">\n",
       "        window.PlotlyConfig = {MathJaxConfig: 'local'};\n",
       "        if (window.MathJax && window.MathJax.Hub && window.MathJax.Hub.Config) {window.MathJax.Hub.Config({SVG: {font: \"STIX-Web\"}});}\n",
       "        if (typeof require !== 'undefined') {\n",
       "        require.undef(\"plotly\");\n",
       "        requirejs.config({\n",
       "            paths: {\n",
       "                'plotly': ['https://cdn.plot.ly/plotly-2.32.0.min']\n",
       "            }\n",
       "        });\n",
       "        require(['plotly'], function(Plotly) {\n",
       "            window._Plotly = Plotly;\n",
       "        });\n",
       "        }\n",
       "        </script>\n",
       "        "
      ]
     },
     "metadata": {},
     "output_type": "display_data"
    },
    {
     "data": {
      "application/vnd.plotly.v1+json": {
       "config": {
        "displayModeBar": false,
        "linkText": "Export to plot.ly",
        "plotlyServerURL": "https://plot.ly",
        "showLink": false
       },
       "data": [
        {
         "hoverinfo": "y",
         "showlegend": false,
         "type": "scatter",
         "visible": true,
         "x": [
          0.7,
          0.73,
          0.76,
          0.7899999999999999,
          0.82,
          0.85,
          0.88,
          0.91,
          0.94,
          0.97,
          1,
          1.03,
          1.06,
          1.0899999999999999,
          1.12,
          1.15,
          1.1800000000000002,
          1.21,
          1.24,
          1.27,
          1.3
         ],
         "xaxis": "x",
         "y": [
          35.447422564776254,
          36.865948639397786,
          38.214378670874986,
          39.49423307568623,
          40.7020779776798,
          41.84951341337406,
          42.934078614242516,
          43.9582771666566,
          44.9318214694217,
          45.842721254074775,
          46.700604435679395,
          47.508408646341785,
          48.27215332053276,
          48.9892872525899,
          49.660641794927564,
          50.294811790645745,
          50.88673639063835,
          51.44813304532337,
          51.96876683308765,
          52.462471704597554,
          52.919306469414366
         ],
         "yaxis": "y"
        },
        {
         "hoverinfo": "y",
         "showlegend": false,
         "type": "scatter",
         "visible": true,
         "x": [
          0.7,
          0.73,
          0.76,
          0.7899999999999999,
          0.82,
          0.85,
          0.88,
          0.91,
          0.94,
          0.97,
          1,
          1.03,
          1.06,
          1.0899999999999999,
          1.12,
          1.15,
          1.1800000000000002,
          1.21,
          1.24,
          1.27,
          1.3
         ],
         "xaxis": "x2",
         "y": [
          0.2723761699753499,
          0.29637711747635104,
          0.32141287672601854,
          0.34748722455860254,
          0.37460416261527885,
          0.40276792648996257,
          0.4319829953417134,
          0.4622541019891054,
          0.49358624350303837,
          0.5259846923156318,
          0.5594550078640645,
          0.5940030487895827,
          0.629634985713249,
          0.6663573146115567,
          0.7041768708166061,
          0.7431008436672256,
          0.7831367918393137,
          0.8242926593855164,
          0.8665767925165295,
          0.9099979571585008,
          0.9545653573233448
         ],
         "yaxis": "y2"
        },
        {
         "hoverinfo": "y",
         "showlegend": false,
         "type": "scatter",
         "visible": true,
         "x": [
          0.7,
          0.73,
          0.76,
          0.7899999999999999,
          0.82,
          0.85,
          0.88,
          0.91,
          0.94,
          0.97,
          1,
          1.03,
          1.06,
          1.0899999999999999,
          1.12,
          1.15,
          1.1800000000000002,
          1.21,
          1.24,
          1.27,
          1.3
         ],
         "xaxis": "x3",
         "y": [
          6.752461291854189,
          6.624914441636975,
          6.496937577003653,
          6.368920333257999,
          6.239827788768536,
          6.112448669384446,
          5.985778648789421,
          5.860069106011495,
          5.737196187769228,
          5.61393201598228,
          5.492126640361443,
          5.372015479890967,
          5.254465837854484,
          5.138511371422131,
          5.023961275963193,
          4.912178124059772,
          4.80179202463025,
          4.694716139819637,
          4.588673425252676,
          4.485921076534956,
          4.384349874340697
         ],
         "yaxis": "y3"
        },
        {
         "hoverinfo": "y",
         "showlegend": false,
         "type": "scatter",
         "visible": false,
         "x": [
          0.7,
          0.73,
          0.76,
          0.7899999999999999,
          0.82,
          0.85,
          0.88,
          0.91,
          0.94,
          0.97,
          1,
          1.03,
          1.06,
          1.0899999999999999,
          1.12,
          1.15,
          1.1800000000000002,
          1.21,
          1.24,
          1.27,
          1.3
         ],
         "xaxis": "x",
         "y": [
          35.447422564776254,
          36.865948639397786,
          38.214378670874986,
          39.49423307568623,
          40.7020779776798,
          41.84951341337406,
          42.934078614242516,
          43.9582771666566,
          44.9318214694217,
          45.842721254074775,
          46.700604435679395,
          47.508408646341785,
          48.27215332053276,
          48.9892872525899,
          49.660641794927564,
          50.294811790645745,
          50.88673639063835,
          51.44813304532337,
          51.96876683308765,
          52.462471704597554,
          52.919306469414366
         ],
         "yaxis": "y"
        },
        {
         "hoverinfo": "y",
         "showlegend": false,
         "type": "scatter",
         "visible": false,
         "x": [
          0.7,
          0.73,
          0.76,
          0.7899999999999999,
          0.82,
          0.85,
          0.88,
          0.91,
          0.94,
          0.97,
          1,
          1.03,
          1.06,
          1.0899999999999999,
          1.12,
          1.15,
          1.1800000000000002,
          1.21,
          1.24,
          1.27,
          1.3
         ],
         "xaxis": "x2",
         "y": [
          0.5558697346435713,
          0.5561589744348866,
          0.556462736714021,
          0.5567813244009014,
          0.5571150544546087,
          0.5574642581175954,
          0.5578292811747333,
          0.5582104842278774,
          0.558608242986689,
          0.5590229485765033,
          0.5594550078640645,
          0.5599048438020384,
          0.5603728957932084,
          0.5608596200753783,
          0.5613654901280342,
          0.561890997101872,
          0.5624366502724171,
          0.5630029775189649,
          0.5635905258302092,
          0.5641998618379942,
          0.5648315723806774
         ],
         "yaxis": "y2"
        },
        {
         "hoverinfo": "y",
         "showlegend": false,
         "type": "scatter",
         "visible": false,
         "x": [
          0.7,
          0.73,
          0.76,
          0.7899999999999999,
          0.82,
          0.85,
          0.88,
          0.91,
          0.94,
          0.97,
          1,
          1.03,
          1.06,
          1.0899999999999999,
          1.12,
          1.15,
          1.1800000000000002,
          1.21,
          1.24,
          1.27,
          1.3
         ],
         "xaxis": "x3",
         "y": [
          5.857838069074654,
          5.776477111456447,
          5.708672273457986,
          5.6526930486613445,
          5.606083620165932,
          5.569386326333537,
          5.540685983354427,
          5.519128076229951,
          5.5054962694536265,
          5.496180478017028,
          5.492126640361443,
          5.493021931521071,
          5.499372470909369,
          5.509815759440512,
          5.52378081003559,
          5.542687017666135,
          5.564677589925702,
          5.592216456355769,
          5.6221488593167885,
          5.657754790884508,
          5.6959336648855
         ],
         "yaxis": "y3"
        }
       ],
       "layout": {
        "annotations": [
         {
          "font": {
           "family": "Times New Roman",
           "size": 22
          },
          "showarrow": false,
          "text": "MTsat (%)",
          "textangle": -90,
          "x": -0.15,
          "xref": "paper",
          "y": 0.5,
          "yref": "paper"
         },
         {
          "font": {
           "family": "Times New Roman",
           "size": 22
          },
          "showarrow": false,
          "text": "MTsat (%)",
          "textangle": -90,
          "x": -0.15,
          "xref": "paper",
          "y": 0.5,
          "yref": "paper"
         },
         {
          "font": {
           "family": "Times New Roman",
           "size": 22
          },
          "showarrow": false,
          "text": "B<sub>1</sub>",
          "textangle": 0,
          "x": 0.51,
          "xref": "paper",
          "y": -0.3,
          "yref": "paper"
         },
         {
          "font": {
           "family": "Times New Roman",
           "size": 22
          },
          "showarrow": false,
          "text": "B<sub>1</sub>",
          "textangle": 0,
          "x": 0.9,
          "xref": "paper",
          "y": -0.3,
          "yref": "paper"
         },
         {
          "font": {
           "family": "Times New Roman",
           "size": 22
          },
          "showarrow": false,
          "text": "B<sub>1</sub>",
          "textangle": 0,
          "x": 0.12,
          "xref": "paper",
          "y": -0.3,
          "yref": "paper"
         },
         {
          "font": {
           "family": "Times New Roman",
           "size": 22
          },
          "showarrow": false,
          "text": "MTR",
          "textangle": -90,
          "x": -0.08,
          "xref": "paper",
          "y": 0.5,
          "yref": "paper"
         },
         {
          "font": {
           "family": "Times New Roman",
           "size": 22
          },
          "showarrow": false,
          "text": "T<sub>1</sub> (s)",
          "textangle": -90,
          "x": 0.28,
          "xref": "paper",
          "y": 0.5,
          "yref": "paper"
         },
         {
          "font": {
           "family": "Times New Roman",
           "size": 22
          },
          "showarrow": false,
          "text": "MTsat (%)",
          "textangle": -90,
          "x": 0.69,
          "xref": "paper",
          "y": 0.5,
          "yref": "paper"
         },
         {
          "font": {
           "family": "Times New Roman",
           "size": 22
          },
          "showarrow": false,
          "text": "B<sub>1</sub> correction?",
          "x": 0.22,
          "xref": "paper",
          "y": -0.55,
          "yref": "paper"
         }
        ],
        "height": 300,
        "margin": {
         "b": 60,
         "l": 60,
         "r": 30,
         "t": 60
        },
        "template": {
         "data": {
          "bar": [
           {
            "error_x": {
             "color": "#2a3f5f"
            },
            "error_y": {
             "color": "#2a3f5f"
            },
            "marker": {
             "line": {
              "color": "#E5ECF6",
              "width": 0.5
             },
             "pattern": {
              "fillmode": "overlay",
              "size": 10,
              "solidity": 0.2
             }
            },
            "type": "bar"
           }
          ],
          "barpolar": [
           {
            "marker": {
             "line": {
              "color": "#E5ECF6",
              "width": 0.5
             },
             "pattern": {
              "fillmode": "overlay",
              "size": 10,
              "solidity": 0.2
             }
            },
            "type": "barpolar"
           }
          ],
          "carpet": [
           {
            "aaxis": {
             "endlinecolor": "#2a3f5f",
             "gridcolor": "white",
             "linecolor": "white",
             "minorgridcolor": "white",
             "startlinecolor": "#2a3f5f"
            },
            "baxis": {
             "endlinecolor": "#2a3f5f",
             "gridcolor": "white",
             "linecolor": "white",
             "minorgridcolor": "white",
             "startlinecolor": "#2a3f5f"
            },
            "type": "carpet"
           }
          ],
          "choropleth": [
           {
            "colorbar": {
             "outlinewidth": 0,
             "ticks": ""
            },
            "type": "choropleth"
           }
          ],
          "contour": [
           {
            "colorbar": {
             "outlinewidth": 0,
             "ticks": ""
            },
            "colorscale": [
             [
              0,
              "#0d0887"
             ],
             [
              0.1111111111111111,
              "#46039f"
             ],
             [
              0.2222222222222222,
              "#7201a8"
             ],
             [
              0.3333333333333333,
              "#9c179e"
             ],
             [
              0.4444444444444444,
              "#bd3786"
             ],
             [
              0.5555555555555556,
              "#d8576b"
             ],
             [
              0.6666666666666666,
              "#ed7953"
             ],
             [
              0.7777777777777778,
              "#fb9f3a"
             ],
             [
              0.8888888888888888,
              "#fdca26"
             ],
             [
              1,
              "#f0f921"
             ]
            ],
            "type": "contour"
           }
          ],
          "contourcarpet": [
           {
            "colorbar": {
             "outlinewidth": 0,
             "ticks": ""
            },
            "type": "contourcarpet"
           }
          ],
          "heatmap": [
           {
            "colorbar": {
             "outlinewidth": 0,
             "ticks": ""
            },
            "colorscale": [
             [
              0,
              "#0d0887"
             ],
             [
              0.1111111111111111,
              "#46039f"
             ],
             [
              0.2222222222222222,
              "#7201a8"
             ],
             [
              0.3333333333333333,
              "#9c179e"
             ],
             [
              0.4444444444444444,
              "#bd3786"
             ],
             [
              0.5555555555555556,
              "#d8576b"
             ],
             [
              0.6666666666666666,
              "#ed7953"
             ],
             [
              0.7777777777777778,
              "#fb9f3a"
             ],
             [
              0.8888888888888888,
              "#fdca26"
             ],
             [
              1,
              "#f0f921"
             ]
            ],
            "type": "heatmap"
           }
          ],
          "heatmapgl": [
           {
            "colorbar": {
             "outlinewidth": 0,
             "ticks": ""
            },
            "colorscale": [
             [
              0,
              "#0d0887"
             ],
             [
              0.1111111111111111,
              "#46039f"
             ],
             [
              0.2222222222222222,
              "#7201a8"
             ],
             [
              0.3333333333333333,
              "#9c179e"
             ],
             [
              0.4444444444444444,
              "#bd3786"
             ],
             [
              0.5555555555555556,
              "#d8576b"
             ],
             [
              0.6666666666666666,
              "#ed7953"
             ],
             [
              0.7777777777777778,
              "#fb9f3a"
             ],
             [
              0.8888888888888888,
              "#fdca26"
             ],
             [
              1,
              "#f0f921"
             ]
            ],
            "type": "heatmapgl"
           }
          ],
          "histogram": [
           {
            "marker": {
             "pattern": {
              "fillmode": "overlay",
              "size": 10,
              "solidity": 0.2
             }
            },
            "type": "histogram"
           }
          ],
          "histogram2d": [
           {
            "colorbar": {
             "outlinewidth": 0,
             "ticks": ""
            },
            "colorscale": [
             [
              0,
              "#0d0887"
             ],
             [
              0.1111111111111111,
              "#46039f"
             ],
             [
              0.2222222222222222,
              "#7201a8"
             ],
             [
              0.3333333333333333,
              "#9c179e"
             ],
             [
              0.4444444444444444,
              "#bd3786"
             ],
             [
              0.5555555555555556,
              "#d8576b"
             ],
             [
              0.6666666666666666,
              "#ed7953"
             ],
             [
              0.7777777777777778,
              "#fb9f3a"
             ],
             [
              0.8888888888888888,
              "#fdca26"
             ],
             [
              1,
              "#f0f921"
             ]
            ],
            "type": "histogram2d"
           }
          ],
          "histogram2dcontour": [
           {
            "colorbar": {
             "outlinewidth": 0,
             "ticks": ""
            },
            "colorscale": [
             [
              0,
              "#0d0887"
             ],
             [
              0.1111111111111111,
              "#46039f"
             ],
             [
              0.2222222222222222,
              "#7201a8"
             ],
             [
              0.3333333333333333,
              "#9c179e"
             ],
             [
              0.4444444444444444,
              "#bd3786"
             ],
             [
              0.5555555555555556,
              "#d8576b"
             ],
             [
              0.6666666666666666,
              "#ed7953"
             ],
             [
              0.7777777777777778,
              "#fb9f3a"
             ],
             [
              0.8888888888888888,
              "#fdca26"
             ],
             [
              1,
              "#f0f921"
             ]
            ],
            "type": "histogram2dcontour"
           }
          ],
          "mesh3d": [
           {
            "colorbar": {
             "outlinewidth": 0,
             "ticks": ""
            },
            "type": "mesh3d"
           }
          ],
          "parcoords": [
           {
            "line": {
             "colorbar": {
              "outlinewidth": 0,
              "ticks": ""
             }
            },
            "type": "parcoords"
           }
          ],
          "pie": [
           {
            "automargin": true,
            "type": "pie"
           }
          ],
          "scatter": [
           {
            "fillpattern": {
             "fillmode": "overlay",
             "size": 10,
             "solidity": 0.2
            },
            "type": "scatter"
           }
          ],
          "scatter3d": [
           {
            "line": {
             "colorbar": {
              "outlinewidth": 0,
              "ticks": ""
             }
            },
            "marker": {
             "colorbar": {
              "outlinewidth": 0,
              "ticks": ""
             }
            },
            "type": "scatter3d"
           }
          ],
          "scattercarpet": [
           {
            "marker": {
             "colorbar": {
              "outlinewidth": 0,
              "ticks": ""
             }
            },
            "type": "scattercarpet"
           }
          ],
          "scattergeo": [
           {
            "marker": {
             "colorbar": {
              "outlinewidth": 0,
              "ticks": ""
             }
            },
            "type": "scattergeo"
           }
          ],
          "scattergl": [
           {
            "marker": {
             "colorbar": {
              "outlinewidth": 0,
              "ticks": ""
             }
            },
            "type": "scattergl"
           }
          ],
          "scattermapbox": [
           {
            "marker": {
             "colorbar": {
              "outlinewidth": 0,
              "ticks": ""
             }
            },
            "type": "scattermapbox"
           }
          ],
          "scatterpolar": [
           {
            "marker": {
             "colorbar": {
              "outlinewidth": 0,
              "ticks": ""
             }
            },
            "type": "scatterpolar"
           }
          ],
          "scatterpolargl": [
           {
            "marker": {
             "colorbar": {
              "outlinewidth": 0,
              "ticks": ""
             }
            },
            "type": "scatterpolargl"
           }
          ],
          "scatterternary": [
           {
            "marker": {
             "colorbar": {
              "outlinewidth": 0,
              "ticks": ""
             }
            },
            "type": "scatterternary"
           }
          ],
          "surface": [
           {
            "colorbar": {
             "outlinewidth": 0,
             "ticks": ""
            },
            "colorscale": [
             [
              0,
              "#0d0887"
             ],
             [
              0.1111111111111111,
              "#46039f"
             ],
             [
              0.2222222222222222,
              "#7201a8"
             ],
             [
              0.3333333333333333,
              "#9c179e"
             ],
             [
              0.4444444444444444,
              "#bd3786"
             ],
             [
              0.5555555555555556,
              "#d8576b"
             ],
             [
              0.6666666666666666,
              "#ed7953"
             ],
             [
              0.7777777777777778,
              "#fb9f3a"
             ],
             [
              0.8888888888888888,
              "#fdca26"
             ],
             [
              1,
              "#f0f921"
             ]
            ],
            "type": "surface"
           }
          ],
          "table": [
           {
            "cells": {
             "fill": {
              "color": "#EBF0F8"
             },
             "line": {
              "color": "white"
             }
            },
            "header": {
             "fill": {
              "color": "#C8D4E3"
             },
             "line": {
              "color": "white"
             }
            },
            "type": "table"
           }
          ]
         },
         "layout": {
          "annotationdefaults": {
           "arrowcolor": "#2a3f5f",
           "arrowhead": 0,
           "arrowwidth": 1
          },
          "autotypenumbers": "strict",
          "coloraxis": {
           "colorbar": {
            "outlinewidth": 0,
            "ticks": ""
           }
          },
          "colorscale": {
           "diverging": [
            [
             0,
             "#8e0152"
            ],
            [
             0.1,
             "#c51b7d"
            ],
            [
             0.2,
             "#de77ae"
            ],
            [
             0.3,
             "#f1b6da"
            ],
            [
             0.4,
             "#fde0ef"
            ],
            [
             0.5,
             "#f7f7f7"
            ],
            [
             0.6,
             "#e6f5d0"
            ],
            [
             0.7,
             "#b8e186"
            ],
            [
             0.8,
             "#7fbc41"
            ],
            [
             0.9,
             "#4d9221"
            ],
            [
             1,
             "#276419"
            ]
           ],
           "sequential": [
            [
             0,
             "#0d0887"
            ],
            [
             0.1111111111111111,
             "#46039f"
            ],
            [
             0.2222222222222222,
             "#7201a8"
            ],
            [
             0.3333333333333333,
             "#9c179e"
            ],
            [
             0.4444444444444444,
             "#bd3786"
            ],
            [
             0.5555555555555556,
             "#d8576b"
            ],
            [
             0.6666666666666666,
             "#ed7953"
            ],
            [
             0.7777777777777778,
             "#fb9f3a"
            ],
            [
             0.8888888888888888,
             "#fdca26"
            ],
            [
             1,
             "#f0f921"
            ]
           ],
           "sequentialminus": [
            [
             0,
             "#0d0887"
            ],
            [
             0.1111111111111111,
             "#46039f"
            ],
            [
             0.2222222222222222,
             "#7201a8"
            ],
            [
             0.3333333333333333,
             "#9c179e"
            ],
            [
             0.4444444444444444,
             "#bd3786"
            ],
            [
             0.5555555555555556,
             "#d8576b"
            ],
            [
             0.6666666666666666,
             "#ed7953"
            ],
            [
             0.7777777777777778,
             "#fb9f3a"
            ],
            [
             0.8888888888888888,
             "#fdca26"
            ],
            [
             1,
             "#f0f921"
            ]
           ]
          },
          "colorway": [
           "#636efa",
           "#EF553B",
           "#00cc96",
           "#ab63fa",
           "#FFA15A",
           "#19d3f3",
           "#FF6692",
           "#B6E880",
           "#FF97FF",
           "#FECB52"
          ],
          "font": {
           "color": "#2a3f5f"
          },
          "geo": {
           "bgcolor": "white",
           "lakecolor": "white",
           "landcolor": "#E5ECF6",
           "showlakes": true,
           "showland": true,
           "subunitcolor": "white"
          },
          "hoverlabel": {
           "align": "left"
          },
          "hovermode": "closest",
          "mapbox": {
           "style": "light"
          },
          "paper_bgcolor": "white",
          "plot_bgcolor": "#E5ECF6",
          "polar": {
           "angularaxis": {
            "gridcolor": "white",
            "linecolor": "white",
            "ticks": ""
           },
           "bgcolor": "#E5ECF6",
           "radialaxis": {
            "gridcolor": "white",
            "linecolor": "white",
            "ticks": ""
           }
          },
          "scene": {
           "xaxis": {
            "backgroundcolor": "#E5ECF6",
            "gridcolor": "white",
            "gridwidth": 2,
            "linecolor": "white",
            "showbackground": true,
            "ticks": "",
            "zerolinecolor": "white"
           },
           "yaxis": {
            "backgroundcolor": "#E5ECF6",
            "gridcolor": "white",
            "gridwidth": 2,
            "linecolor": "white",
            "showbackground": true,
            "ticks": "",
            "zerolinecolor": "white"
           },
           "zaxis": {
            "backgroundcolor": "#E5ECF6",
            "gridcolor": "white",
            "gridwidth": 2,
            "linecolor": "white",
            "showbackground": true,
            "ticks": "",
            "zerolinecolor": "white"
           }
          },
          "shapedefaults": {
           "line": {
            "color": "#2a3f5f"
           }
          },
          "ternary": {
           "aaxis": {
            "gridcolor": "white",
            "linecolor": "white",
            "ticks": ""
           },
           "baxis": {
            "gridcolor": "white",
            "linecolor": "white",
            "ticks": ""
           },
           "bgcolor": "#E5ECF6",
           "caxis": {
            "gridcolor": "white",
            "linecolor": "white",
            "ticks": ""
           }
          },
          "title": {
           "x": 0.05
          },
          "xaxis": {
           "automargin": true,
           "gridcolor": "white",
           "linecolor": "white",
           "ticks": "",
           "title": {
            "standoff": 15
           },
           "zerolinecolor": "white",
           "zerolinewidth": 2
          },
          "yaxis": {
           "automargin": true,
           "gridcolor": "white",
           "linecolor": "white",
           "ticks": "",
           "title": {
            "standoff": 15
           },
           "zerolinecolor": "white",
           "zerolinewidth": 2
          }
         }
        },
        "updatemenus": [
         {
          "active": 0,
          "buttons": [
           {
            "args": [
             {
              "visible": [
               true,
               true,
               true,
               false,
               false,
               false
              ]
             }
            ],
            "label": "No",
            "method": "update"
           },
           {
            "args": [
             {
              "visible": [
               false,
               false,
               false,
               true,
               true,
               true
              ]
             }
            ],
            "label": "Yes",
            "method": "update"
           }
          ],
          "direction": "right",
          "type": "buttons",
          "x": 0.57,
          "y": -0.3
         }
        ],
        "width": 720,
        "xaxis": {
         "anchor": "y",
         "domain": [
          0,
          0.26666666666666666
         ],
         "gridcolor": "rgb(169,169,169)",
         "linecolor": "black",
         "linewidth": 2,
         "showgrid": true
        },
        "xaxis2": {
         "anchor": "y2",
         "domain": [
          0.3666666666666667,
          0.6333333333333333
         ],
         "gridcolor": "rgb(169,169,169)",
         "linecolor": "black",
         "linewidth": 2,
         "showgrid": true
        },
        "xaxis3": {
         "anchor": "y3",
         "domain": [
          0.7333333333333334,
          1
         ],
         "gridcolor": "rgb(169,169,169)",
         "linecolor": "black",
         "linewidth": 2,
         "showgrid": true
        },
        "yaxis": {
         "anchor": "x",
         "domain": [
          0,
          1
         ],
         "gridcolor": "rgb(169,169,169)",
         "linecolor": "black",
         "linewidth": 2,
         "range": [
          35,
          55
         ],
         "showgrid": true
        },
        "yaxis2": {
         "anchor": "x2",
         "domain": [
          0,
          1
         ],
         "gridcolor": "rgb(169,169,169)",
         "linecolor": "black",
         "linewidth": 2,
         "range": [
          0.3,
          0.9
         ],
         "showgrid": true
        },
        "yaxis3": {
         "anchor": "x3",
         "domain": [
          0,
          1
         ],
         "gridcolor": "rgb(169,169,169)",
         "linecolor": "black",
         "linewidth": 2,
         "range": [
          4,
          7
         ],
         "showgrid": true
        }
       }
      },
      "text/html": [
       "<div>                            <div id=\"369ea311-31e1-4252-8856-7e5e89beef52\" class=\"plotly-graph-div\" style=\"height:300px; width:720px;\"></div>            <script type=\"text/javascript\">                require([\"plotly\"], function(Plotly) {                    window.PLOTLYENV=window.PLOTLYENV || {};                                    if (document.getElementById(\"369ea311-31e1-4252-8856-7e5e89beef52\")) {                    Plotly.newPlot(                        \"369ea311-31e1-4252-8856-7e5e89beef52\",                        [{\"hoverinfo\":\"y\",\"showlegend\":false,\"visible\":true,\"x\":[0.7,0.73,0.76,0.7899999999999999,0.82,0.85,0.88,0.91,0.94,0.97,1.0,1.03,1.06,1.0899999999999999,1.12,1.15,1.1800000000000002,1.21,1.24,1.27,1.3],\"xaxis\":\"x\",\"y\":[35.447422564776254,36.865948639397786,38.214378670874986,39.49423307568623,40.7020779776798,41.84951341337406,42.934078614242516,43.9582771666566,44.9318214694217,45.842721254074775,46.700604435679395,47.508408646341785,48.27215332053276,48.9892872525899,49.660641794927564,50.294811790645745,50.88673639063835,51.44813304532337,51.96876683308765,52.462471704597554,52.919306469414366],\"yaxis\":\"y\",\"type\":\"scatter\"},{\"hoverinfo\":\"y\",\"showlegend\":false,\"visible\":true,\"x\":[0.7,0.73,0.76,0.7899999999999999,0.82,0.85,0.88,0.91,0.94,0.97,1.0,1.03,1.06,1.0899999999999999,1.12,1.15,1.1800000000000002,1.21,1.24,1.27,1.3],\"xaxis\":\"x2\",\"y\":[0.2723761699753499,0.29637711747635104,0.32141287672601854,0.34748722455860254,0.37460416261527885,0.40276792648996257,0.4319829953417134,0.4622541019891054,0.49358624350303837,0.5259846923156318,0.5594550078640645,0.5940030487895827,0.629634985713249,0.6663573146115567,0.7041768708166061,0.7431008436672256,0.7831367918393137,0.8242926593855164,0.8665767925165295,0.9099979571585008,0.9545653573233448],\"yaxis\":\"y2\",\"type\":\"scatter\"},{\"hoverinfo\":\"y\",\"showlegend\":false,\"visible\":true,\"x\":[0.7,0.73,0.76,0.7899999999999999,0.82,0.85,0.88,0.91,0.94,0.97,1.0,1.03,1.06,1.0899999999999999,1.12,1.15,1.1800000000000002,1.21,1.24,1.27,1.3],\"xaxis\":\"x3\",\"y\":[6.752461291854189,6.624914441636975,6.496937577003653,6.368920333257999,6.239827788768536,6.112448669384446,5.985778648789421,5.860069106011495,5.737196187769228,5.61393201598228,5.492126640361443,5.372015479890967,5.254465837854484,5.138511371422131,5.023961275963193,4.912178124059772,4.80179202463025,4.694716139819637,4.588673425252676,4.485921076534956,4.384349874340697],\"yaxis\":\"y3\",\"type\":\"scatter\"},{\"hoverinfo\":\"y\",\"showlegend\":false,\"visible\":false,\"x\":[0.7,0.73,0.76,0.7899999999999999,0.82,0.85,0.88,0.91,0.94,0.97,1.0,1.03,1.06,1.0899999999999999,1.12,1.15,1.1800000000000002,1.21,1.24,1.27,1.3],\"xaxis\":\"x\",\"y\":[35.447422564776254,36.865948639397786,38.214378670874986,39.49423307568623,40.7020779776798,41.84951341337406,42.934078614242516,43.9582771666566,44.9318214694217,45.842721254074775,46.700604435679395,47.508408646341785,48.27215332053276,48.9892872525899,49.660641794927564,50.294811790645745,50.88673639063835,51.44813304532337,51.96876683308765,52.462471704597554,52.919306469414366],\"yaxis\":\"y\",\"type\":\"scatter\"},{\"hoverinfo\":\"y\",\"showlegend\":false,\"visible\":false,\"x\":[0.7,0.73,0.76,0.7899999999999999,0.82,0.85,0.88,0.91,0.94,0.97,1.0,1.03,1.06,1.0899999999999999,1.12,1.15,1.1800000000000002,1.21,1.24,1.27,1.3],\"xaxis\":\"x2\",\"y\":[0.5558697346435713,0.5561589744348866,0.556462736714021,0.5567813244009014,0.5571150544546087,0.5574642581175954,0.5578292811747333,0.5582104842278774,0.558608242986689,0.5590229485765033,0.5594550078640645,0.5599048438020384,0.5603728957932084,0.5608596200753783,0.5613654901280342,0.561890997101872,0.5624366502724171,0.5630029775189649,0.5635905258302092,0.5641998618379942,0.5648315723806774],\"yaxis\":\"y2\",\"type\":\"scatter\"},{\"hoverinfo\":\"y\",\"showlegend\":false,\"visible\":false,\"x\":[0.7,0.73,0.76,0.7899999999999999,0.82,0.85,0.88,0.91,0.94,0.97,1.0,1.03,1.06,1.0899999999999999,1.12,1.15,1.1800000000000002,1.21,1.24,1.27,1.3],\"xaxis\":\"x3\",\"y\":[5.857838069074654,5.776477111456447,5.708672273457986,5.6526930486613445,5.606083620165932,5.569386326333537,5.540685983354427,5.519128076229951,5.5054962694536265,5.496180478017028,5.492126640361443,5.493021931521071,5.499372470909369,5.509815759440512,5.52378081003559,5.542687017666135,5.564677589925702,5.592216456355769,5.6221488593167885,5.657754790884508,5.6959336648855],\"yaxis\":\"y3\",\"type\":\"scatter\"}],                        {\"annotations\":[{\"font\":{\"family\":\"Times New Roman\",\"size\":22},\"showarrow\":false,\"text\":\"MTsat (%)\",\"textangle\":-90,\"x\":-0.15,\"xref\":\"paper\",\"y\":0.5,\"yref\":\"paper\"},{\"font\":{\"family\":\"Times New Roman\",\"size\":22},\"showarrow\":false,\"text\":\"MTsat (%)\",\"textangle\":-90,\"x\":-0.15,\"xref\":\"paper\",\"y\":0.5,\"yref\":\"paper\"},{\"font\":{\"family\":\"Times New Roman\",\"size\":22},\"showarrow\":false,\"text\":\"B\\u003csub\\u003e1\\u003c\\u002fsub\\u003e\",\"textangle\":0,\"x\":0.51,\"xref\":\"paper\",\"y\":-0.3,\"yref\":\"paper\"},{\"font\":{\"family\":\"Times New Roman\",\"size\":22},\"showarrow\":false,\"text\":\"B\\u003csub\\u003e1\\u003c\\u002fsub\\u003e\",\"textangle\":0,\"x\":0.9,\"xref\":\"paper\",\"y\":-0.3,\"yref\":\"paper\"},{\"font\":{\"family\":\"Times New Roman\",\"size\":22},\"showarrow\":false,\"text\":\"B\\u003csub\\u003e1\\u003c\\u002fsub\\u003e\",\"textangle\":0,\"x\":0.12,\"xref\":\"paper\",\"y\":-0.3,\"yref\":\"paper\"},{\"font\":{\"family\":\"Times New Roman\",\"size\":22},\"showarrow\":false,\"text\":\"MTR\",\"textangle\":-90,\"x\":-0.08,\"xref\":\"paper\",\"y\":0.5,\"yref\":\"paper\"},{\"font\":{\"family\":\"Times New Roman\",\"size\":22},\"showarrow\":false,\"text\":\"T\\u003csub\\u003e1\\u003c\\u002fsub\\u003e (s)\",\"textangle\":-90,\"x\":0.28,\"xref\":\"paper\",\"y\":0.5,\"yref\":\"paper\"},{\"font\":{\"family\":\"Times New Roman\",\"size\":22},\"showarrow\":false,\"text\":\"MTsat (%)\",\"textangle\":-90,\"x\":0.69,\"xref\":\"paper\",\"y\":0.5,\"yref\":\"paper\"},{\"font\":{\"family\":\"Times New Roman\",\"size\":22},\"showarrow\":false,\"text\":\"B\\u003csub\\u003e1\\u003c\\u002fsub\\u003e correction?\",\"x\":0.22,\"xref\":\"paper\",\"y\":-0.55,\"yref\":\"paper\"}],\"height\":300,\"margin\":{\"b\":60,\"l\":60,\"r\":30,\"t\":60},\"template\":{\"data\":{\"barpolar\":[{\"marker\":{\"line\":{\"color\":\"#E5ECF6\",\"width\":0.5},\"pattern\":{\"fillmode\":\"overlay\",\"size\":10,\"solidity\":0.2}},\"type\":\"barpolar\"}],\"bar\":[{\"error_x\":{\"color\":\"#2a3f5f\"},\"error_y\":{\"color\":\"#2a3f5f\"},\"marker\":{\"line\":{\"color\":\"#E5ECF6\",\"width\":0.5},\"pattern\":{\"fillmode\":\"overlay\",\"size\":10,\"solidity\":0.2}},\"type\":\"bar\"}],\"carpet\":[{\"aaxis\":{\"endlinecolor\":\"#2a3f5f\",\"gridcolor\":\"white\",\"linecolor\":\"white\",\"minorgridcolor\":\"white\",\"startlinecolor\":\"#2a3f5f\"},\"baxis\":{\"endlinecolor\":\"#2a3f5f\",\"gridcolor\":\"white\",\"linecolor\":\"white\",\"minorgridcolor\":\"white\",\"startlinecolor\":\"#2a3f5f\"},\"type\":\"carpet\"}],\"choropleth\":[{\"colorbar\":{\"outlinewidth\":0,\"ticks\":\"\"},\"type\":\"choropleth\"}],\"contourcarpet\":[{\"colorbar\":{\"outlinewidth\":0,\"ticks\":\"\"},\"type\":\"contourcarpet\"}],\"contour\":[{\"colorbar\":{\"outlinewidth\":0,\"ticks\":\"\"},\"colorscale\":[[0.0,\"#0d0887\"],[0.1111111111111111,\"#46039f\"],[0.2222222222222222,\"#7201a8\"],[0.3333333333333333,\"#9c179e\"],[0.4444444444444444,\"#bd3786\"],[0.5555555555555556,\"#d8576b\"],[0.6666666666666666,\"#ed7953\"],[0.7777777777777778,\"#fb9f3a\"],[0.8888888888888888,\"#fdca26\"],[1.0,\"#f0f921\"]],\"type\":\"contour\"}],\"heatmapgl\":[{\"colorbar\":{\"outlinewidth\":0,\"ticks\":\"\"},\"colorscale\":[[0.0,\"#0d0887\"],[0.1111111111111111,\"#46039f\"],[0.2222222222222222,\"#7201a8\"],[0.3333333333333333,\"#9c179e\"],[0.4444444444444444,\"#bd3786\"],[0.5555555555555556,\"#d8576b\"],[0.6666666666666666,\"#ed7953\"],[0.7777777777777778,\"#fb9f3a\"],[0.8888888888888888,\"#fdca26\"],[1.0,\"#f0f921\"]],\"type\":\"heatmapgl\"}],\"heatmap\":[{\"colorbar\":{\"outlinewidth\":0,\"ticks\":\"\"},\"colorscale\":[[0.0,\"#0d0887\"],[0.1111111111111111,\"#46039f\"],[0.2222222222222222,\"#7201a8\"],[0.3333333333333333,\"#9c179e\"],[0.4444444444444444,\"#bd3786\"],[0.5555555555555556,\"#d8576b\"],[0.6666666666666666,\"#ed7953\"],[0.7777777777777778,\"#fb9f3a\"],[0.8888888888888888,\"#fdca26\"],[1.0,\"#f0f921\"]],\"type\":\"heatmap\"}],\"histogram2dcontour\":[{\"colorbar\":{\"outlinewidth\":0,\"ticks\":\"\"},\"colorscale\":[[0.0,\"#0d0887\"],[0.1111111111111111,\"#46039f\"],[0.2222222222222222,\"#7201a8\"],[0.3333333333333333,\"#9c179e\"],[0.4444444444444444,\"#bd3786\"],[0.5555555555555556,\"#d8576b\"],[0.6666666666666666,\"#ed7953\"],[0.7777777777777778,\"#fb9f3a\"],[0.8888888888888888,\"#fdca26\"],[1.0,\"#f0f921\"]],\"type\":\"histogram2dcontour\"}],\"histogram2d\":[{\"colorbar\":{\"outlinewidth\":0,\"ticks\":\"\"},\"colorscale\":[[0.0,\"#0d0887\"],[0.1111111111111111,\"#46039f\"],[0.2222222222222222,\"#7201a8\"],[0.3333333333333333,\"#9c179e\"],[0.4444444444444444,\"#bd3786\"],[0.5555555555555556,\"#d8576b\"],[0.6666666666666666,\"#ed7953\"],[0.7777777777777778,\"#fb9f3a\"],[0.8888888888888888,\"#fdca26\"],[1.0,\"#f0f921\"]],\"type\":\"histogram2d\"}],\"histogram\":[{\"marker\":{\"pattern\":{\"fillmode\":\"overlay\",\"size\":10,\"solidity\":0.2}},\"type\":\"histogram\"}],\"mesh3d\":[{\"colorbar\":{\"outlinewidth\":0,\"ticks\":\"\"},\"type\":\"mesh3d\"}],\"parcoords\":[{\"line\":{\"colorbar\":{\"outlinewidth\":0,\"ticks\":\"\"}},\"type\":\"parcoords\"}],\"pie\":[{\"automargin\":true,\"type\":\"pie\"}],\"scatter3d\":[{\"line\":{\"colorbar\":{\"outlinewidth\":0,\"ticks\":\"\"}},\"marker\":{\"colorbar\":{\"outlinewidth\":0,\"ticks\":\"\"}},\"type\":\"scatter3d\"}],\"scattercarpet\":[{\"marker\":{\"colorbar\":{\"outlinewidth\":0,\"ticks\":\"\"}},\"type\":\"scattercarpet\"}],\"scattergeo\":[{\"marker\":{\"colorbar\":{\"outlinewidth\":0,\"ticks\":\"\"}},\"type\":\"scattergeo\"}],\"scattergl\":[{\"marker\":{\"colorbar\":{\"outlinewidth\":0,\"ticks\":\"\"}},\"type\":\"scattergl\"}],\"scattermapbox\":[{\"marker\":{\"colorbar\":{\"outlinewidth\":0,\"ticks\":\"\"}},\"type\":\"scattermapbox\"}],\"scatterpolargl\":[{\"marker\":{\"colorbar\":{\"outlinewidth\":0,\"ticks\":\"\"}},\"type\":\"scatterpolargl\"}],\"scatterpolar\":[{\"marker\":{\"colorbar\":{\"outlinewidth\":0,\"ticks\":\"\"}},\"type\":\"scatterpolar\"}],\"scatter\":[{\"fillpattern\":{\"fillmode\":\"overlay\",\"size\":10,\"solidity\":0.2},\"type\":\"scatter\"}],\"scatterternary\":[{\"marker\":{\"colorbar\":{\"outlinewidth\":0,\"ticks\":\"\"}},\"type\":\"scatterternary\"}],\"surface\":[{\"colorbar\":{\"outlinewidth\":0,\"ticks\":\"\"},\"colorscale\":[[0.0,\"#0d0887\"],[0.1111111111111111,\"#46039f\"],[0.2222222222222222,\"#7201a8\"],[0.3333333333333333,\"#9c179e\"],[0.4444444444444444,\"#bd3786\"],[0.5555555555555556,\"#d8576b\"],[0.6666666666666666,\"#ed7953\"],[0.7777777777777778,\"#fb9f3a\"],[0.8888888888888888,\"#fdca26\"],[1.0,\"#f0f921\"]],\"type\":\"surface\"}],\"table\":[{\"cells\":{\"fill\":{\"color\":\"#EBF0F8\"},\"line\":{\"color\":\"white\"}},\"header\":{\"fill\":{\"color\":\"#C8D4E3\"},\"line\":{\"color\":\"white\"}},\"type\":\"table\"}]},\"layout\":{\"annotationdefaults\":{\"arrowcolor\":\"#2a3f5f\",\"arrowhead\":0,\"arrowwidth\":1},\"autotypenumbers\":\"strict\",\"coloraxis\":{\"colorbar\":{\"outlinewidth\":0,\"ticks\":\"\"}},\"colorscale\":{\"diverging\":[[0,\"#8e0152\"],[0.1,\"#c51b7d\"],[0.2,\"#de77ae\"],[0.3,\"#f1b6da\"],[0.4,\"#fde0ef\"],[0.5,\"#f7f7f7\"],[0.6,\"#e6f5d0\"],[0.7,\"#b8e186\"],[0.8,\"#7fbc41\"],[0.9,\"#4d9221\"],[1,\"#276419\"]],\"sequential\":[[0.0,\"#0d0887\"],[0.1111111111111111,\"#46039f\"],[0.2222222222222222,\"#7201a8\"],[0.3333333333333333,\"#9c179e\"],[0.4444444444444444,\"#bd3786\"],[0.5555555555555556,\"#d8576b\"],[0.6666666666666666,\"#ed7953\"],[0.7777777777777778,\"#fb9f3a\"],[0.8888888888888888,\"#fdca26\"],[1.0,\"#f0f921\"]],\"sequentialminus\":[[0.0,\"#0d0887\"],[0.1111111111111111,\"#46039f\"],[0.2222222222222222,\"#7201a8\"],[0.3333333333333333,\"#9c179e\"],[0.4444444444444444,\"#bd3786\"],[0.5555555555555556,\"#d8576b\"],[0.6666666666666666,\"#ed7953\"],[0.7777777777777778,\"#fb9f3a\"],[0.8888888888888888,\"#fdca26\"],[1.0,\"#f0f921\"]]},\"colorway\":[\"#636efa\",\"#EF553B\",\"#00cc96\",\"#ab63fa\",\"#FFA15A\",\"#19d3f3\",\"#FF6692\",\"#B6E880\",\"#FF97FF\",\"#FECB52\"],\"font\":{\"color\":\"#2a3f5f\"},\"geo\":{\"bgcolor\":\"white\",\"lakecolor\":\"white\",\"landcolor\":\"#E5ECF6\",\"showlakes\":true,\"showland\":true,\"subunitcolor\":\"white\"},\"hoverlabel\":{\"align\":\"left\"},\"hovermode\":\"closest\",\"mapbox\":{\"style\":\"light\"},\"paper_bgcolor\":\"white\",\"plot_bgcolor\":\"#E5ECF6\",\"polar\":{\"angularaxis\":{\"gridcolor\":\"white\",\"linecolor\":\"white\",\"ticks\":\"\"},\"bgcolor\":\"#E5ECF6\",\"radialaxis\":{\"gridcolor\":\"white\",\"linecolor\":\"white\",\"ticks\":\"\"}},\"scene\":{\"xaxis\":{\"backgroundcolor\":\"#E5ECF6\",\"gridcolor\":\"white\",\"gridwidth\":2,\"linecolor\":\"white\",\"showbackground\":true,\"ticks\":\"\",\"zerolinecolor\":\"white\"},\"yaxis\":{\"backgroundcolor\":\"#E5ECF6\",\"gridcolor\":\"white\",\"gridwidth\":2,\"linecolor\":\"white\",\"showbackground\":true,\"ticks\":\"\",\"zerolinecolor\":\"white\"},\"zaxis\":{\"backgroundcolor\":\"#E5ECF6\",\"gridcolor\":\"white\",\"gridwidth\":2,\"linecolor\":\"white\",\"showbackground\":true,\"ticks\":\"\",\"zerolinecolor\":\"white\"}},\"shapedefaults\":{\"line\":{\"color\":\"#2a3f5f\"}},\"ternary\":{\"aaxis\":{\"gridcolor\":\"white\",\"linecolor\":\"white\",\"ticks\":\"\"},\"baxis\":{\"gridcolor\":\"white\",\"linecolor\":\"white\",\"ticks\":\"\"},\"bgcolor\":\"#E5ECF6\",\"caxis\":{\"gridcolor\":\"white\",\"linecolor\":\"white\",\"ticks\":\"\"}},\"title\":{\"x\":0.05},\"xaxis\":{\"automargin\":true,\"gridcolor\":\"white\",\"linecolor\":\"white\",\"ticks\":\"\",\"title\":{\"standoff\":15},\"zerolinecolor\":\"white\",\"zerolinewidth\":2},\"yaxis\":{\"automargin\":true,\"gridcolor\":\"white\",\"linecolor\":\"white\",\"ticks\":\"\",\"title\":{\"standoff\":15},\"zerolinecolor\":\"white\",\"zerolinewidth\":2}}},\"updatemenus\":[{\"active\":0,\"buttons\":[{\"args\":[{\"visible\":[true,true,true,false,false,false]}],\"label\":\"No\",\"method\":\"update\"},{\"args\":[{\"visible\":[false,false,false,true,true,true]}],\"label\":\"Yes\",\"method\":\"update\"}],\"direction\":\"right\",\"type\":\"buttons\",\"x\":0.57,\"y\":-0.3}],\"width\":720,\"xaxis\":{\"anchor\":\"y\",\"domain\":[0.0,0.26666666666666666],\"gridcolor\":\"rgb(169,169,169)\",\"linecolor\":\"black\",\"linewidth\":2,\"showgrid\":true},\"yaxis\":{\"anchor\":\"x\",\"domain\":[0.0,1.0],\"gridcolor\":\"rgb(169,169,169)\",\"linecolor\":\"black\",\"linewidth\":2,\"range\":[35,55],\"showgrid\":true},\"xaxis2\":{\"anchor\":\"y2\",\"domain\":[0.3666666666666667,0.6333333333333333],\"gridcolor\":\"rgb(169,169,169)\",\"linecolor\":\"black\",\"linewidth\":2,\"showgrid\":true},\"yaxis2\":{\"anchor\":\"x2\",\"domain\":[0.0,1.0],\"gridcolor\":\"rgb(169,169,169)\",\"linecolor\":\"black\",\"linewidth\":2,\"range\":[0.3,0.9],\"showgrid\":true},\"xaxis3\":{\"anchor\":\"y3\",\"domain\":[0.7333333333333334,1.0],\"gridcolor\":\"rgb(169,169,169)\",\"linecolor\":\"black\",\"linewidth\":2,\"showgrid\":true},\"yaxis3\":{\"anchor\":\"x3\",\"domain\":[0.0,1.0],\"gridcolor\":\"rgb(169,169,169)\",\"linecolor\":\"black\",\"linewidth\":2,\"range\":[4,7],\"showgrid\":true}},                        {\"displayModeBar\": false, \"responsive\": true}                    ).then(function(){\n",
       "                            \n",
       "var gd = document.getElementById('369ea311-31e1-4252-8856-7e5e89beef52');\n",
       "var x = new MutationObserver(function (mutations, observer) {{\n",
       "        var display = window.getComputedStyle(gd).display;\n",
       "        if (!display || display === 'none') {{\n",
       "            console.log([gd, 'removed!']);\n",
       "            Plotly.purge(gd);\n",
       "            observer.disconnect();\n",
       "        }}\n",
       "}});\n",
       "\n",
       "// Listen for the removal of the full notebook cells\n",
       "var notebookContainer = gd.closest('#notebook-container');\n",
       "if (notebookContainer) {{\n",
       "    x.observe(notebookContainer, {childList: true});\n",
       "}}\n",
       "\n",
       "// Listen for the clearing of the current output cell\n",
       "var outputEl = gd.closest('.output');\n",
       "if (outputEl) {{\n",
       "    x.observe(outputEl, {childList: true});\n",
       "}}\n",
       "\n",
       "                        })                };                });            </script>        </div>"
      ]
     },
     "metadata": {},
     "output_type": "display_data"
    }
   ],
   "source": [
    "#| label: mtsatFig3jn\n",
    "\n",
    "# Prepare Python environment\n",
    "\n",
    "import scipy.io as sio\n",
    "import numpy as np\n",
    "from pathlib import Path\n",
    "\n",
    "data_dir = Path(\"../../../../DATA/qmrlab-mooc/06-MT-03-MTsat\")\n",
    "data_file_a = \"fig2a_mtsat.mat\"\n",
    "data_file_b = \"fig2b_mtsat.mat\"\n",
    "\n",
    "#Load either archived or generated plot variables\n",
    "mat_contents_a = sio.loadmat(data_dir / data_file_a)\n",
    "mat_contents_b = sio.loadmat(data_dir / data_file_b)\n",
    "\n",
    "MTsats_uncorr = mat_contents_a[\"MTsats\"][0]\n",
    "MTRs_uncorr = mat_contents_a[\"MTRs\"][0]\n",
    "B1s_uncorr = mat_contents_a[\"B1_range\"][0]\n",
    "T1s_uncorr = mat_contents_a[\"T1s\"][0]\n",
    "\n",
    "MTsats_corr = mat_contents_b[\"MTsats\"][0]\n",
    "MTRs_corr = mat_contents_b[\"MTRs\"][0]\n",
    "B1s_corr = mat_contents_b[\"B1_range\"][0]\n",
    "T1s_corr = mat_contents_b[\"T1s\"][0]\n",
    "\n",
    "# Plot Figure 1\n",
    "\n",
    "# Module imports\n",
    "\n",
    "import matplotlib.pyplot as plt\n",
    "import plotly as py\n",
    "import plotly.graph_objs as go\n",
    "import numpy as np\n",
    "from plotly import __version__\n",
    "from plotly.subplots import make_subplots\n",
    "\n",
    "from plotly.offline import download_plotlyjs, init_notebook_mode, plot, iplot\n",
    "config={'showLink': False, 'displayModeBar': False}\n",
    "\n",
    "init_notebook_mode(connected=True)\n",
    "\n",
    "# PYTHON CODE\n",
    "\n",
    "init_notebook_mode(connected=True)\n",
    "# The polling here is to ensure that plotly.js has already been loaded before\n",
    "# setting display alignment in order to avoid a race condition.\n",
    "\n",
    "## Setup for plots\n",
    "fig = make_subplots(rows=1, cols=3, horizontal_spacing = 0.1)\n",
    "\n",
    "\n",
    "fig.add_trace(\n",
    "        go.Scatter(\n",
    "        x=B1s_uncorr,\n",
    "        y=MTRs_uncorr,\n",
    "        hoverinfo = 'y',\n",
    "        showlegend=False,\n",
    "        visible=True\n",
    "        ), row= 1, col=1\n",
    "    )\n",
    "fig.add_trace(\n",
    "        go.Scatter(\n",
    "        x=B1s_uncorr,\n",
    "        y=T1s_uncorr,\n",
    "        hoverinfo = 'y',\n",
    "        showlegend=False,\n",
    "        visible=True\n",
    "        ), row= 1, col=2\n",
    "    )\n",
    "fig.add_trace(\n",
    "        go.Scatter(\n",
    "        x=B1s_uncorr,\n",
    "        y=MTsats_uncorr,\n",
    "        hoverinfo = 'y',\n",
    "        showlegend=False,\n",
    "        visible=True\n",
    "        ), row= 1, col=3\n",
    "    )\n",
    "\n",
    "\n",
    "fig.add_trace(\n",
    "        go.Scatter(\n",
    "        x=B1s_uncorr,\n",
    "        y=MTRs_corr,\n",
    "        hoverinfo = 'y',\n",
    "        showlegend=False,\n",
    "        visible=False\n",
    "        ), row= 1, col=1\n",
    "    )\n",
    "fig.add_trace(\n",
    "        go.Scatter(\n",
    "        x=B1s_uncorr,\n",
    "        y=T1s_corr,\n",
    "        hoverinfo = 'y',\n",
    "        showlegend=False,\n",
    "        visible=False\n",
    "        ), row= 1, col=2\n",
    "    )\n",
    "fig.add_trace(\n",
    "        go.Scatter(\n",
    "        x=B1s_corr,\n",
    "        y=MTsats_corr,\n",
    "        hoverinfo = 'y',\n",
    "        showlegend=False,\n",
    "        visible=False\n",
    "        ), row= 1, col=3\n",
    "    )\n",
    "\n",
    "layout = go.Layout(\n",
    "    width=720,\n",
    "    height=300,\n",
    "    margin=go.layout.Margin(\n",
    "        l=60,\n",
    "        r=30,\n",
    "        b=60,\n",
    "        t=60,\n",
    "    ),\n",
    "    annotations=[\n",
    "        dict(\n",
    "            x=-0.15,\n",
    "            y=0.50,\n",
    "            showarrow=False,\n",
    "            text='MTsat (%)',\n",
    "            font=dict(\n",
    "                family='Times New Roman',\n",
    "                size=22\n",
    "            ),\n",
    "            textangle=-90,\n",
    "            xref='paper',\n",
    "            yref='paper'\n",
    "        ),\n",
    "        dict(\n",
    "            x=-0.15,\n",
    "            y=0.50,\n",
    "            showarrow=False,\n",
    "            text='MTsat (%)',\n",
    "            font=dict(\n",
    "                family='Times New Roman',\n",
    "                size=22\n",
    "            ),\n",
    "            textangle=-90,\n",
    "            xref='paper',\n",
    "            yref='paper'\n",
    "        ),\n",
    "        dict(\n",
    "            x=0.51,\n",
    "            y=-0.3,\n",
    "            showarrow=False,\n",
    "            text='B<sub>1</sub>',\n",
    "            font=dict(\n",
    "                family='Times New Roman',\n",
    "                size=22\n",
    "            ),\n",
    "            textangle=0,\n",
    "            xref='paper',\n",
    "            yref='paper'\n",
    "        ),\n",
    "        dict(\n",
    "            x=0.9,\n",
    "            y=-0.3,\n",
    "            showarrow=False,\n",
    "            text='B<sub>1</sub>',\n",
    "            font=dict(\n",
    "                family='Times New Roman',\n",
    "                size=22\n",
    "            ),\n",
    "            textangle=0,\n",
    "            xref='paper',\n",
    "            yref='paper'\n",
    "        ),\n",
    "        dict(\n",
    "            x=0.12,\n",
    "            y=-0.3,\n",
    "            showarrow=False,\n",
    "            text='B<sub>1</sub>',\n",
    "            font=dict(\n",
    "                family='Times New Roman',\n",
    "                size=22\n",
    "            ),\n",
    "            textangle=0,\n",
    "            xref='paper',\n",
    "            yref='paper'\n",
    "        ),\n",
    "        dict(\n",
    "            x=-0.08,\n",
    "            y=0.5,\n",
    "            showarrow=False,\n",
    "            text='MTR',\n",
    "            font=dict(\n",
    "                family='Times New Roman',\n",
    "                size=22\n",
    "            ),\n",
    "            textangle=-90,\n",
    "            xref='paper',\n",
    "            yref='paper'\n",
    "        ),\n",
    "        dict(\n",
    "            x=0.28,\n",
    "            y=0.5,\n",
    "            showarrow=False,\n",
    "            text='T<sub>1</sub> (s)',\n",
    "            font=dict(\n",
    "                family='Times New Roman',\n",
    "                size=22\n",
    "            ),\n",
    "            textangle=-90,\n",
    "            xref='paper',\n",
    "            yref='paper'\n",
    "        ),\n",
    "        dict(\n",
    "            x=0.69,\n",
    "            y=0.5,\n",
    "            showarrow=False,\n",
    "            text='MTsat (%)',\n",
    "            font=dict(\n",
    "                family='Times New Roman',\n",
    "                size=22\n",
    "            ),\n",
    "            textangle=-90,\n",
    "            xref='paper',\n",
    "            yref='paper'\n",
    "        ),\n",
    "        dict(\n",
    "            x=0.22,\n",
    "            y=-0.55,\n",
    "            showarrow=False,\n",
    "            text='B<sub>1</sub> correction?',\n",
    "            font=dict(\n",
    "                family='Times New Roman',\n",
    "                size=22\n",
    "            ),\n",
    "            xref='paper',\n",
    "            yref='paper'\n",
    "        ),\n",
    "    ],\n",
    "    xaxis=dict(\n",
    "        showgrid=True,\n",
    "        gridcolor='rgb(169,169,169)',\n",
    "        linecolor='black',\n",
    "        linewidth=2\n",
    "    ),\n",
    "    yaxis=dict(\n",
    "        showgrid=True,\n",
    "        gridcolor='rgb(169,169,169)',\n",
    "        linecolor='black',\n",
    "        linewidth=2,\n",
    "        range=[35,55]\n",
    "    ),\n",
    "    xaxis2=dict(\n",
    "        showgrid=True,\n",
    "        gridcolor='rgb(169,169,169)',\n",
    "        linecolor='black',\n",
    "        linewidth=2,\n",
    "    ),\n",
    "    yaxis2=dict(\n",
    "        showgrid=True,\n",
    "        gridcolor='rgb(169,169,169)',\n",
    "        linecolor='black',\n",
    "        linewidth=2,\n",
    "        range=[0.3,0.9]\n",
    "    ),\n",
    "    xaxis3=dict(\n",
    "        showgrid=True,\n",
    "        gridcolor='rgb(169,169,169)',\n",
    "        linecolor='black',\n",
    "        linewidth=2\n",
    "    ),\n",
    "    yaxis3=dict(\n",
    "        showgrid=True,\n",
    "        gridcolor='rgb(169,169,169)',\n",
    "        linecolor='black',\n",
    "        linewidth=2,\n",
    "        range=[4,7]\n",
    "    ),\n",
    ")\n",
    "\n",
    "fig.update_layout(\n",
    "    updatemenus=[\n",
    "        dict(\n",
    "            type=\"buttons\",\n",
    "            direction=\"right\",\n",
    "            active=0,\n",
    "            x=0.57,\n",
    "            y=-0.3,\n",
    "            buttons=list([\n",
    "                dict(label=\"No\",\n",
    "                     method=\"update\",\n",
    "                     args=[{\"visible\": [True, True, True, False, False, False]},\n",
    "                           ]),\n",
    "                dict(label=\"Yes\",\n",
    "                     method=\"update\",\n",
    "                     args=[{\"visible\": [False, False, False, True, True, True]},\n",
    "                           ]),\n",
    "            ]),\n",
    "        )\n",
    "    ])\n",
    "\n",
    "fig.update_layout(layout)\n",
    "\n",
    "iplot(fig, filename = 'fig4.html', config = config)\n"
   ]
  }
 ],
 "metadata": {
  "kernelspec": {
   "display_name": "Python 3",
   "language": "python",
   "name": "python3"
  },
  "language_info": {
   "codemirror_mode": {
    "name": "ipython",
    "version": 3
   },
   "file_extension": ".py",
   "mimetype": "text/x-python",
   "name": "python",
   "nbconvert_exporter": "python",
   "pygments_lexer": "ipython3",
   "version": "3.12.2"
  }
 },
 "nbformat": 4,
 "nbformat_minor": 2
}
