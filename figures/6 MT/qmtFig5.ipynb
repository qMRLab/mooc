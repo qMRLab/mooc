{
 "cells": [
  {
   "cell_type": "code",
   "execution_count": 1,
   "metadata": {},
   "outputs": [
    {
     "data": {
      "text/html": [
       "        <script type=\"text/javascript\">\n",
       "        window.PlotlyConfig = {MathJaxConfig: 'local'};\n",
       "        if (window.MathJax && window.MathJax.Hub && window.MathJax.Hub.Config) {window.MathJax.Hub.Config({SVG: {font: \"STIX-Web\"}});}\n",
       "        if (typeof require !== 'undefined') {\n",
       "        require.undef(\"plotly\");\n",
       "        requirejs.config({\n",
       "            paths: {\n",
       "                'plotly': ['https://cdn.plot.ly/plotly-2.32.0.min']\n",
       "            }\n",
       "        });\n",
       "        require(['plotly'], function(Plotly) {\n",
       "            window._Plotly = Plotly;\n",
       "        });\n",
       "        }\n",
       "        </script>\n",
       "        "
      ]
     },
     "metadata": {},
     "output_type": "display_data"
    },
    {
     "data": {
      "application/vnd.plotly.v1+json": {
       "config": {
        "displayModeBar": false,
        "linkText": "Export to plot.ly",
        "plotlyServerURL": "https://plot.ly",
        "showLink": false
       },
       "data": [
        {
         "hovertemplate": "Error (%) = %{y}<br>B1 value = %{x} <extra></extra>",
         "line": {
          "color": "royalblue"
         },
         "mode": "lines",
         "name": "F",
         "type": "scatter",
         "visible": true,
         "x": [
          0.7,
          0.7999999999999999,
          0.8999999999999999,
          1,
          1.1,
          1.2,
          1.3
         ],
         "xaxis": "x",
         "y": [
          122.8649599421754,
          61.1497924547145,
          23.66074216909217,
          -0.13490696569902136,
          -16.87396543984988,
          -28.761044475472563,
          -37.77868731522514
         ],
         "yaxis": "y"
        },
        {
         "hovertemplate": "Error (%) = %{y}<br>B0 value = %{x} Hz<extra></extra>",
         "line": {
          "color": "royalblue"
         },
         "mode": "lines",
         "name": "F",
         "type": "scatter",
         "visible": false,
         "x": [
          -100,
          -50,
          0,
          50,
          100,
          150,
          200,
          250
         ],
         "xaxis": "x",
         "y": [
          -2.120612182796057,
          -1.368075145146471,
          -0.13490696569902136,
          1.4129584854763801,
          3.2156638056275026,
          4.416025161712491,
          5.657431827554727,
          6.940952878003986
         ],
         "yaxis": "y"
        },
        {
         "hovertemplate": "Error (%) = %{y}<br>T1 value = %{x} s<extra></extra>",
         "line": {
          "color": "royalblue"
         },
         "mode": "lines",
         "name": "F",
         "type": "scatter",
         "visible": false,
         "x": [
          5,
          4,
          3.333333333333333,
          2.857142857142857,
          2.5,
          2.2222222222222223,
          2,
          1.6666666666666667,
          1.4285714285714286,
          1.25,
          1.1111111111111112,
          1,
          0.9090909090909091,
          0.8333333333333334,
          0.7692307692307692,
          0.7142857142857143,
          0.6666666666666666
         ],
         "xaxis": "x",
         "y": [
          -65.91712413063661,
          -61.946245550553904,
          -58.00835444041565,
          -54.06547697567774,
          -50.099738735615404,
          -46.1010625266728,
          -42.062927634575445,
          -33.85931738881309,
          -25.459417291314388,
          -16.853183230663063,
          -8.022804625146973,
          1.0463090992372284,
          10.368380382151948,
          19.962433835153323,
          29.833484504219985,
          40.00465547148491,
          50.49774742423697
         ],
         "yaxis": "y"
        },
        {
         "hovertemplate": "Error (%) = %{y}<br>B1 value = %{x} <extra></extra>",
         "line": {
          "color": "royalblue"
         },
         "mode": "lines",
         "name": "kf",
         "type": "scatter",
         "visible": true,
         "x": [
          0.7,
          0.7999999999999999,
          0.8999999999999999,
          1,
          1.1,
          1.2,
          1.3
         ],
         "xaxis": "x2",
         "y": [
          -21.2679410363253,
          -17.159172589460287,
          -9.730642852210813,
          -0.8971188562388507,
          12.069981773762839,
          29.895321292164457,
          60.89010087472359
         ],
         "yaxis": "y2"
        },
        {
         "hovertemplate": "Error (%) = %{y}<br>B0 value = %{x} Hz<extra></extra>",
         "line": {
          "color": "royalblue"
         },
         "mode": "lines",
         "name": "kf",
         "type": "scatter",
         "visible": false,
         "x": [
          -100,
          -50,
          0,
          50,
          100,
          150,
          200,
          250
         ],
         "xaxis": "x2",
         "y": [
          9.470599207125009,
          6.310446744234385,
          -0.8971188562388507,
          -5.306349751231676,
          -11.219155076963066,
          -13.64795885803579,
          -16.666485257096188,
          -20.384523466016798
         ],
         "yaxis": "y2"
        },
        {
         "hovertemplate": "Error (%) = %{y}<br>T1 value = %{x} s<extra></extra>",
         "line": {
          "color": "royalblue"
         },
         "mode": "lines",
         "name": "kf",
         "type": "scatter",
         "visible": false,
         "x": [
          5,
          4,
          3.333333333333333,
          2.857142857142857,
          2.5,
          2.2222222222222223,
          2,
          1.6666666666666667,
          1.4285714285714286,
          1.25,
          1.1111111111111112,
          1,
          0.9090909090909091,
          0.8333333333333334,
          0.7692307692307692,
          0.7142857142857143,
          0.6666666666666666
         ],
         "xaxis": "x2",
         "y": [
          -72.28058741864903,
          -67.51695691479696,
          -62.99594311673418,
          -58.6085730313566,
          -54.294142001937644,
          -50.01637019200925,
          -45.76141515987188,
          -37.19552803157884,
          -28.567927331017394,
          -19.787381665829727,
          -10.851593370517739,
          -1.7339436253070255,
          7.573883481708991,
          17.087141513696853,
          26.84188241134026,
          36.84093561437417,
          47.0911262582067
         ],
         "yaxis": "y2"
        },
        {
         "hovertemplate": "Error (%) = %{y}<br>B1 value = %{x} <extra></extra>",
         "line": {
          "color": "royalblue"
         },
         "mode": "lines",
         "name": "kf",
         "type": "scatter",
         "visible": true,
         "x": [
          0.7,
          0.7999999999999999,
          0.8999999999999999,
          1,
          1.1,
          1.2,
          1.3
         ],
         "xaxis": "x3",
         "y": [
          -40.09076328773969,
          -26.804819668364924,
          -12.715531412605015,
          -0.14408962858539903,
          13.13945966376647,
          24.73464622029936,
          35.70424160145479
         ],
         "yaxis": "y3"
        },
        {
         "hovertemplate": "Error (%) = %{y}<br>B0 value = %{x} Hz<extra></extra>",
         "line": {
          "color": "royalblue"
         },
         "mode": "lines",
         "name": "kf",
         "type": "scatter",
         "visible": false,
         "x": [
          -100,
          -50,
          0,
          50,
          100,
          150,
          200,
          250
         ],
         "xaxis": "x3",
         "y": [
          76.19985450133521,
          36.552259494099054,
          -0.14408962858539903,
          -15.682507061608986,
          -31.099637161465985,
          -37.83396249805291,
          -45.27162858755142,
          -52.530483589731304
         ],
         "yaxis": "y3"
        },
        {
         "hovertemplate": "Error (%) = %{y}<br>T1 value = %{x} s<extra></extra>",
         "line": {
          "color": "royalblue"
         },
         "mode": "lines",
         "name": "kf",
         "type": "scatter",
         "visible": false,
         "x": [
          5,
          4,
          3.333333333333333,
          2.857142857142857,
          2.5,
          2.2222222222222223,
          2,
          1.6666666666666667,
          1.4285714285714286,
          1.25,
          1.1111111111111112,
          1,
          0.9090909090909091,
          0.8333333333333334,
          0.7692307692307692,
          0.7142857142857143,
          0.6666666666666666
         ],
         "xaxis": "x3",
         "y": [
          192.19789599060857,
          161.3172951632159,
          136.59795685610953,
          116.14288636342864,
          99.07053510629565,
          84.44535062485335,
          72.01057851089531,
          50.82607894290804,
          34.266472124976126,
          21.119954046277606,
          10.148557285390321,
          0.1365395125634573,
          -7.196026933257947,
          -14.601777822959608,
          -20.331307677873234,
          -25.464107611915605,
          -30.682413473735007
         ],
         "yaxis": "y3"
        },
        {
         "hovertemplate": "Error (%) = %{y}<br>B1 value = %{x} <extra></extra>",
         "line": {
          "color": "royalblue"
         },
         "mode": "lines",
         "name": "kf",
         "type": "scatter",
         "visible": true,
         "x": [
          0.7,
          0.7999999999999999,
          0.8999999999999999,
          1,
          1.1,
          1.2,
          1.3
         ],
         "xaxis": "x4",
         "y": [
          3.66293493360542,
          3.351762175593356,
          2.576683476579933,
          2.069512466509227,
          1.3215276355357506,
          0.8008470671796949,
          0.19947380315452076
         ],
         "yaxis": "y4"
        },
        {
         "hovertemplate": "Error (%) = %{y}<br>B0 value = %{x} Hz<extra></extra>",
         "line": {
          "color": "royalblue"
         },
         "mode": "lines",
         "name": "kf",
         "type": "scatter",
         "visible": false,
         "x": [
          -100,
          -50,
          0,
          50,
          100,
          150,
          200,
          250
         ],
         "xaxis": "x4",
         "y": [
          4.108665002026785,
          3.0717782913205536,
          2.069512466509227,
          1.6894329537904291,
          1.3218548502678502,
          0.7868100049430586,
          0.2161761783620543,
          -0.4013374062739955
         ],
         "yaxis": "y4"
        },
        {
         "hovertemplate": "Error (%) = %{y}<br>T1 value = %{x} s<extra></extra>",
         "line": {
          "color": "royalblue"
         },
         "mode": "lines",
         "name": "kf",
         "type": "scatter",
         "visible": false,
         "x": [
          5,
          4,
          3.333333333333333,
          2.857142857142857,
          2.5,
          2.2222222222222223,
          2,
          1.6666666666666667,
          1.4285714285714286,
          1.25,
          1.1111111111111112,
          1,
          0.9090909090909091,
          0.8333333333333334,
          0.7692307692307692,
          0.7142857142857143,
          0.6666666666666666
         ],
         "xaxis": "x4",
         "y": [
          0.36738821195264604,
          0.2628017866026044,
          0.1994332048280373,
          0.15922576809997407,
          0.13315914966244516,
          0.1170744801738225,
          0.10759768561013155,
          0.10030998477738934,
          0.10510813795482571,
          0.11651208076402132,
          0.1323494362917456,
          0.15236871121004678,
          0.17513918911136794,
          0.20287494582753987,
          0.22990377116993113,
          0.25973520222006735,
          0.29397878927719645
         ],
         "yaxis": "y4"
        }
       ],
       "layout": {
        "annotations": [
         {
          "font": {
           "family": "Times New Roman",
           "size": 22
          },
          "showarrow": false,
          "text": "Input map: ",
          "x": 0.2,
          "xref": "paper",
          "y": 1.1,
          "yref": "paper"
         },
         {
          "font": {
           "family": "Times New Roman",
           "size": 18
          },
          "showarrow": false,
          "text": "% Error in F",
          "textangle": -90,
          "x": -0.1,
          "xref": "paper",
          "y": 0.9,
          "yref": "paper"
         },
         {
          "font": {
           "family": "Times New Roman",
           "size": 18
          },
          "showarrow": false,
          "text": "% Error in kf (s<sup>-1</sup>)",
          "textangle": -90,
          "x": 0.48,
          "xref": "paper",
          "y": 0.98,
          "yref": "paper"
         },
         {
          "font": {
           "family": "Times New Roman",
           "size": 18
          },
          "showarrow": false,
          "text": "% Error in T2,f (s)",
          "textangle": -90,
          "x": -0.1,
          "xref": "paper",
          "y": 0.03,
          "yref": "paper"
         },
         {
          "font": {
           "family": "Times New Roman",
           "size": 18
          },
          "showarrow": false,
          "text": "% Error in T2,r",
          "textangle": -90,
          "x": 0.48,
          "xref": "paper",
          "y": 0.07,
          "yref": "paper"
         }
        ],
        "height": 500,
        "margin": {
         "b": 60,
         "l": 120,
         "r": 40,
         "t": 50
        },
        "plot_bgcolor": "rgba(0,0,0,0)",
        "showlegend": false,
        "template": {
         "data": {
          "bar": [
           {
            "error_x": {
             "color": "#2a3f5f"
            },
            "error_y": {
             "color": "#2a3f5f"
            },
            "marker": {
             "line": {
              "color": "#E5ECF6",
              "width": 0.5
             },
             "pattern": {
              "fillmode": "overlay",
              "size": 10,
              "solidity": 0.2
             }
            },
            "type": "bar"
           }
          ],
          "barpolar": [
           {
            "marker": {
             "line": {
              "color": "#E5ECF6",
              "width": 0.5
             },
             "pattern": {
              "fillmode": "overlay",
              "size": 10,
              "solidity": 0.2
             }
            },
            "type": "barpolar"
           }
          ],
          "carpet": [
           {
            "aaxis": {
             "endlinecolor": "#2a3f5f",
             "gridcolor": "white",
             "linecolor": "white",
             "minorgridcolor": "white",
             "startlinecolor": "#2a3f5f"
            },
            "baxis": {
             "endlinecolor": "#2a3f5f",
             "gridcolor": "white",
             "linecolor": "white",
             "minorgridcolor": "white",
             "startlinecolor": "#2a3f5f"
            },
            "type": "carpet"
           }
          ],
          "choropleth": [
           {
            "colorbar": {
             "outlinewidth": 0,
             "ticks": ""
            },
            "type": "choropleth"
           }
          ],
          "contour": [
           {
            "colorbar": {
             "outlinewidth": 0,
             "ticks": ""
            },
            "colorscale": [
             [
              0,
              "#0d0887"
             ],
             [
              0.1111111111111111,
              "#46039f"
             ],
             [
              0.2222222222222222,
              "#7201a8"
             ],
             [
              0.3333333333333333,
              "#9c179e"
             ],
             [
              0.4444444444444444,
              "#bd3786"
             ],
             [
              0.5555555555555556,
              "#d8576b"
             ],
             [
              0.6666666666666666,
              "#ed7953"
             ],
             [
              0.7777777777777778,
              "#fb9f3a"
             ],
             [
              0.8888888888888888,
              "#fdca26"
             ],
             [
              1,
              "#f0f921"
             ]
            ],
            "type": "contour"
           }
          ],
          "contourcarpet": [
           {
            "colorbar": {
             "outlinewidth": 0,
             "ticks": ""
            },
            "type": "contourcarpet"
           }
          ],
          "heatmap": [
           {
            "colorbar": {
             "outlinewidth": 0,
             "ticks": ""
            },
            "colorscale": [
             [
              0,
              "#0d0887"
             ],
             [
              0.1111111111111111,
              "#46039f"
             ],
             [
              0.2222222222222222,
              "#7201a8"
             ],
             [
              0.3333333333333333,
              "#9c179e"
             ],
             [
              0.4444444444444444,
              "#bd3786"
             ],
             [
              0.5555555555555556,
              "#d8576b"
             ],
             [
              0.6666666666666666,
              "#ed7953"
             ],
             [
              0.7777777777777778,
              "#fb9f3a"
             ],
             [
              0.8888888888888888,
              "#fdca26"
             ],
             [
              1,
              "#f0f921"
             ]
            ],
            "type": "heatmap"
           }
          ],
          "heatmapgl": [
           {
            "colorbar": {
             "outlinewidth": 0,
             "ticks": ""
            },
            "colorscale": [
             [
              0,
              "#0d0887"
             ],
             [
              0.1111111111111111,
              "#46039f"
             ],
             [
              0.2222222222222222,
              "#7201a8"
             ],
             [
              0.3333333333333333,
              "#9c179e"
             ],
             [
              0.4444444444444444,
              "#bd3786"
             ],
             [
              0.5555555555555556,
              "#d8576b"
             ],
             [
              0.6666666666666666,
              "#ed7953"
             ],
             [
              0.7777777777777778,
              "#fb9f3a"
             ],
             [
              0.8888888888888888,
              "#fdca26"
             ],
             [
              1,
              "#f0f921"
             ]
            ],
            "type": "heatmapgl"
           }
          ],
          "histogram": [
           {
            "marker": {
             "pattern": {
              "fillmode": "overlay",
              "size": 10,
              "solidity": 0.2
             }
            },
            "type": "histogram"
           }
          ],
          "histogram2d": [
           {
            "colorbar": {
             "outlinewidth": 0,
             "ticks": ""
            },
            "colorscale": [
             [
              0,
              "#0d0887"
             ],
             [
              0.1111111111111111,
              "#46039f"
             ],
             [
              0.2222222222222222,
              "#7201a8"
             ],
             [
              0.3333333333333333,
              "#9c179e"
             ],
             [
              0.4444444444444444,
              "#bd3786"
             ],
             [
              0.5555555555555556,
              "#d8576b"
             ],
             [
              0.6666666666666666,
              "#ed7953"
             ],
             [
              0.7777777777777778,
              "#fb9f3a"
             ],
             [
              0.8888888888888888,
              "#fdca26"
             ],
             [
              1,
              "#f0f921"
             ]
            ],
            "type": "histogram2d"
           }
          ],
          "histogram2dcontour": [
           {
            "colorbar": {
             "outlinewidth": 0,
             "ticks": ""
            },
            "colorscale": [
             [
              0,
              "#0d0887"
             ],
             [
              0.1111111111111111,
              "#46039f"
             ],
             [
              0.2222222222222222,
              "#7201a8"
             ],
             [
              0.3333333333333333,
              "#9c179e"
             ],
             [
              0.4444444444444444,
              "#bd3786"
             ],
             [
              0.5555555555555556,
              "#d8576b"
             ],
             [
              0.6666666666666666,
              "#ed7953"
             ],
             [
              0.7777777777777778,
              "#fb9f3a"
             ],
             [
              0.8888888888888888,
              "#fdca26"
             ],
             [
              1,
              "#f0f921"
             ]
            ],
            "type": "histogram2dcontour"
           }
          ],
          "mesh3d": [
           {
            "colorbar": {
             "outlinewidth": 0,
             "ticks": ""
            },
            "type": "mesh3d"
           }
          ],
          "parcoords": [
           {
            "line": {
             "colorbar": {
              "outlinewidth": 0,
              "ticks": ""
             }
            },
            "type": "parcoords"
           }
          ],
          "pie": [
           {
            "automargin": true,
            "type": "pie"
           }
          ],
          "scatter": [
           {
            "fillpattern": {
             "fillmode": "overlay",
             "size": 10,
             "solidity": 0.2
            },
            "type": "scatter"
           }
          ],
          "scatter3d": [
           {
            "line": {
             "colorbar": {
              "outlinewidth": 0,
              "ticks": ""
             }
            },
            "marker": {
             "colorbar": {
              "outlinewidth": 0,
              "ticks": ""
             }
            },
            "type": "scatter3d"
           }
          ],
          "scattercarpet": [
           {
            "marker": {
             "colorbar": {
              "outlinewidth": 0,
              "ticks": ""
             }
            },
            "type": "scattercarpet"
           }
          ],
          "scattergeo": [
           {
            "marker": {
             "colorbar": {
              "outlinewidth": 0,
              "ticks": ""
             }
            },
            "type": "scattergeo"
           }
          ],
          "scattergl": [
           {
            "marker": {
             "colorbar": {
              "outlinewidth": 0,
              "ticks": ""
             }
            },
            "type": "scattergl"
           }
          ],
          "scattermapbox": [
           {
            "marker": {
             "colorbar": {
              "outlinewidth": 0,
              "ticks": ""
             }
            },
            "type": "scattermapbox"
           }
          ],
          "scatterpolar": [
           {
            "marker": {
             "colorbar": {
              "outlinewidth": 0,
              "ticks": ""
             }
            },
            "type": "scatterpolar"
           }
          ],
          "scatterpolargl": [
           {
            "marker": {
             "colorbar": {
              "outlinewidth": 0,
              "ticks": ""
             }
            },
            "type": "scatterpolargl"
           }
          ],
          "scatterternary": [
           {
            "marker": {
             "colorbar": {
              "outlinewidth": 0,
              "ticks": ""
             }
            },
            "type": "scatterternary"
           }
          ],
          "surface": [
           {
            "colorbar": {
             "outlinewidth": 0,
             "ticks": ""
            },
            "colorscale": [
             [
              0,
              "#0d0887"
             ],
             [
              0.1111111111111111,
              "#46039f"
             ],
             [
              0.2222222222222222,
              "#7201a8"
             ],
             [
              0.3333333333333333,
              "#9c179e"
             ],
             [
              0.4444444444444444,
              "#bd3786"
             ],
             [
              0.5555555555555556,
              "#d8576b"
             ],
             [
              0.6666666666666666,
              "#ed7953"
             ],
             [
              0.7777777777777778,
              "#fb9f3a"
             ],
             [
              0.8888888888888888,
              "#fdca26"
             ],
             [
              1,
              "#f0f921"
             ]
            ],
            "type": "surface"
           }
          ],
          "table": [
           {
            "cells": {
             "fill": {
              "color": "#EBF0F8"
             },
             "line": {
              "color": "white"
             }
            },
            "header": {
             "fill": {
              "color": "#C8D4E3"
             },
             "line": {
              "color": "white"
             }
            },
            "type": "table"
           }
          ]
         },
         "layout": {
          "annotationdefaults": {
           "arrowcolor": "#2a3f5f",
           "arrowhead": 0,
           "arrowwidth": 1
          },
          "autotypenumbers": "strict",
          "coloraxis": {
           "colorbar": {
            "outlinewidth": 0,
            "ticks": ""
           }
          },
          "colorscale": {
           "diverging": [
            [
             0,
             "#8e0152"
            ],
            [
             0.1,
             "#c51b7d"
            ],
            [
             0.2,
             "#de77ae"
            ],
            [
             0.3,
             "#f1b6da"
            ],
            [
             0.4,
             "#fde0ef"
            ],
            [
             0.5,
             "#f7f7f7"
            ],
            [
             0.6,
             "#e6f5d0"
            ],
            [
             0.7,
             "#b8e186"
            ],
            [
             0.8,
             "#7fbc41"
            ],
            [
             0.9,
             "#4d9221"
            ],
            [
             1,
             "#276419"
            ]
           ],
           "sequential": [
            [
             0,
             "#0d0887"
            ],
            [
             0.1111111111111111,
             "#46039f"
            ],
            [
             0.2222222222222222,
             "#7201a8"
            ],
            [
             0.3333333333333333,
             "#9c179e"
            ],
            [
             0.4444444444444444,
             "#bd3786"
            ],
            [
             0.5555555555555556,
             "#d8576b"
            ],
            [
             0.6666666666666666,
             "#ed7953"
            ],
            [
             0.7777777777777778,
             "#fb9f3a"
            ],
            [
             0.8888888888888888,
             "#fdca26"
            ],
            [
             1,
             "#f0f921"
            ]
           ],
           "sequentialminus": [
            [
             0,
             "#0d0887"
            ],
            [
             0.1111111111111111,
             "#46039f"
            ],
            [
             0.2222222222222222,
             "#7201a8"
            ],
            [
             0.3333333333333333,
             "#9c179e"
            ],
            [
             0.4444444444444444,
             "#bd3786"
            ],
            [
             0.5555555555555556,
             "#d8576b"
            ],
            [
             0.6666666666666666,
             "#ed7953"
            ],
            [
             0.7777777777777778,
             "#fb9f3a"
            ],
            [
             0.8888888888888888,
             "#fdca26"
            ],
            [
             1,
             "#f0f921"
            ]
           ]
          },
          "colorway": [
           "#636efa",
           "#EF553B",
           "#00cc96",
           "#ab63fa",
           "#FFA15A",
           "#19d3f3",
           "#FF6692",
           "#B6E880",
           "#FF97FF",
           "#FECB52"
          ],
          "font": {
           "color": "#2a3f5f"
          },
          "geo": {
           "bgcolor": "white",
           "lakecolor": "white",
           "landcolor": "#E5ECF6",
           "showlakes": true,
           "showland": true,
           "subunitcolor": "white"
          },
          "hoverlabel": {
           "align": "left"
          },
          "hovermode": "closest",
          "mapbox": {
           "style": "light"
          },
          "paper_bgcolor": "white",
          "plot_bgcolor": "#E5ECF6",
          "polar": {
           "angularaxis": {
            "gridcolor": "white",
            "linecolor": "white",
            "ticks": ""
           },
           "bgcolor": "#E5ECF6",
           "radialaxis": {
            "gridcolor": "white",
            "linecolor": "white",
            "ticks": ""
           }
          },
          "scene": {
           "xaxis": {
            "backgroundcolor": "#E5ECF6",
            "gridcolor": "white",
            "gridwidth": 2,
            "linecolor": "white",
            "showbackground": true,
            "ticks": "",
            "zerolinecolor": "white"
           },
           "yaxis": {
            "backgroundcolor": "#E5ECF6",
            "gridcolor": "white",
            "gridwidth": 2,
            "linecolor": "white",
            "showbackground": true,
            "ticks": "",
            "zerolinecolor": "white"
           },
           "zaxis": {
            "backgroundcolor": "#E5ECF6",
            "gridcolor": "white",
            "gridwidth": 2,
            "linecolor": "white",
            "showbackground": true,
            "ticks": "",
            "zerolinecolor": "white"
           }
          },
          "shapedefaults": {
           "line": {
            "color": "#2a3f5f"
           }
          },
          "ternary": {
           "aaxis": {
            "gridcolor": "white",
            "linecolor": "white",
            "ticks": ""
           },
           "baxis": {
            "gridcolor": "white",
            "linecolor": "white",
            "ticks": ""
           },
           "bgcolor": "#E5ECF6",
           "caxis": {
            "gridcolor": "white",
            "linecolor": "white",
            "ticks": ""
           }
          },
          "title": {
           "x": 0.05
          },
          "xaxis": {
           "automargin": true,
           "gridcolor": "white",
           "linecolor": "white",
           "ticks": "",
           "title": {
            "standoff": 15
           },
           "zerolinecolor": "white",
           "zerolinewidth": 2
          },
          "yaxis": {
           "automargin": true,
           "gridcolor": "white",
           "linecolor": "white",
           "ticks": "",
           "title": {
            "standoff": 15
           },
           "zerolinecolor": "white",
           "zerolinewidth": 2
          }
         }
        },
        "updatemenus": [
         {
          "active": 0,
          "buttons": [
           {
            "args": [
             {
              "visible": [
               true,
               false,
               false
              ]
             }
            ],
            "label": "B1 map",
            "method": "update"
           },
           {
            "args": [
             {
              "visible": [
               false,
               true,
               false
              ]
             }
            ],
            "label": "B0 map",
            "method": "update"
           },
           {
            "args": [
             {
              "visible": [
               false,
               false,
               true
              ]
             }
            ],
            "label": "T1 map",
            "method": "update"
           }
          ],
          "x": 0.65,
          "y": 1.1
         }
        ],
        "width": 600,
        "xaxis": {
         "anchor": "y",
         "domain": [
          0,
          0.45
         ],
         "linecolor": "black",
         "linewidth": 2,
         "showline": true,
         "title": {
          "font": {
           "family": "Times New Roman",
           "size": 18
          },
          "text": "Input map"
         }
        },
        "xaxis2": {
         "anchor": "y2",
         "domain": [
          0.55,
          1
         ],
         "linecolor": "black",
         "linewidth": 2,
         "showline": true,
         "title": {
          "font": {
           "family": "Times New Roman",
           "size": 18
          },
          "text": "Input map"
         }
        },
        "xaxis3": {
         "anchor": "y3",
         "domain": [
          0,
          0.45
         ],
         "linecolor": "black",
         "linewidth": 2,
         "showline": true,
         "title": {
          "font": {
           "family": "Times New Roman",
           "size": 18
          },
          "text": "Input map"
         }
        },
        "xaxis4": {
         "anchor": "y4",
         "domain": [
          0.55,
          1
         ],
         "linecolor": "black",
         "linewidth": 2,
         "showline": true,
         "title": {
          "font": {
           "family": "Times New Roman",
           "size": 18
          },
          "text": "Input map"
         }
        },
        "yaxis": {
         "anchor": "x",
         "domain": [
          0.575,
          1
         ],
         "linecolor": "black",
         "linewidth": 2,
         "range": [
          -100,
          100
         ],
         "showline": true
        },
        "yaxis2": {
         "anchor": "x2",
         "domain": [
          0.575,
          1
         ],
         "linecolor": "black",
         "linewidth": 2,
         "range": [
          -100,
          100
         ],
         "showline": true
        },
        "yaxis3": {
         "anchor": "x3",
         "domain": [
          0,
          0.425
         ],
         "linecolor": "black",
         "linewidth": 2,
         "range": [
          -100,
          100
         ],
         "showline": true
        },
        "yaxis4": {
         "anchor": "x4",
         "domain": [
          0,
          0.425
         ],
         "linecolor": "black",
         "linewidth": 2,
         "range": [
          -100,
          100
         ],
         "showline": true
        }
       }
      },
      "text/html": [
       "<div>                            <div id=\"df80bbf8-36ae-4328-b1c7-88088485113e\" class=\"plotly-graph-div\" style=\"height:500px; width:600px;\"></div>            <script type=\"text/javascript\">                require([\"plotly\"], function(Plotly) {                    window.PLOTLYENV=window.PLOTLYENV || {};                                    if (document.getElementById(\"df80bbf8-36ae-4328-b1c7-88088485113e\")) {                    Plotly.newPlot(                        \"df80bbf8-36ae-4328-b1c7-88088485113e\",                        [{\"hovertemplate\":\"Error (%) = %{y}\\u003cbr\\u003eB1 value = %{x} \\u003cextra\\u003e\\u003c\\u002fextra\\u003e\",\"line\":{\"color\":\"royalblue\"},\"mode\":\"lines\",\"name\":\"F\",\"visible\":true,\"x\":[0.7,0.7999999999999999,0.8999999999999999,1.0,1.1,1.2,1.3],\"xaxis\":\"x\",\"y\":[122.8649599421754,61.1497924547145,23.66074216909217,-0.13490696569902136,-16.87396543984988,-28.761044475472563,-37.77868731522514],\"yaxis\":\"y\",\"type\":\"scatter\"},{\"hovertemplate\":\"Error (%) = %{y}\\u003cbr\\u003eB0 value = %{x} Hz\\u003cextra\\u003e\\u003c\\u002fextra\\u003e\",\"line\":{\"color\":\"royalblue\"},\"mode\":\"lines\",\"name\":\"F\",\"visible\":false,\"x\":[-100.0,-50.0,0.0,50.0,100.0,150.0,200.0,250.0],\"xaxis\":\"x\",\"y\":[-2.120612182796057,-1.368075145146471,-0.13490696569902136,1.4129584854763801,3.2156638056275026,4.416025161712491,5.657431827554727,6.940952878003986],\"yaxis\":\"y\",\"type\":\"scatter\"},{\"hovertemplate\":\"Error (%) = %{y}\\u003cbr\\u003eT1 value = %{x} s\\u003cextra\\u003e\\u003c\\u002fextra\\u003e\",\"line\":{\"color\":\"royalblue\"},\"mode\":\"lines\",\"name\":\"F\",\"visible\":false,\"x\":[5.0,4.0,3.333333333333333,2.857142857142857,2.5,2.2222222222222223,2.0,1.6666666666666667,1.4285714285714286,1.25,1.1111111111111112,1.0,0.9090909090909091,0.8333333333333334,0.7692307692307692,0.7142857142857143,0.6666666666666666],\"xaxis\":\"x\",\"y\":[-65.91712413063661,-61.946245550553904,-58.00835444041565,-54.06547697567774,-50.099738735615404,-46.1010625266728,-42.062927634575445,-33.85931738881309,-25.459417291314388,-16.853183230663063,-8.022804625146973,1.0463090992372284,10.368380382151948,19.962433835153323,29.833484504219985,40.00465547148491,50.49774742423697],\"yaxis\":\"y\",\"type\":\"scatter\"},{\"hovertemplate\":\"Error (%) = %{y}\\u003cbr\\u003eB1 value = %{x} \\u003cextra\\u003e\\u003c\\u002fextra\\u003e\",\"line\":{\"color\":\"royalblue\"},\"mode\":\"lines\",\"name\":\"kf\",\"visible\":true,\"x\":[0.7,0.7999999999999999,0.8999999999999999,1.0,1.1,1.2,1.3],\"xaxis\":\"x2\",\"y\":[-21.2679410363253,-17.159172589460287,-9.730642852210813,-0.8971188562388507,12.069981773762839,29.895321292164457,60.89010087472359],\"yaxis\":\"y2\",\"type\":\"scatter\"},{\"hovertemplate\":\"Error (%) = %{y}\\u003cbr\\u003eB0 value = %{x} Hz\\u003cextra\\u003e\\u003c\\u002fextra\\u003e\",\"line\":{\"color\":\"royalblue\"},\"mode\":\"lines\",\"name\":\"kf\",\"visible\":false,\"x\":[-100.0,-50.0,0.0,50.0,100.0,150.0,200.0,250.0],\"xaxis\":\"x2\",\"y\":[9.470599207125009,6.310446744234385,-0.8971188562388507,-5.306349751231676,-11.219155076963066,-13.64795885803579,-16.666485257096188,-20.384523466016798],\"yaxis\":\"y2\",\"type\":\"scatter\"},{\"hovertemplate\":\"Error (%) = %{y}\\u003cbr\\u003eT1 value = %{x} s\\u003cextra\\u003e\\u003c\\u002fextra\\u003e\",\"line\":{\"color\":\"royalblue\"},\"mode\":\"lines\",\"name\":\"kf\",\"visible\":false,\"x\":[5.0,4.0,3.333333333333333,2.857142857142857,2.5,2.2222222222222223,2.0,1.6666666666666667,1.4285714285714286,1.25,1.1111111111111112,1.0,0.9090909090909091,0.8333333333333334,0.7692307692307692,0.7142857142857143,0.6666666666666666],\"xaxis\":\"x2\",\"y\":[-72.28058741864903,-67.51695691479696,-62.99594311673418,-58.6085730313566,-54.294142001937644,-50.01637019200925,-45.76141515987188,-37.19552803157884,-28.567927331017394,-19.787381665829727,-10.851593370517739,-1.7339436253070255,7.573883481708991,17.087141513696853,26.84188241134026,36.84093561437417,47.0911262582067],\"yaxis\":\"y2\",\"type\":\"scatter\"},{\"hovertemplate\":\"Error (%) = %{y}\\u003cbr\\u003eB1 value = %{x} \\u003cextra\\u003e\\u003c\\u002fextra\\u003e\",\"line\":{\"color\":\"royalblue\"},\"mode\":\"lines\",\"name\":\"kf\",\"visible\":true,\"x\":[0.7,0.7999999999999999,0.8999999999999999,1.0,1.1,1.2,1.3],\"xaxis\":\"x3\",\"y\":[-40.09076328773969,-26.804819668364924,-12.715531412605015,-0.14408962858539903,13.13945966376647,24.73464622029936,35.70424160145479],\"yaxis\":\"y3\",\"type\":\"scatter\"},{\"hovertemplate\":\"Error (%) = %{y}\\u003cbr\\u003eB0 value = %{x} Hz\\u003cextra\\u003e\\u003c\\u002fextra\\u003e\",\"line\":{\"color\":\"royalblue\"},\"mode\":\"lines\",\"name\":\"kf\",\"visible\":false,\"x\":[-100.0,-50.0,0.0,50.0,100.0,150.0,200.0,250.0],\"xaxis\":\"x3\",\"y\":[76.19985450133521,36.552259494099054,-0.14408962858539903,-15.682507061608986,-31.099637161465985,-37.83396249805291,-45.27162858755142,-52.530483589731304],\"yaxis\":\"y3\",\"type\":\"scatter\"},{\"hovertemplate\":\"Error (%) = %{y}\\u003cbr\\u003eT1 value = %{x} s\\u003cextra\\u003e\\u003c\\u002fextra\\u003e\",\"line\":{\"color\":\"royalblue\"},\"mode\":\"lines\",\"name\":\"kf\",\"visible\":false,\"x\":[5.0,4.0,3.333333333333333,2.857142857142857,2.5,2.2222222222222223,2.0,1.6666666666666667,1.4285714285714286,1.25,1.1111111111111112,1.0,0.9090909090909091,0.8333333333333334,0.7692307692307692,0.7142857142857143,0.6666666666666666],\"xaxis\":\"x3\",\"y\":[192.19789599060857,161.3172951632159,136.59795685610953,116.14288636342864,99.07053510629565,84.44535062485335,72.01057851089531,50.82607894290804,34.266472124976126,21.119954046277606,10.148557285390321,0.1365395125634573,-7.196026933257947,-14.601777822959608,-20.331307677873234,-25.464107611915605,-30.682413473735007],\"yaxis\":\"y3\",\"type\":\"scatter\"},{\"hovertemplate\":\"Error (%) = %{y}\\u003cbr\\u003eB1 value = %{x} \\u003cextra\\u003e\\u003c\\u002fextra\\u003e\",\"line\":{\"color\":\"royalblue\"},\"mode\":\"lines\",\"name\":\"kf\",\"visible\":true,\"x\":[0.7,0.7999999999999999,0.8999999999999999,1.0,1.1,1.2,1.3],\"xaxis\":\"x4\",\"y\":[3.66293493360542,3.351762175593356,2.576683476579933,2.069512466509227,1.3215276355357506,0.8008470671796949,0.19947380315452076],\"yaxis\":\"y4\",\"type\":\"scatter\"},{\"hovertemplate\":\"Error (%) = %{y}\\u003cbr\\u003eB0 value = %{x} Hz\\u003cextra\\u003e\\u003c\\u002fextra\\u003e\",\"line\":{\"color\":\"royalblue\"},\"mode\":\"lines\",\"name\":\"kf\",\"visible\":false,\"x\":[-100.0,-50.0,0.0,50.0,100.0,150.0,200.0,250.0],\"xaxis\":\"x4\",\"y\":[4.108665002026785,3.0717782913205536,2.069512466509227,1.6894329537904291,1.3218548502678502,0.7868100049430586,0.2161761783620543,-0.4013374062739955],\"yaxis\":\"y4\",\"type\":\"scatter\"},{\"hovertemplate\":\"Error (%) = %{y}\\u003cbr\\u003eT1 value = %{x} s\\u003cextra\\u003e\\u003c\\u002fextra\\u003e\",\"line\":{\"color\":\"royalblue\"},\"mode\":\"lines\",\"name\":\"kf\",\"visible\":false,\"x\":[5.0,4.0,3.333333333333333,2.857142857142857,2.5,2.2222222222222223,2.0,1.6666666666666667,1.4285714285714286,1.25,1.1111111111111112,1.0,0.9090909090909091,0.8333333333333334,0.7692307692307692,0.7142857142857143,0.6666666666666666],\"xaxis\":\"x4\",\"y\":[0.36738821195264604,0.2628017866026044,0.1994332048280373,0.15922576809997407,0.13315914966244516,0.1170744801738225,0.10759768561013155,0.10030998477738934,0.10510813795482571,0.11651208076402132,0.1323494362917456,0.15236871121004678,0.17513918911136794,0.20287494582753987,0.22990377116993113,0.25973520222006735,0.29397878927719645],\"yaxis\":\"y4\",\"type\":\"scatter\"}],                        {\"annotations\":[{\"font\":{\"family\":\"Times New Roman\",\"size\":22},\"showarrow\":false,\"text\":\"Input map: \",\"x\":0.2,\"xref\":\"paper\",\"y\":1.1,\"yref\":\"paper\"},{\"font\":{\"family\":\"Times New Roman\",\"size\":18},\"showarrow\":false,\"text\":\"% Error in F\",\"textangle\":-90,\"x\":-0.1,\"xref\":\"paper\",\"y\":0.9,\"yref\":\"paper\"},{\"font\":{\"family\":\"Times New Roman\",\"size\":18},\"showarrow\":false,\"text\":\"% Error in kf (s\\u003csup\\u003e-1\\u003c\\u002fsup\\u003e)\",\"textangle\":-90,\"x\":0.48,\"xref\":\"paper\",\"y\":0.98,\"yref\":\"paper\"},{\"font\":{\"family\":\"Times New Roman\",\"size\":18},\"showarrow\":false,\"text\":\"% Error in T2,f (s)\",\"textangle\":-90,\"x\":-0.1,\"xref\":\"paper\",\"y\":0.03,\"yref\":\"paper\"},{\"font\":{\"family\":\"Times New Roman\",\"size\":18},\"showarrow\":false,\"text\":\"% Error in T2,r\",\"textangle\":-90,\"x\":0.48,\"xref\":\"paper\",\"y\":0.07,\"yref\":\"paper\"}],\"height\":500,\"margin\":{\"b\":60,\"l\":120,\"r\":40,\"t\":50},\"plot_bgcolor\":\"rgba(0,0,0,0)\",\"showlegend\":false,\"template\":{\"data\":{\"barpolar\":[{\"marker\":{\"line\":{\"color\":\"#E5ECF6\",\"width\":0.5},\"pattern\":{\"fillmode\":\"overlay\",\"size\":10,\"solidity\":0.2}},\"type\":\"barpolar\"}],\"bar\":[{\"error_x\":{\"color\":\"#2a3f5f\"},\"error_y\":{\"color\":\"#2a3f5f\"},\"marker\":{\"line\":{\"color\":\"#E5ECF6\",\"width\":0.5},\"pattern\":{\"fillmode\":\"overlay\",\"size\":10,\"solidity\":0.2}},\"type\":\"bar\"}],\"carpet\":[{\"aaxis\":{\"endlinecolor\":\"#2a3f5f\",\"gridcolor\":\"white\",\"linecolor\":\"white\",\"minorgridcolor\":\"white\",\"startlinecolor\":\"#2a3f5f\"},\"baxis\":{\"endlinecolor\":\"#2a3f5f\",\"gridcolor\":\"white\",\"linecolor\":\"white\",\"minorgridcolor\":\"white\",\"startlinecolor\":\"#2a3f5f\"},\"type\":\"carpet\"}],\"choropleth\":[{\"colorbar\":{\"outlinewidth\":0,\"ticks\":\"\"},\"type\":\"choropleth\"}],\"contourcarpet\":[{\"colorbar\":{\"outlinewidth\":0,\"ticks\":\"\"},\"type\":\"contourcarpet\"}],\"contour\":[{\"colorbar\":{\"outlinewidth\":0,\"ticks\":\"\"},\"colorscale\":[[0.0,\"#0d0887\"],[0.1111111111111111,\"#46039f\"],[0.2222222222222222,\"#7201a8\"],[0.3333333333333333,\"#9c179e\"],[0.4444444444444444,\"#bd3786\"],[0.5555555555555556,\"#d8576b\"],[0.6666666666666666,\"#ed7953\"],[0.7777777777777778,\"#fb9f3a\"],[0.8888888888888888,\"#fdca26\"],[1.0,\"#f0f921\"]],\"type\":\"contour\"}],\"heatmapgl\":[{\"colorbar\":{\"outlinewidth\":0,\"ticks\":\"\"},\"colorscale\":[[0.0,\"#0d0887\"],[0.1111111111111111,\"#46039f\"],[0.2222222222222222,\"#7201a8\"],[0.3333333333333333,\"#9c179e\"],[0.4444444444444444,\"#bd3786\"],[0.5555555555555556,\"#d8576b\"],[0.6666666666666666,\"#ed7953\"],[0.7777777777777778,\"#fb9f3a\"],[0.8888888888888888,\"#fdca26\"],[1.0,\"#f0f921\"]],\"type\":\"heatmapgl\"}],\"heatmap\":[{\"colorbar\":{\"outlinewidth\":0,\"ticks\":\"\"},\"colorscale\":[[0.0,\"#0d0887\"],[0.1111111111111111,\"#46039f\"],[0.2222222222222222,\"#7201a8\"],[0.3333333333333333,\"#9c179e\"],[0.4444444444444444,\"#bd3786\"],[0.5555555555555556,\"#d8576b\"],[0.6666666666666666,\"#ed7953\"],[0.7777777777777778,\"#fb9f3a\"],[0.8888888888888888,\"#fdca26\"],[1.0,\"#f0f921\"]],\"type\":\"heatmap\"}],\"histogram2dcontour\":[{\"colorbar\":{\"outlinewidth\":0,\"ticks\":\"\"},\"colorscale\":[[0.0,\"#0d0887\"],[0.1111111111111111,\"#46039f\"],[0.2222222222222222,\"#7201a8\"],[0.3333333333333333,\"#9c179e\"],[0.4444444444444444,\"#bd3786\"],[0.5555555555555556,\"#d8576b\"],[0.6666666666666666,\"#ed7953\"],[0.7777777777777778,\"#fb9f3a\"],[0.8888888888888888,\"#fdca26\"],[1.0,\"#f0f921\"]],\"type\":\"histogram2dcontour\"}],\"histogram2d\":[{\"colorbar\":{\"outlinewidth\":0,\"ticks\":\"\"},\"colorscale\":[[0.0,\"#0d0887\"],[0.1111111111111111,\"#46039f\"],[0.2222222222222222,\"#7201a8\"],[0.3333333333333333,\"#9c179e\"],[0.4444444444444444,\"#bd3786\"],[0.5555555555555556,\"#d8576b\"],[0.6666666666666666,\"#ed7953\"],[0.7777777777777778,\"#fb9f3a\"],[0.8888888888888888,\"#fdca26\"],[1.0,\"#f0f921\"]],\"type\":\"histogram2d\"}],\"histogram\":[{\"marker\":{\"pattern\":{\"fillmode\":\"overlay\",\"size\":10,\"solidity\":0.2}},\"type\":\"histogram\"}],\"mesh3d\":[{\"colorbar\":{\"outlinewidth\":0,\"ticks\":\"\"},\"type\":\"mesh3d\"}],\"parcoords\":[{\"line\":{\"colorbar\":{\"outlinewidth\":0,\"ticks\":\"\"}},\"type\":\"parcoords\"}],\"pie\":[{\"automargin\":true,\"type\":\"pie\"}],\"scatter3d\":[{\"line\":{\"colorbar\":{\"outlinewidth\":0,\"ticks\":\"\"}},\"marker\":{\"colorbar\":{\"outlinewidth\":0,\"ticks\":\"\"}},\"type\":\"scatter3d\"}],\"scattercarpet\":[{\"marker\":{\"colorbar\":{\"outlinewidth\":0,\"ticks\":\"\"}},\"type\":\"scattercarpet\"}],\"scattergeo\":[{\"marker\":{\"colorbar\":{\"outlinewidth\":0,\"ticks\":\"\"}},\"type\":\"scattergeo\"}],\"scattergl\":[{\"marker\":{\"colorbar\":{\"outlinewidth\":0,\"ticks\":\"\"}},\"type\":\"scattergl\"}],\"scattermapbox\":[{\"marker\":{\"colorbar\":{\"outlinewidth\":0,\"ticks\":\"\"}},\"type\":\"scattermapbox\"}],\"scatterpolargl\":[{\"marker\":{\"colorbar\":{\"outlinewidth\":0,\"ticks\":\"\"}},\"type\":\"scatterpolargl\"}],\"scatterpolar\":[{\"marker\":{\"colorbar\":{\"outlinewidth\":0,\"ticks\":\"\"}},\"type\":\"scatterpolar\"}],\"scatter\":[{\"fillpattern\":{\"fillmode\":\"overlay\",\"size\":10,\"solidity\":0.2},\"type\":\"scatter\"}],\"scatterternary\":[{\"marker\":{\"colorbar\":{\"outlinewidth\":0,\"ticks\":\"\"}},\"type\":\"scatterternary\"}],\"surface\":[{\"colorbar\":{\"outlinewidth\":0,\"ticks\":\"\"},\"colorscale\":[[0.0,\"#0d0887\"],[0.1111111111111111,\"#46039f\"],[0.2222222222222222,\"#7201a8\"],[0.3333333333333333,\"#9c179e\"],[0.4444444444444444,\"#bd3786\"],[0.5555555555555556,\"#d8576b\"],[0.6666666666666666,\"#ed7953\"],[0.7777777777777778,\"#fb9f3a\"],[0.8888888888888888,\"#fdca26\"],[1.0,\"#f0f921\"]],\"type\":\"surface\"}],\"table\":[{\"cells\":{\"fill\":{\"color\":\"#EBF0F8\"},\"line\":{\"color\":\"white\"}},\"header\":{\"fill\":{\"color\":\"#C8D4E3\"},\"line\":{\"color\":\"white\"}},\"type\":\"table\"}]},\"layout\":{\"annotationdefaults\":{\"arrowcolor\":\"#2a3f5f\",\"arrowhead\":0,\"arrowwidth\":1},\"autotypenumbers\":\"strict\",\"coloraxis\":{\"colorbar\":{\"outlinewidth\":0,\"ticks\":\"\"}},\"colorscale\":{\"diverging\":[[0,\"#8e0152\"],[0.1,\"#c51b7d\"],[0.2,\"#de77ae\"],[0.3,\"#f1b6da\"],[0.4,\"#fde0ef\"],[0.5,\"#f7f7f7\"],[0.6,\"#e6f5d0\"],[0.7,\"#b8e186\"],[0.8,\"#7fbc41\"],[0.9,\"#4d9221\"],[1,\"#276419\"]],\"sequential\":[[0.0,\"#0d0887\"],[0.1111111111111111,\"#46039f\"],[0.2222222222222222,\"#7201a8\"],[0.3333333333333333,\"#9c179e\"],[0.4444444444444444,\"#bd3786\"],[0.5555555555555556,\"#d8576b\"],[0.6666666666666666,\"#ed7953\"],[0.7777777777777778,\"#fb9f3a\"],[0.8888888888888888,\"#fdca26\"],[1.0,\"#f0f921\"]],\"sequentialminus\":[[0.0,\"#0d0887\"],[0.1111111111111111,\"#46039f\"],[0.2222222222222222,\"#7201a8\"],[0.3333333333333333,\"#9c179e\"],[0.4444444444444444,\"#bd3786\"],[0.5555555555555556,\"#d8576b\"],[0.6666666666666666,\"#ed7953\"],[0.7777777777777778,\"#fb9f3a\"],[0.8888888888888888,\"#fdca26\"],[1.0,\"#f0f921\"]]},\"colorway\":[\"#636efa\",\"#EF553B\",\"#00cc96\",\"#ab63fa\",\"#FFA15A\",\"#19d3f3\",\"#FF6692\",\"#B6E880\",\"#FF97FF\",\"#FECB52\"],\"font\":{\"color\":\"#2a3f5f\"},\"geo\":{\"bgcolor\":\"white\",\"lakecolor\":\"white\",\"landcolor\":\"#E5ECF6\",\"showlakes\":true,\"showland\":true,\"subunitcolor\":\"white\"},\"hoverlabel\":{\"align\":\"left\"},\"hovermode\":\"closest\",\"mapbox\":{\"style\":\"light\"},\"paper_bgcolor\":\"white\",\"plot_bgcolor\":\"#E5ECF6\",\"polar\":{\"angularaxis\":{\"gridcolor\":\"white\",\"linecolor\":\"white\",\"ticks\":\"\"},\"bgcolor\":\"#E5ECF6\",\"radialaxis\":{\"gridcolor\":\"white\",\"linecolor\":\"white\",\"ticks\":\"\"}},\"scene\":{\"xaxis\":{\"backgroundcolor\":\"#E5ECF6\",\"gridcolor\":\"white\",\"gridwidth\":2,\"linecolor\":\"white\",\"showbackground\":true,\"ticks\":\"\",\"zerolinecolor\":\"white\"},\"yaxis\":{\"backgroundcolor\":\"#E5ECF6\",\"gridcolor\":\"white\",\"gridwidth\":2,\"linecolor\":\"white\",\"showbackground\":true,\"ticks\":\"\",\"zerolinecolor\":\"white\"},\"zaxis\":{\"backgroundcolor\":\"#E5ECF6\",\"gridcolor\":\"white\",\"gridwidth\":2,\"linecolor\":\"white\",\"showbackground\":true,\"ticks\":\"\",\"zerolinecolor\":\"white\"}},\"shapedefaults\":{\"line\":{\"color\":\"#2a3f5f\"}},\"ternary\":{\"aaxis\":{\"gridcolor\":\"white\",\"linecolor\":\"white\",\"ticks\":\"\"},\"baxis\":{\"gridcolor\":\"white\",\"linecolor\":\"white\",\"ticks\":\"\"},\"bgcolor\":\"#E5ECF6\",\"caxis\":{\"gridcolor\":\"white\",\"linecolor\":\"white\",\"ticks\":\"\"}},\"title\":{\"x\":0.05},\"xaxis\":{\"automargin\":true,\"gridcolor\":\"white\",\"linecolor\":\"white\",\"ticks\":\"\",\"title\":{\"standoff\":15},\"zerolinecolor\":\"white\",\"zerolinewidth\":2},\"yaxis\":{\"automargin\":true,\"gridcolor\":\"white\",\"linecolor\":\"white\",\"ticks\":\"\",\"title\":{\"standoff\":15},\"zerolinecolor\":\"white\",\"zerolinewidth\":2}}},\"updatemenus\":[{\"active\":0,\"buttons\":[{\"args\":[{\"visible\":[true,false,false]}],\"label\":\"B1 map\",\"method\":\"update\"},{\"args\":[{\"visible\":[false,true,false]}],\"label\":\"B0 map\",\"method\":\"update\"},{\"args\":[{\"visible\":[false,false,true]}],\"label\":\"T1 map\",\"method\":\"update\"}],\"x\":0.65,\"y\":1.1}],\"width\":600,\"xaxis\":{\"anchor\":\"y\",\"domain\":[0.0,0.45],\"linecolor\":\"black\",\"linewidth\":2,\"showline\":true,\"title\":{\"font\":{\"family\":\"Times New Roman\",\"size\":18},\"text\":\"Input map\"}},\"yaxis\":{\"anchor\":\"x\",\"domain\":[0.575,1.0],\"linecolor\":\"black\",\"linewidth\":2,\"range\":[-100,100],\"showline\":true},\"xaxis2\":{\"anchor\":\"y2\",\"domain\":[0.55,1.0],\"linecolor\":\"black\",\"linewidth\":2,\"showline\":true,\"title\":{\"font\":{\"family\":\"Times New Roman\",\"size\":18},\"text\":\"Input map\"}},\"yaxis2\":{\"anchor\":\"x2\",\"domain\":[0.575,1.0],\"linecolor\":\"black\",\"linewidth\":2,\"range\":[-100,100],\"showline\":true},\"xaxis3\":{\"anchor\":\"y3\",\"domain\":[0.0,0.45],\"linecolor\":\"black\",\"linewidth\":2,\"showline\":true,\"title\":{\"font\":{\"family\":\"Times New Roman\",\"size\":18},\"text\":\"Input map\"}},\"yaxis3\":{\"anchor\":\"x3\",\"domain\":[0.0,0.425],\"linecolor\":\"black\",\"linewidth\":2,\"range\":[-100,100],\"showline\":true},\"xaxis4\":{\"anchor\":\"y4\",\"domain\":[0.55,1.0],\"linecolor\":\"black\",\"linewidth\":2,\"showline\":true,\"title\":{\"font\":{\"family\":\"Times New Roman\",\"size\":18},\"text\":\"Input map\"}},\"yaxis4\":{\"anchor\":\"x4\",\"domain\":[0.0,0.425],\"linecolor\":\"black\",\"linewidth\":2,\"range\":[-100,100],\"showline\":true}},                        {\"displayModeBar\": false, \"responsive\": true}                    ).then(function(){\n",
       "                            \n",
       "var gd = document.getElementById('df80bbf8-36ae-4328-b1c7-88088485113e');\n",
       "var x = new MutationObserver(function (mutations, observer) {{\n",
       "        var display = window.getComputedStyle(gd).display;\n",
       "        if (!display || display === 'none') {{\n",
       "            console.log([gd, 'removed!']);\n",
       "            Plotly.purge(gd);\n",
       "            observer.disconnect();\n",
       "        }}\n",
       "}});\n",
       "\n",
       "// Listen for the removal of the full notebook cells\n",
       "var notebookContainer = gd.closest('#notebook-container');\n",
       "if (notebookContainer) {{\n",
       "    x.observe(notebookContainer, {childList: true});\n",
       "}}\n",
       "\n",
       "// Listen for the clearing of the current output cell\n",
       "var outputEl = gd.closest('.output');\n",
       "if (outputEl) {{\n",
       "    x.observe(outputEl, {childList: true});\n",
       "}}\n",
       "\n",
       "                        })                };                });            </script>        </div>"
      ]
     },
     "metadata": {},
     "output_type": "display_data"
    }
   ],
   "source": [
    "#| label: qmtFig5cell\n",
    "\n",
    "import scipy\n",
    "import scipy.io as sio\n",
    "from pathlib import Path\n",
    "import numpy as np\n",
    "\n",
    "data_dir = Path(\"../../data/06-MT-01-qMT\")\n",
    "\n",
    "#Percentage error\n",
    "\n",
    "b1NormFittedData_mat = scipy.io.loadmat(data_dir / 'qMT_tutorial-ISMRM2022-main' / 'results/fitSyntheticData/b1NormFittedResults.mat')\n",
    "b1NormFittedData = np.array(b1NormFittedData_mat[\"b1NormFittedResults\"])\n",
    "\n",
    "b0NormFittedData_mat = scipy.io.loadmat(data_dir / 'qMT_tutorial-ISMRM2022-main' / 'results/fitSyntheticData/b0NormFittedResults.mat')\n",
    "b0NormFittedData = np.array(b0NormFittedData_mat[\"b0NormFittedResults\"])\n",
    "\n",
    "t1NormFittedData_mat = scipy.io.loadmat(data_dir / 'qMT_tutorial-ISMRM2022-main' / 'results/fitSyntheticData/t1NormFittedResults.mat')\n",
    "t1NormFittedData = np.array(t1NormFittedData_mat[\"t1NormFittedResults\"])\n",
    "\n",
    "\n",
    "import matplotlib.pyplot as plt\n",
    "from PIL import Image\n",
    "from matplotlib.image import imread\n",
    "import scipy.io\n",
    "import plotly\n",
    "from plotly.subplots import make_subplots\n",
    "import plotly.graph_objs as go\n",
    "import numpy as np\n",
    "from plotly import __version__\n",
    "from plotly.offline import download_plotlyjs, init_notebook_mode, plot, iplot\n",
    "config={'showLink': False, 'displayModeBar': False}\n",
    "\n",
    "# PYTHON CODE\n",
    "init_notebook_mode(connected=True)\n",
    "\n",
    "labels = [\"B1 map\", \"B0 map\", \"T1 map\"]\n",
    "FittedParams = [\"F\", \"kf (s<sup>-1</sup>)\", \"T2,f (s)\", \"T2,r\"]\n",
    "\n",
    "fig = make_subplots(rows=2, cols=2)\n",
    "\n",
    "#F\n",
    "trace1_b1 = go.Scatter(x=b1NormFittedData[:,0], y=b1NormFittedData[:,1],\n",
    "                       name=\"F\", mode='lines', line=dict(color=\"royalblue\"), visible=True,\n",
    "                       hovertemplate=\"Error (%) = %{y}<br>B1 value = %{x} <extra></extra>\")\n",
    "trace1_b0 = go.Scatter(x=b0NormFittedData[:,0], y=b0NormFittedData[:,1],\n",
    "                       name=\"F\", mode='lines', line=dict(color=\"royalblue\"), visible=False,\n",
    "                       hovertemplate=\"Error (%) = %{y}<br>B0 value = %{x} Hz<extra></extra>\")\n",
    "trace1_t1 = go.Scatter(x=t1NormFittedData[:,0], y=t1NormFittedData[:,1],\n",
    "                       name=\"F\", mode='lines', line=dict(color=\"royalblue\"), visible=False,\n",
    "                       hovertemplate=\"Error (%) = %{y}<br>T1 value = %{x} s<extra></extra>\")\n",
    "\n",
    "fig.append_trace(trace1_b1, 1, 1)\n",
    "fig.append_trace(trace1_b0, 1, 1)\n",
    "fig.append_trace(trace1_t1, 1, 1)\n",
    "\n",
    "#kf\n",
    "trace2_b1 = go.Scatter(x=b1NormFittedData[:,0], y=b1NormFittedData[:,2],\n",
    "                       name=\"kf\", mode='lines', line=dict(color=\"royalblue\"), visible=True,\n",
    "                       hovertemplate=\"Error (%) = %{y}<br>B1 value = %{x} <extra></extra>\")\n",
    "trace2_b0 = go.Scatter(x=b0NormFittedData[:,0], y=b0NormFittedData[:,2],\n",
    "                       name=\"kf\", mode='lines', line=dict(color=\"royalblue\"), visible=False,\n",
    "                       hovertemplate=\"Error (%) = %{y}<br>B0 value = %{x} Hz<extra></extra>\")\n",
    "trace2_t1 = go.Scatter(x=t1NormFittedData[:,0], y=t1NormFittedData[:,2],\n",
    "                       name=\"kf\", mode='lines', line=dict(color=\"royalblue\"), visible=False,\n",
    "                       hovertemplate=\"Error (%) = %{y}<br>T1 value = %{x} s<extra></extra>\")\n",
    "\n",
    "fig.append_trace(trace2_b1, 1, 2)\n",
    "fig.append_trace(trace2_b0, 1, 2)\n",
    "fig.append_trace(trace2_t1, 1, 2)\n",
    "\n",
    "#T2f\n",
    "trace3_b1 = go.Scatter(x=b1NormFittedData[:,0], y=b1NormFittedData[:,3],\n",
    "                       name=\"kf\", mode='lines', line=dict(color=\"royalblue\"), visible=True,\n",
    "                       hovertemplate=\"Error (%) = %{y}<br>B1 value = %{x} <extra></extra>\")\n",
    "trace3_b0 = go.Scatter(x=b0NormFittedData[:,0], y=b0NormFittedData[:,3],\n",
    "                       name=\"kf\", mode='lines', line=dict(color=\"royalblue\"), visible=False,\n",
    "                       hovertemplate=\"Error (%) = %{y}<br>B0 value = %{x} Hz<extra></extra>\")\n",
    "trace3_t1 = go.Scatter(x=t1NormFittedData[:,0], y=t1NormFittedData[:,3],\n",
    "                       name=\"kf\", mode='lines', line=dict(color=\"royalblue\"), visible=False,\n",
    "                       hovertemplate=\"Error (%) = %{y}<br>T1 value = %{x} s<extra></extra>\")\n",
    "\n",
    "fig.append_trace(trace3_b1, 2, 1)\n",
    "fig.append_trace(trace3_b0, 2, 1)\n",
    "fig.append_trace(trace3_t1, 2, 1)\n",
    "\n",
    "#T2r\n",
    "trace4_b1 = go.Scatter(x=b1NormFittedData[:,0], y=b1NormFittedData[:,4],\n",
    "                       name=\"kf\", mode='lines', line=dict(color=\"royalblue\"), visible=True,\n",
    "                       hovertemplate=\"Error (%) = %{y}<br>B1 value = %{x} <extra></extra>\")\n",
    "trace4_b0 = go.Scatter(x=b0NormFittedData[:,0], y=b0NormFittedData[:,4],\n",
    "                       name=\"kf\", mode='lines', line=dict(color=\"royalblue\"), visible=False,\n",
    "                       hovertemplate=\"Error (%) = %{y}<br>B0 value = %{x} Hz<extra></extra>\")\n",
    "trace4_t1 = go.Scatter(x=t1NormFittedData[:,0], y=t1NormFittedData[:,4],\n",
    "                       name=\"kf\", mode='lines', line=dict(color=\"royalblue\"), visible=False,\n",
    "                       hovertemplate=\"Error (%) = %{y}<br>T1 value = %{x} s<extra></extra>\")\n",
    "\n",
    "fig.append_trace(trace4_b1, 2, 2)\n",
    "fig.append_trace(trace4_b0, 2, 2)\n",
    "fig.append_trace(trace4_t1, 2, 2)\n",
    "\n",
    "buttons = []\n",
    "for i, label in enumerate(labels):\n",
    "    visibility = [i==j for j in range(len(labels))]\n",
    "    button = dict(\n",
    "                label =  label,\n",
    "                method = 'update',\n",
    "                args = [{'visible': visibility}])\n",
    "    buttons.append(button)\n",
    "        \n",
    "updatemenus = list([\n",
    "    dict(active=0,\n",
    "         x=0.65,\n",
    "         y=1.1,\n",
    "         buttons=buttons\n",
    "    )\n",
    "])\n",
    "\n",
    "fig['layout']['showlegend'] = False\n",
    "fig['layout']['updatemenus'] = updatemenus\n",
    "\n",
    "fig.update_xaxes(title_text='Input map', title_font=dict(family='Times New Roman', size=18),\n",
    "                 row=1, col=1, showline=True, linewidth=2, linecolor='black')\n",
    "fig.update_xaxes(title_text='Input map', title_font=dict(family='Times New Roman', size=18),\n",
    "                 row=1, col=2, showline=True, linewidth=2, linecolor='black')\n",
    "fig.update_xaxes(title_text='Input map', title_font=dict(family='Times New Roman', size=18),\n",
    "                 row=2, col=1, showline=True, linewidth=2, linecolor='black')\n",
    "fig.update_xaxes(title_text='Input map', title_font=dict(family='Times New Roman', size=18),\n",
    "                 row=2, col=2, showline=True, linewidth=2, linecolor='black')\n",
    "fig.update_yaxes(range=[-100,100], row=1, col=1, showline=True, linewidth=2, linecolor='black')\n",
    "fig.update_yaxes(range=[-100,100], row=1, col=2, showline=True, linewidth=2, linecolor='black')\n",
    "fig.update_yaxes(range=[-100,100], row=2, col=1, showline=True, linewidth=2, linecolor='black')\n",
    "fig.update_yaxes(range=[-100,100], row=2, col=2, showline=True, linewidth=2, linecolor='black')\n",
    "\n",
    "fig.update_layout(height=500, width=600, plot_bgcolor='rgba(0,0,0,0)')\n",
    "fig.update_layout(annotations=[\n",
    "    dict(\n",
    "        x=0.20,\n",
    "        y=1.1,\n",
    "        showarrow=False,\n",
    "        text='Input map: ',\n",
    "        font=dict(\n",
    "            family='Times New Roman',\n",
    "            size=22\n",
    "            ),\n",
    "        xref='paper',\n",
    "        yref='paper'\n",
    "        ),\n",
    "    dict(\n",
    "        x=-0.1,\n",
    "        y=0.90,\n",
    "        showarrow=False,\n",
    "        text='% Error in ' + FittedParams[0],\n",
    "        font=dict(\n",
    "            family='Times New Roman',\n",
    "            size=18\n",
    "            ),\n",
    "        textangle=-90,\n",
    "        xref='paper',\n",
    "        yref='paper'\n",
    "        ),\n",
    "    dict(\n",
    "        x=0.48,\n",
    "        y=0.98,\n",
    "        showarrow=False,\n",
    "        text='% Error in ' + FittedParams[1],\n",
    "        font=dict(\n",
    "            family='Times New Roman',\n",
    "            size=18\n",
    "            ),\n",
    "        textangle=-90,\n",
    "        xref='paper',\n",
    "        yref='paper'\n",
    "        ),\n",
    "    dict(\n",
    "        x=-0.1,\n",
    "        y=0.03,\n",
    "        showarrow=False,\n",
    "        text='% Error in ' + FittedParams[2],\n",
    "        font=dict(\n",
    "            family='Times New Roman',\n",
    "            size=18\n",
    "            ),\n",
    "        textangle=-90,\n",
    "        xref='paper',\n",
    "        yref='paper'\n",
    "        ),\n",
    "    dict(\n",
    "        x=0.48,\n",
    "        y=0.07,\n",
    "        showarrow=False,\n",
    "        text='% Error in ' + FittedParams[3],\n",
    "        font=dict(\n",
    "            family='Times New Roman',\n",
    "            size=18\n",
    "            ),\n",
    "        textangle=-90,\n",
    "        xref='paper',\n",
    "        yref='paper'\n",
    "        )\n",
    "])\n",
    "fig.update_layout(plot_bgcolor='rgba(0,0,0,0)',\n",
    "                 margin=go.layout.Margin(\n",
    "                     l=120,\n",
    "                     r=40,\n",
    "                     b=60,\n",
    "                     t=50,\n",
    "                     )\n",
    "                 )\n",
    "fig.update_layout()\n",
    "\n",
    "iplot(fig, filename='basic-line', config=config)"
   ]
  }
 ],
 "metadata": {
  "kernelspec": {
   "display_name": "base",
   "language": "python",
   "name": "python3"
  },
  "language_info": {
   "codemirror_mode": {
    "name": "ipython",
    "version": 3
   },
   "file_extension": ".py",
   "mimetype": "text/x-python",
   "name": "python",
   "nbconvert_exporter": "python",
   "pygments_lexer": "ipython3",
   "version": "3.12.2"
  }
 },
 "nbformat": 4,
 "nbformat_minor": 2
}
