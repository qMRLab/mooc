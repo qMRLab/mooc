{
 "cells": [
  {
   "cell_type": "code",
   "execution_count": 1,
   "metadata": {},
   "outputs": [
    {
     "data": {
      "text/html": [
       "        <script type=\"text/javascript\">\n",
       "        window.PlotlyConfig = {MathJaxConfig: 'local'};\n",
       "        if (window.MathJax && window.MathJax.Hub && window.MathJax.Hub.Config) {window.MathJax.Hub.Config({SVG: {font: \"STIX-Web\"}});}\n",
       "        if (typeof require !== 'undefined') {\n",
       "        require.undef(\"plotly\");\n",
       "        requirejs.config({\n",
       "            paths: {\n",
       "                'plotly': ['https://cdn.plot.ly/plotly-2.32.0.min']\n",
       "            }\n",
       "        });\n",
       "        require(['plotly'], function(Plotly) {\n",
       "            window._Plotly = Plotly;\n",
       "        });\n",
       "        }\n",
       "        </script>\n",
       "        "
      ]
     },
     "metadata": {},
     "output_type": "display_data"
    },
    {
     "data": {
      "application/vnd.plotly.v1+json": {
       "config": {
        "linkText": "Export to plot.ly",
        "plotlyServerURL": "https://plot.ly",
        "showLink": false
       },
       "data": [
        {
         "hovertemplate": "Fitted curve (angle = 142)<br>M<sub>z</sub> = %{y}<br>Offset = %{x} Hz<extra></extra>",
         "line": {
          "color": "firebrick"
         },
         "mode": "lines",
         "name": "Fitted curve (angle = 142)",
         "type": "scatter",
         "visible": true,
         "x": [
          100,
          221.5,
          343,
          443,
          543,
          765.5,
          988,
          1088,
          1188,
          1910,
          2632,
          2732,
          2832,
          4797,
          6762,
          6862,
          6962,
          12048.5,
          17135,
          17235,
          17335,
          18235
         ],
         "y": [
          0.008813726425223186,
          0.37343447696210635,
          0.6610938327892172,
          0.7199791813847203,
          0.7513422491517757,
          0.7848775846900953,
          0.8008618331869922,
          0.8058661063271711,
          0.8101648894800186,
          0.8402396928424347,
          0.8654618056194635,
          0.868439773234378,
          0.8713245002893902,
          0.915442841636216,
          0.9451162255894823,
          0.9463530668898814,
          0.9475664472654632,
          0.985052328418574,
          0.9958130103343505,
          0.995911365194335,
          0.9960071877695557,
          0.9967669381232114
         ]
        },
        {
         "hovertemplate": "Fitted curve (angle = 426)<br>M<sub>z</sub> = %{y}<br>Offset = %{x} Hz<extra></extra>",
         "line": {
          "color": "royalblue"
         },
         "mode": "lines",
         "name": "Fitted curve (angle = 426)",
         "type": "scatter",
         "visible": true,
         "x": [
          100,
          221.5,
          343,
          443,
          543,
          765.5,
          988,
          1088,
          1188,
          1910,
          2632,
          2732,
          2832,
          4797,
          6762,
          6862,
          6962,
          12048.5,
          17135,
          17235,
          17335,
          18235
         ],
         "y": [
          0.02072946310600699,
          0.0795215283221416,
          0.23644933763830436,
          0.28572380143123816,
          0.31597055609720837,
          0.360231191142515,
          0.3862028584236417,
          0.3946817277607403,
          0.40192284552376417,
          0.4468384300060341,
          0.48633117932554853,
          0.49140335768294585,
          0.4964183720307222,
          0.5904553969099567,
          0.6828354898211059,
          0.6874619526545536,
          0.692074135487011,
          0.8831708108604882,
          0.9638436932114943,
          0.9646591961670091,
          0.965455218872067,
          0.9718197187349694
         ]
        },
        {
         "hovertemplate": "Raw data<br>M<sub>z</sub> = %{y}<br>Offset = %{x} Hz<extra></extra>",
         "line": {
          "color": "darkslategray"
         },
         "mode": "markers",
         "name": "Raw data",
         "type": "scatter",
         "visible": true,
         "x": [
          443,
          443,
          1088,
          1088,
          2732,
          2732,
          6862,
          6862,
          17235,
          17235
         ],
         "y": [
          0.7211806301174405,
          0.28487030374008715,
          0.8073201477988614,
          0.3942002920063607,
          0.8701579923794038,
          0.49072523945840946,
          0.9454872123427623,
          0.6885987374756003,
          0.994807610080808,
          0.9655928102654001
         ]
        },
        {
         "hovertemplate": "Fitted curve (angle = 142)<br>M<sub>z</sub> = %{y}<br>Offset = %{x} Hz<extra></extra>",
         "line": {
          "color": "firebrick"
         },
         "mode": "lines",
         "name": "Fitted curve (angle = 142)",
         "type": "scatter",
         "visible": false,
         "x": [
          100,
          221.5,
          343,
          443,
          543,
          765.5,
          988,
          1088,
          1188,
          1910,
          2632,
          2732,
          2832,
          4797,
          6762,
          6862,
          6962,
          12048.5,
          17135,
          17235,
          17335,
          18235
         ],
         "y": [
          0.007040558970299466,
          0.32213839865260513,
          0.6086483788482046,
          0.6721199454971076,
          0.7066565276774349,
          0.7441686696203171,
          0.7622704548993611,
          0.7679689330367211,
          0.7728763694062615,
          0.8075268576459254,
          0.8369750455206374,
          0.8404747797053331,
          0.8438695295083445,
          0.8963545387438159,
          0.9322617641003814,
          0.9337692076187097,
          0.9352489008137694,
          0.981377864004994,
          0.9947703136548564,
          0.9948930382159019,
          0.9950126085740133,
          0.9959608418042692
         ]
        },
        {
         "hovertemplate": "Fitted curve (angle = 426)<br>M<sub>z</sub> = %{y}<br>Offset = %{x} Hz<extra></extra>",
         "line": {
          "color": "royalblue"
         },
         "mode": "lines",
         "name": "Fitted curve (angle = 426)",
         "type": "scatter",
         "visible": false,
         "x": [
          100,
          221.5,
          343,
          443,
          543,
          765.5,
          988,
          1088,
          1188,
          1910,
          2632,
          2732,
          2832,
          4797,
          6762,
          6862,
          6962,
          12048.5,
          17135,
          17235,
          17335,
          18235
         ],
         "y": [
          0.016580425713712366,
          0.06423464815958192,
          0.19618643497880064,
          0.23913027437609136,
          0.26588260870445857,
          0.30562924827332527,
          0.3293687735691115,
          0.33721146875675845,
          0.34395555407913003,
          0.38713245367894267,
          0.4262705726436386,
          0.4313503234617927,
          0.4363838396231444,
          0.532694592586734,
          0.6309394671694705,
          0.6359596166921275,
          0.6409740706003185,
          0.8578572473356447,
          0.9551784747203838,
          0.9561810074807569,
          0.9571599617974698,
          0.965000224239713
         ]
        },
        {
         "hovertemplate": "Raw data<br>M<sub>z</sub> = %{y}<br>Offset = %{x} Hz<extra></extra>",
         "line": {
          "color": "darkslategray"
         },
         "mode": "markers",
         "name": "Raw data",
         "type": "scatter",
         "visible": false,
         "x": [
          443,
          443,
          1088,
          1088,
          2732,
          2732,
          6862,
          6862,
          17235,
          17235
         ],
         "y": [
          0.6719339761649656,
          0.23993832553324673,
          0.7669533291298274,
          0.3379704851210305,
          0.8394716750827106,
          0.4313878107185345,
          0.9323063057332419,
          0.6367439860989877,
          0.9959745338516346,
          0.9558668261788289
         ]
        },
        {
         "hovertemplate": "Fitted curve (angle = 142)<br>M<sub>z</sub> = %{y}<br>Offset = %{x} Hz<extra></extra>",
         "line": {
          "color": "firebrick"
         },
         "mode": "lines",
         "name": "Fitted curve (angle = 142)",
         "type": "scatter",
         "visible": false,
         "x": [
          100,
          221.5,
          343,
          443,
          543,
          765.5,
          988,
          1088,
          1188,
          1910,
          2632,
          2732,
          2832,
          4797,
          6762,
          6862,
          6962,
          12048.5,
          17135,
          17235,
          17335,
          18235
         ],
         "y": [
          0.22776080758964512,
          0.532808209983227,
          0.6640942013777636,
          0.7148056915514713,
          0.7436113107520577,
          0.7759107446640148,
          0.7918228652181784,
          0.7968771280882149,
          0.8012410560898308,
          0.8322115532679276,
          0.858414918080852,
          0.8615170324042604,
          0.8645233545930532,
          0.9106790409904115,
          0.9418982676600599,
          0.9432025276595805,
          0.9444822820807685,
          0.9841307685383498,
          0.9955521194661439,
          0.9956565894412035,
          0.9957583739563048,
          0.9965654275892428
         ]
        },
        {
         "hovertemplate": "Fitted curve (angle = 426)<br>M<sub>z</sub> = %{y}<br>Offset = %{x} Hz<extra></extra>",
         "line": {
          "color": "royalblue"
         },
         "mode": "lines",
         "name": "Fitted curve (angle = 426)",
         "type": "scatter",
         "visible": false,
         "x": [
          100,
          221.5,
          343,
          443,
          543,
          765.5,
          988,
          1088,
          1188,
          1910,
          2632,
          2732,
          2832,
          4797,
          6762,
          6862,
          6962,
          12048.5,
          17135,
          17235,
          17335,
          18235
         ],
         "y": [
          0.028533704472289576,
          0.11624905683569814,
          0.20149454776379894,
          0.25400299493237205,
          0.29206648853571343,
          0.34372523301750646,
          0.3719184925327244,
          0.380816689863855,
          0.38831969917962084,
          0.43349567342933104,
          0.47281615705562957,
          0.477868228933391,
          0.48286481438785184,
          0.576957035223284,
          0.6703608350148058,
          0.6750671980894289,
          0.6797618622381297,
          0.8768713840032113,
          0.9616789708840208,
          0.9625412544967773,
          0.9633830507937774,
          0.9701168933693538
         ]
        },
        {
         "hovertemplate": "Raw data<br>M<sub>z</sub> = %{y}<br>Offset = %{x} Hz<extra></extra>",
         "line": {
          "color": "darkslategray"
         },
         "mode": "markers",
         "name": "Raw data",
         "type": "scatter",
         "visible": false,
         "x": [
          443,
          443,
          1088,
          1088,
          2732,
          2732,
          6862,
          6862,
          17235,
          17235
         ],
         "y": [
          0.7146907907754291,
          0.25520602687931654,
          0.7965079899990527,
          0.3801815815559049,
          0.8625492824813871,
          0.47799869150947677,
          0.942893018593364,
          0.6743662492879253,
          0.9942322613939957,
          0.9627483631962553
         ]
        },
        {
         "hovertemplate": "Fitted curve (angle = 142)<br>M<sub>z</sub> = %{y}<br>Offset = %{x} Hz<extra></extra>",
         "line": {
          "color": "firebrick"
         },
         "mode": "lines",
         "name": "Fitted curve (angle = 142)",
         "type": "scatter",
         "visible": false,
         "x": [
          100,
          221.5,
          343,
          443,
          543,
          765.5,
          988,
          1088,
          1188,
          1910,
          2632,
          2732,
          2832,
          4797,
          6762,
          6862,
          6962,
          12048.5,
          17135,
          17235,
          17335,
          18235
         ],
         "y": [
          0.2023250551560425,
          0.49212110930980835,
          0.6263074575899547,
          0.6798023153265046,
          0.7106205939833322,
          0.7455667312883681,
          0.7629493020850566,
          0.7684970890361883,
          0.773298259133166,
          0.8076656412798507,
          0.8370456570585237,
          0.8405402954219672,
          0.8439302924749451,
          0.896375927375798,
          0.9322728256642291,
          0.9337799669247338,
          0.9352593744263877,
          0.9813814946834405,
          0.9947721329641879,
          0.9948948344138362,
          0.9950143856042946,
          0.9959624467895339
         ]
        },
        {
         "hovertemplate": "Fitted curve (angle = 426)<br>M<sub>z</sub> = %{y}<br>Offset = %{x} Hz<extra></extra>",
         "line": {
          "color": "royalblue"
         },
         "mode": "lines",
         "name": "Fitted curve (angle = 426)",
         "type": "scatter",
         "visible": false,
         "x": [
          100,
          221.5,
          343,
          443,
          543,
          765.5,
          988,
          1088,
          1188,
          1910,
          2632,
          2732,
          2832,
          4797,
          6762,
          6862,
          6962,
          12048.5,
          17135,
          17235,
          17335,
          18235
         ],
         "y": [
          0.02689535757261451,
          0.10240751249140566,
          0.17639286028303341,
          0.22261997669927763,
          0.2564786831584486,
          0.3029821651011221,
          0.328739813864575,
          0.3369589574146588,
          0.3439365476410526,
          0.3874127260926018,
          0.4264889543043109,
          0.43155984461048746,
          0.43658491480891853,
          0.5327951892822306,
          0.6310019709177866,
          0.6360209257172481,
          0.641034236293446,
          0.8578850165052875,
          0.9551939360859618,
          0.9561962997224813,
          0.9571751036433472,
          0.9650140340030405
         ]
        },
        {
         "hovertemplate": "Raw data<br>M<sub>z</sub> = %{y}<br>Offset = %{x} Hz<extra></extra>",
         "line": {
          "color": "darkslategray"
         },
         "mode": "markers",
         "name": "Raw data",
         "type": "scatter",
         "visible": false,
         "x": [
          443,
          443,
          1088,
          1088,
          2732,
          2732,
          6862,
          6862,
          17235,
          17235
         ],
         "y": [
          0.6809342300651129,
          0.22247419719695857,
          0.7685715633214187,
          0.3376731769920527,
          0.8405856386118117,
          0.4326099749321798,
          0.9347479310405289,
          0.6355852180431496,
          0.9966030127510804,
          0.9575097886417907
         ]
        }
       ],
       "layout": {
        "annotations": [
         {
          "font": {
           "family": "Times New Roman",
           "size": 22
          },
          "showarrow": false,
          "text": "Fitting method: ",
          "x": 0.35,
          "xref": "paper",
          "y": 1.1,
          "yref": "paper"
         },
         {
          "font": {
           "family": "Times New Roman",
           "size": 22
          },
          "showarrow": false,
          "text": "Frequency offset Δ (Hz)",
          "x": 0.5004254919715793,
          "xref": "paper",
          "y": -0.2,
          "yref": "paper"
         },
         {
          "font": {
           "family": "Times New Roman",
           "size": 22
          },
          "showarrow": false,
          "text": "Magnetization |M<sub>z</sub>|",
          "textangle": -90,
          "x": -0.14,
          "xref": "paper",
          "y": 0.5,
          "yref": "paper"
         }
        ],
        "height": 450,
        "legend": {
         "bordercolor": "#000000",
         "borderwidth": 2,
         "font": {
          "color": "#000",
          "family": "Times New Roman",
          "size": 12
         },
         "traceorder": "normal",
         "x": 0.55,
         "y": 0.1
        },
        "plot_bgcolor": "rgba(0,0,0,0)",
        "template": {
         "data": {
          "bar": [
           {
            "error_x": {
             "color": "#2a3f5f"
            },
            "error_y": {
             "color": "#2a3f5f"
            },
            "marker": {
             "line": {
              "color": "#E5ECF6",
              "width": 0.5
             },
             "pattern": {
              "fillmode": "overlay",
              "size": 10,
              "solidity": 0.2
             }
            },
            "type": "bar"
           }
          ],
          "barpolar": [
           {
            "marker": {
             "line": {
              "color": "#E5ECF6",
              "width": 0.5
             },
             "pattern": {
              "fillmode": "overlay",
              "size": 10,
              "solidity": 0.2
             }
            },
            "type": "barpolar"
           }
          ],
          "carpet": [
           {
            "aaxis": {
             "endlinecolor": "#2a3f5f",
             "gridcolor": "white",
             "linecolor": "white",
             "minorgridcolor": "white",
             "startlinecolor": "#2a3f5f"
            },
            "baxis": {
             "endlinecolor": "#2a3f5f",
             "gridcolor": "white",
             "linecolor": "white",
             "minorgridcolor": "white",
             "startlinecolor": "#2a3f5f"
            },
            "type": "carpet"
           }
          ],
          "choropleth": [
           {
            "colorbar": {
             "outlinewidth": 0,
             "ticks": ""
            },
            "type": "choropleth"
           }
          ],
          "contour": [
           {
            "colorbar": {
             "outlinewidth": 0,
             "ticks": ""
            },
            "colorscale": [
             [
              0,
              "#0d0887"
             ],
             [
              0.1111111111111111,
              "#46039f"
             ],
             [
              0.2222222222222222,
              "#7201a8"
             ],
             [
              0.3333333333333333,
              "#9c179e"
             ],
             [
              0.4444444444444444,
              "#bd3786"
             ],
             [
              0.5555555555555556,
              "#d8576b"
             ],
             [
              0.6666666666666666,
              "#ed7953"
             ],
             [
              0.7777777777777778,
              "#fb9f3a"
             ],
             [
              0.8888888888888888,
              "#fdca26"
             ],
             [
              1,
              "#f0f921"
             ]
            ],
            "type": "contour"
           }
          ],
          "contourcarpet": [
           {
            "colorbar": {
             "outlinewidth": 0,
             "ticks": ""
            },
            "type": "contourcarpet"
           }
          ],
          "heatmap": [
           {
            "colorbar": {
             "outlinewidth": 0,
             "ticks": ""
            },
            "colorscale": [
             [
              0,
              "#0d0887"
             ],
             [
              0.1111111111111111,
              "#46039f"
             ],
             [
              0.2222222222222222,
              "#7201a8"
             ],
             [
              0.3333333333333333,
              "#9c179e"
             ],
             [
              0.4444444444444444,
              "#bd3786"
             ],
             [
              0.5555555555555556,
              "#d8576b"
             ],
             [
              0.6666666666666666,
              "#ed7953"
             ],
             [
              0.7777777777777778,
              "#fb9f3a"
             ],
             [
              0.8888888888888888,
              "#fdca26"
             ],
             [
              1,
              "#f0f921"
             ]
            ],
            "type": "heatmap"
           }
          ],
          "heatmapgl": [
           {
            "colorbar": {
             "outlinewidth": 0,
             "ticks": ""
            },
            "colorscale": [
             [
              0,
              "#0d0887"
             ],
             [
              0.1111111111111111,
              "#46039f"
             ],
             [
              0.2222222222222222,
              "#7201a8"
             ],
             [
              0.3333333333333333,
              "#9c179e"
             ],
             [
              0.4444444444444444,
              "#bd3786"
             ],
             [
              0.5555555555555556,
              "#d8576b"
             ],
             [
              0.6666666666666666,
              "#ed7953"
             ],
             [
              0.7777777777777778,
              "#fb9f3a"
             ],
             [
              0.8888888888888888,
              "#fdca26"
             ],
             [
              1,
              "#f0f921"
             ]
            ],
            "type": "heatmapgl"
           }
          ],
          "histogram": [
           {
            "marker": {
             "pattern": {
              "fillmode": "overlay",
              "size": 10,
              "solidity": 0.2
             }
            },
            "type": "histogram"
           }
          ],
          "histogram2d": [
           {
            "colorbar": {
             "outlinewidth": 0,
             "ticks": ""
            },
            "colorscale": [
             [
              0,
              "#0d0887"
             ],
             [
              0.1111111111111111,
              "#46039f"
             ],
             [
              0.2222222222222222,
              "#7201a8"
             ],
             [
              0.3333333333333333,
              "#9c179e"
             ],
             [
              0.4444444444444444,
              "#bd3786"
             ],
             [
              0.5555555555555556,
              "#d8576b"
             ],
             [
              0.6666666666666666,
              "#ed7953"
             ],
             [
              0.7777777777777778,
              "#fb9f3a"
             ],
             [
              0.8888888888888888,
              "#fdca26"
             ],
             [
              1,
              "#f0f921"
             ]
            ],
            "type": "histogram2d"
           }
          ],
          "histogram2dcontour": [
           {
            "colorbar": {
             "outlinewidth": 0,
             "ticks": ""
            },
            "colorscale": [
             [
              0,
              "#0d0887"
             ],
             [
              0.1111111111111111,
              "#46039f"
             ],
             [
              0.2222222222222222,
              "#7201a8"
             ],
             [
              0.3333333333333333,
              "#9c179e"
             ],
             [
              0.4444444444444444,
              "#bd3786"
             ],
             [
              0.5555555555555556,
              "#d8576b"
             ],
             [
              0.6666666666666666,
              "#ed7953"
             ],
             [
              0.7777777777777778,
              "#fb9f3a"
             ],
             [
              0.8888888888888888,
              "#fdca26"
             ],
             [
              1,
              "#f0f921"
             ]
            ],
            "type": "histogram2dcontour"
           }
          ],
          "mesh3d": [
           {
            "colorbar": {
             "outlinewidth": 0,
             "ticks": ""
            },
            "type": "mesh3d"
           }
          ],
          "parcoords": [
           {
            "line": {
             "colorbar": {
              "outlinewidth": 0,
              "ticks": ""
             }
            },
            "type": "parcoords"
           }
          ],
          "pie": [
           {
            "automargin": true,
            "type": "pie"
           }
          ],
          "scatter": [
           {
            "fillpattern": {
             "fillmode": "overlay",
             "size": 10,
             "solidity": 0.2
            },
            "type": "scatter"
           }
          ],
          "scatter3d": [
           {
            "line": {
             "colorbar": {
              "outlinewidth": 0,
              "ticks": ""
             }
            },
            "marker": {
             "colorbar": {
              "outlinewidth": 0,
              "ticks": ""
             }
            },
            "type": "scatter3d"
           }
          ],
          "scattercarpet": [
           {
            "marker": {
             "colorbar": {
              "outlinewidth": 0,
              "ticks": ""
             }
            },
            "type": "scattercarpet"
           }
          ],
          "scattergeo": [
           {
            "marker": {
             "colorbar": {
              "outlinewidth": 0,
              "ticks": ""
             }
            },
            "type": "scattergeo"
           }
          ],
          "scattergl": [
           {
            "marker": {
             "colorbar": {
              "outlinewidth": 0,
              "ticks": ""
             }
            },
            "type": "scattergl"
           }
          ],
          "scattermapbox": [
           {
            "marker": {
             "colorbar": {
              "outlinewidth": 0,
              "ticks": ""
             }
            },
            "type": "scattermapbox"
           }
          ],
          "scatterpolar": [
           {
            "marker": {
             "colorbar": {
              "outlinewidth": 0,
              "ticks": ""
             }
            },
            "type": "scatterpolar"
           }
          ],
          "scatterpolargl": [
           {
            "marker": {
             "colorbar": {
              "outlinewidth": 0,
              "ticks": ""
             }
            },
            "type": "scatterpolargl"
           }
          ],
          "scatterternary": [
           {
            "marker": {
             "colorbar": {
              "outlinewidth": 0,
              "ticks": ""
             }
            },
            "type": "scatterternary"
           }
          ],
          "surface": [
           {
            "colorbar": {
             "outlinewidth": 0,
             "ticks": ""
            },
            "colorscale": [
             [
              0,
              "#0d0887"
             ],
             [
              0.1111111111111111,
              "#46039f"
             ],
             [
              0.2222222222222222,
              "#7201a8"
             ],
             [
              0.3333333333333333,
              "#9c179e"
             ],
             [
              0.4444444444444444,
              "#bd3786"
             ],
             [
              0.5555555555555556,
              "#d8576b"
             ],
             [
              0.6666666666666666,
              "#ed7953"
             ],
             [
              0.7777777777777778,
              "#fb9f3a"
             ],
             [
              0.8888888888888888,
              "#fdca26"
             ],
             [
              1,
              "#f0f921"
             ]
            ],
            "type": "surface"
           }
          ],
          "table": [
           {
            "cells": {
             "fill": {
              "color": "#EBF0F8"
             },
             "line": {
              "color": "white"
             }
            },
            "header": {
             "fill": {
              "color": "#C8D4E3"
             },
             "line": {
              "color": "white"
             }
            },
            "type": "table"
           }
          ]
         },
         "layout": {
          "annotationdefaults": {
           "arrowcolor": "#2a3f5f",
           "arrowhead": 0,
           "arrowwidth": 1
          },
          "autotypenumbers": "strict",
          "coloraxis": {
           "colorbar": {
            "outlinewidth": 0,
            "ticks": ""
           }
          },
          "colorscale": {
           "diverging": [
            [
             0,
             "#8e0152"
            ],
            [
             0.1,
             "#c51b7d"
            ],
            [
             0.2,
             "#de77ae"
            ],
            [
             0.3,
             "#f1b6da"
            ],
            [
             0.4,
             "#fde0ef"
            ],
            [
             0.5,
             "#f7f7f7"
            ],
            [
             0.6,
             "#e6f5d0"
            ],
            [
             0.7,
             "#b8e186"
            ],
            [
             0.8,
             "#7fbc41"
            ],
            [
             0.9,
             "#4d9221"
            ],
            [
             1,
             "#276419"
            ]
           ],
           "sequential": [
            [
             0,
             "#0d0887"
            ],
            [
             0.1111111111111111,
             "#46039f"
            ],
            [
             0.2222222222222222,
             "#7201a8"
            ],
            [
             0.3333333333333333,
             "#9c179e"
            ],
            [
             0.4444444444444444,
             "#bd3786"
            ],
            [
             0.5555555555555556,
             "#d8576b"
            ],
            [
             0.6666666666666666,
             "#ed7953"
            ],
            [
             0.7777777777777778,
             "#fb9f3a"
            ],
            [
             0.8888888888888888,
             "#fdca26"
            ],
            [
             1,
             "#f0f921"
            ]
           ],
           "sequentialminus": [
            [
             0,
             "#0d0887"
            ],
            [
             0.1111111111111111,
             "#46039f"
            ],
            [
             0.2222222222222222,
             "#7201a8"
            ],
            [
             0.3333333333333333,
             "#9c179e"
            ],
            [
             0.4444444444444444,
             "#bd3786"
            ],
            [
             0.5555555555555556,
             "#d8576b"
            ],
            [
             0.6666666666666666,
             "#ed7953"
            ],
            [
             0.7777777777777778,
             "#fb9f3a"
            ],
            [
             0.8888888888888888,
             "#fdca26"
            ],
            [
             1,
             "#f0f921"
            ]
           ]
          },
          "colorway": [
           "#636efa",
           "#EF553B",
           "#00cc96",
           "#ab63fa",
           "#FFA15A",
           "#19d3f3",
           "#FF6692",
           "#B6E880",
           "#FF97FF",
           "#FECB52"
          ],
          "font": {
           "color": "#2a3f5f"
          },
          "geo": {
           "bgcolor": "white",
           "lakecolor": "white",
           "landcolor": "#E5ECF6",
           "showlakes": true,
           "showland": true,
           "subunitcolor": "white"
          },
          "hoverlabel": {
           "align": "left"
          },
          "hovermode": "closest",
          "mapbox": {
           "style": "light"
          },
          "paper_bgcolor": "white",
          "plot_bgcolor": "#E5ECF6",
          "polar": {
           "angularaxis": {
            "gridcolor": "white",
            "linecolor": "white",
            "ticks": ""
           },
           "bgcolor": "#E5ECF6",
           "radialaxis": {
            "gridcolor": "white",
            "linecolor": "white",
            "ticks": ""
           }
          },
          "scene": {
           "xaxis": {
            "backgroundcolor": "#E5ECF6",
            "gridcolor": "white",
            "gridwidth": 2,
            "linecolor": "white",
            "showbackground": true,
            "ticks": "",
            "zerolinecolor": "white"
           },
           "yaxis": {
            "backgroundcolor": "#E5ECF6",
            "gridcolor": "white",
            "gridwidth": 2,
            "linecolor": "white",
            "showbackground": true,
            "ticks": "",
            "zerolinecolor": "white"
           },
           "zaxis": {
            "backgroundcolor": "#E5ECF6",
            "gridcolor": "white",
            "gridwidth": 2,
            "linecolor": "white",
            "showbackground": true,
            "ticks": "",
            "zerolinecolor": "white"
           }
          },
          "shapedefaults": {
           "line": {
            "color": "#2a3f5f"
           }
          },
          "ternary": {
           "aaxis": {
            "gridcolor": "white",
            "linecolor": "white",
            "ticks": ""
           },
           "baxis": {
            "gridcolor": "white",
            "linecolor": "white",
            "ticks": ""
           },
           "bgcolor": "#E5ECF6",
           "caxis": {
            "gridcolor": "white",
            "linecolor": "white",
            "ticks": ""
           }
          },
          "title": {
           "x": 0.05
          },
          "xaxis": {
           "automargin": true,
           "gridcolor": "white",
           "linecolor": "white",
           "ticks": "",
           "title": {
            "standoff": 15
           },
           "zerolinecolor": "white",
           "zerolinewidth": 2
          },
          "yaxis": {
           "automargin": true,
           "gridcolor": "white",
           "linecolor": "white",
           "ticks": "",
           "title": {
            "standoff": 15
           },
           "zerolinecolor": "white",
           "zerolinewidth": 2
          }
         }
        },
        "updatemenus": [
         {
          "active": 0,
          "buttons": [
           {
            "args": [
             {
              "visible": [
               true,
               true,
               true,
               false,
               false,
               false,
               false,
               false,
               false,
               false,
               false,
               false
              ]
             }
            ],
            "label": "Sled Pike RP",
            "method": "update"
           },
           {
            "args": [
             {
              "visible": [
               false,
               false,
               false,
               true,
               true,
               true,
               false,
               false,
               false,
               false,
               false,
               false
              ]
             }
            ],
            "label": "Sled Pike CW",
            "method": "update"
           },
           {
            "args": [
             {
              "visible": [
               false,
               false,
               false,
               false,
               false,
               false,
               true,
               true,
               true,
               false,
               false,
               false
              ]
             }
            ],
            "label": "Yarnykh",
            "method": "update"
           },
           {
            "args": [
             {
              "visible": [
               false,
               false,
               false,
               false,
               false,
               false,
               false,
               false,
               false,
               true,
               true,
               true
              ]
             }
            ],
            "label": "Ramani",
            "method": "update"
           }
          ],
          "x": 0.88,
          "y": 1.1
         }
        ],
        "width": 580,
        "xaxis": {
         "dtick": 1,
         "linecolor": "black",
         "linewidth": 2,
         "range": [
          2,
          5
         ],
         "showline": true,
         "ticktext": [
          "10<sup>2</sup>",
          "10<sup>3</sup>",
          "10<sup>4</sup>",
          "10<sup>5</sup>"
         ],
         "tickvals": [
          100,
          1000,
          10000,
          100000
         ],
         "type": "log"
        },
        "yaxis": {
         "linecolor": "black",
         "linewidth": 2,
         "showline": true
        }
       }
      },
      "text/html": [
       "<div>                            <div id=\"2e1b98e5-367f-4756-9cf1-bd68b2f3687a\" class=\"plotly-graph-div\" style=\"height:450px; width:580px;\"></div>            <script type=\"text/javascript\">                require([\"plotly\"], function(Plotly) {                    window.PLOTLYENV=window.PLOTLYENV || {};                                    if (document.getElementById(\"2e1b98e5-367f-4756-9cf1-bd68b2f3687a\")) {                    Plotly.newPlot(                        \"2e1b98e5-367f-4756-9cf1-bd68b2f3687a\",                        [{\"hovertemplate\":\"Fitted curve (angle = 142)\\u003cbr\\u003eM\\u003csub\\u003ez\\u003c\\u002fsub\\u003e = %{y}\\u003cbr\\u003eOffset = %{x} Hz\\u003cextra\\u003e\\u003c\\u002fextra\\u003e\",\"line\":{\"color\":\"firebrick\"},\"mode\":\"lines\",\"name\":\"Fitted curve (angle = 142)\",\"visible\":true,\"x\":[100.0,221.5,343.0,443.0,543.0,765.5,988.0,1088.0,1188.0,1910.0,2632.0,2732.0,2832.0,4797.0,6762.0,6862.0,6962.0,12048.5,17135.0,17235.0,17335.0,18235.0],\"y\":[0.008813726425223186,0.37343447696210635,0.6610938327892172,0.7199791813847203,0.7513422491517757,0.7848775846900953,0.8008618331869922,0.8058661063271711,0.8101648894800186,0.8402396928424347,0.8654618056194635,0.868439773234378,0.8713245002893902,0.915442841636216,0.9451162255894823,0.9463530668898814,0.9475664472654632,0.985052328418574,0.9958130103343505,0.995911365194335,0.9960071877695557,0.9967669381232114],\"type\":\"scatter\"},{\"hovertemplate\":\"Fitted curve (angle = 426)\\u003cbr\\u003eM\\u003csub\\u003ez\\u003c\\u002fsub\\u003e = %{y}\\u003cbr\\u003eOffset = %{x} Hz\\u003cextra\\u003e\\u003c\\u002fextra\\u003e\",\"line\":{\"color\":\"royalblue\"},\"mode\":\"lines\",\"name\":\"Fitted curve (angle = 426)\",\"visible\":true,\"x\":[100.0,221.5,343.0,443.0,543.0,765.5,988.0,1088.0,1188.0,1910.0,2632.0,2732.0,2832.0,4797.0,6762.0,6862.0,6962.0,12048.5,17135.0,17235.0,17335.0,18235.0],\"y\":[0.02072946310600699,0.0795215283221416,0.23644933763830436,0.28572380143123816,0.31597055609720837,0.360231191142515,0.3862028584236417,0.3946817277607403,0.40192284552376417,0.4468384300060341,0.48633117932554853,0.49140335768294585,0.4964183720307222,0.5904553969099567,0.6828354898211059,0.6874619526545536,0.692074135487011,0.8831708108604882,0.9638436932114943,0.9646591961670091,0.965455218872067,0.9718197187349694],\"type\":\"scatter\"},{\"hovertemplate\":\"Raw data\\u003cbr\\u003eM\\u003csub\\u003ez\\u003c\\u002fsub\\u003e = %{y}\\u003cbr\\u003eOffset = %{x} Hz\\u003cextra\\u003e\\u003c\\u002fextra\\u003e\",\"line\":{\"color\":\"darkslategray\"},\"mode\":\"markers\",\"name\":\"Raw data\",\"visible\":true,\"x\":[443.0,443.0,1088.0,1088.0,2732.0,2732.0,6862.0,6862.0,17235.0,17235.0],\"y\":[0.7211806301174405,0.28487030374008715,0.8073201477988614,0.3942002920063607,0.8701579923794038,0.49072523945840946,0.9454872123427623,0.6885987374756003,0.994807610080808,0.9655928102654001],\"type\":\"scatter\"},{\"hovertemplate\":\"Fitted curve (angle = 142)\\u003cbr\\u003eM\\u003csub\\u003ez\\u003c\\u002fsub\\u003e = %{y}\\u003cbr\\u003eOffset = %{x} Hz\\u003cextra\\u003e\\u003c\\u002fextra\\u003e\",\"line\":{\"color\":\"firebrick\"},\"mode\":\"lines\",\"name\":\"Fitted curve (angle = 142)\",\"visible\":false,\"x\":[100.0,221.5,343.0,443.0,543.0,765.5,988.0,1088.0,1188.0,1910.0,2632.0,2732.0,2832.0,4797.0,6762.0,6862.0,6962.0,12048.5,17135.0,17235.0,17335.0,18235.0],\"y\":[0.007040558970299466,0.32213839865260513,0.6086483788482046,0.6721199454971076,0.7066565276774349,0.7441686696203171,0.7622704548993611,0.7679689330367211,0.7728763694062615,0.8075268576459254,0.8369750455206374,0.8404747797053331,0.8438695295083445,0.8963545387438159,0.9322617641003814,0.9337692076187097,0.9352489008137694,0.981377864004994,0.9947703136548564,0.9948930382159019,0.9950126085740133,0.9959608418042692],\"type\":\"scatter\"},{\"hovertemplate\":\"Fitted curve (angle = 426)\\u003cbr\\u003eM\\u003csub\\u003ez\\u003c\\u002fsub\\u003e = %{y}\\u003cbr\\u003eOffset = %{x} Hz\\u003cextra\\u003e\\u003c\\u002fextra\\u003e\",\"line\":{\"color\":\"royalblue\"},\"mode\":\"lines\",\"name\":\"Fitted curve (angle = 426)\",\"visible\":false,\"x\":[100.0,221.5,343.0,443.0,543.0,765.5,988.0,1088.0,1188.0,1910.0,2632.0,2732.0,2832.0,4797.0,6762.0,6862.0,6962.0,12048.5,17135.0,17235.0,17335.0,18235.0],\"y\":[0.016580425713712366,0.06423464815958192,0.19618643497880064,0.23913027437609136,0.26588260870445857,0.30562924827332527,0.3293687735691115,0.33721146875675845,0.34395555407913003,0.38713245367894267,0.4262705726436386,0.4313503234617927,0.4363838396231444,0.532694592586734,0.6309394671694705,0.6359596166921275,0.6409740706003185,0.8578572473356447,0.9551784747203838,0.9561810074807569,0.9571599617974698,0.965000224239713],\"type\":\"scatter\"},{\"hovertemplate\":\"Raw data\\u003cbr\\u003eM\\u003csub\\u003ez\\u003c\\u002fsub\\u003e = %{y}\\u003cbr\\u003eOffset = %{x} Hz\\u003cextra\\u003e\\u003c\\u002fextra\\u003e\",\"line\":{\"color\":\"darkslategray\"},\"mode\":\"markers\",\"name\":\"Raw data\",\"visible\":false,\"x\":[443.0,443.0,1088.0,1088.0,2732.0,2732.0,6862.0,6862.0,17235.0,17235.0],\"y\":[0.6719339761649656,0.23993832553324673,0.7669533291298274,0.3379704851210305,0.8394716750827106,0.4313878107185345,0.9323063057332419,0.6367439860989877,0.9959745338516346,0.9558668261788289],\"type\":\"scatter\"},{\"hovertemplate\":\"Fitted curve (angle = 142)\\u003cbr\\u003eM\\u003csub\\u003ez\\u003c\\u002fsub\\u003e = %{y}\\u003cbr\\u003eOffset = %{x} Hz\\u003cextra\\u003e\\u003c\\u002fextra\\u003e\",\"line\":{\"color\":\"firebrick\"},\"mode\":\"lines\",\"name\":\"Fitted curve (angle = 142)\",\"visible\":false,\"x\":[100.0,221.5,343.0,443.0,543.0,765.5,988.0,1088.0,1188.0,1910.0,2632.0,2732.0,2832.0,4797.0,6762.0,6862.0,6962.0,12048.5,17135.0,17235.0,17335.0,18235.0],\"y\":[0.22776080758964512,0.532808209983227,0.6640942013777636,0.7148056915514713,0.7436113107520577,0.7759107446640148,0.7918228652181784,0.7968771280882149,0.8012410560898308,0.8322115532679276,0.858414918080852,0.8615170324042604,0.8645233545930532,0.9106790409904115,0.9418982676600599,0.9432025276595805,0.9444822820807685,0.9841307685383498,0.9955521194661439,0.9956565894412035,0.9957583739563048,0.9965654275892428],\"type\":\"scatter\"},{\"hovertemplate\":\"Fitted curve (angle = 426)\\u003cbr\\u003eM\\u003csub\\u003ez\\u003c\\u002fsub\\u003e = %{y}\\u003cbr\\u003eOffset = %{x} Hz\\u003cextra\\u003e\\u003c\\u002fextra\\u003e\",\"line\":{\"color\":\"royalblue\"},\"mode\":\"lines\",\"name\":\"Fitted curve (angle = 426)\",\"visible\":false,\"x\":[100.0,221.5,343.0,443.0,543.0,765.5,988.0,1088.0,1188.0,1910.0,2632.0,2732.0,2832.0,4797.0,6762.0,6862.0,6962.0,12048.5,17135.0,17235.0,17335.0,18235.0],\"y\":[0.028533704472289576,0.11624905683569814,0.20149454776379894,0.25400299493237205,0.29206648853571343,0.34372523301750646,0.3719184925327244,0.380816689863855,0.38831969917962084,0.43349567342933104,0.47281615705562957,0.477868228933391,0.48286481438785184,0.576957035223284,0.6703608350148058,0.6750671980894289,0.6797618622381297,0.8768713840032113,0.9616789708840208,0.9625412544967773,0.9633830507937774,0.9701168933693538],\"type\":\"scatter\"},{\"hovertemplate\":\"Raw data\\u003cbr\\u003eM\\u003csub\\u003ez\\u003c\\u002fsub\\u003e = %{y}\\u003cbr\\u003eOffset = %{x} Hz\\u003cextra\\u003e\\u003c\\u002fextra\\u003e\",\"line\":{\"color\":\"darkslategray\"},\"mode\":\"markers\",\"name\":\"Raw data\",\"visible\":false,\"x\":[443.0,443.0,1088.0,1088.0,2732.0,2732.0,6862.0,6862.0,17235.0,17235.0],\"y\":[0.7146907907754291,0.25520602687931654,0.7965079899990527,0.3801815815559049,0.8625492824813871,0.47799869150947677,0.942893018593364,0.6743662492879253,0.9942322613939957,0.9627483631962553],\"type\":\"scatter\"},{\"hovertemplate\":\"Fitted curve (angle = 142)\\u003cbr\\u003eM\\u003csub\\u003ez\\u003c\\u002fsub\\u003e = %{y}\\u003cbr\\u003eOffset = %{x} Hz\\u003cextra\\u003e\\u003c\\u002fextra\\u003e\",\"line\":{\"color\":\"firebrick\"},\"mode\":\"lines\",\"name\":\"Fitted curve (angle = 142)\",\"visible\":false,\"x\":[100.0,221.5,343.0,443.0,543.0,765.5,988.0,1088.0,1188.0,1910.0,2632.0,2732.0,2832.0,4797.0,6762.0,6862.0,6962.0,12048.5,17135.0,17235.0,17335.0,18235.0],\"y\":[0.2023250551560425,0.49212110930980835,0.6263074575899547,0.6798023153265046,0.7106205939833322,0.7455667312883681,0.7629493020850566,0.7684970890361883,0.773298259133166,0.8076656412798507,0.8370456570585237,0.8405402954219672,0.8439302924749451,0.896375927375798,0.9322728256642291,0.9337799669247338,0.9352593744263877,0.9813814946834405,0.9947721329641879,0.9948948344138362,0.9950143856042946,0.9959624467895339],\"type\":\"scatter\"},{\"hovertemplate\":\"Fitted curve (angle = 426)\\u003cbr\\u003eM\\u003csub\\u003ez\\u003c\\u002fsub\\u003e = %{y}\\u003cbr\\u003eOffset = %{x} Hz\\u003cextra\\u003e\\u003c\\u002fextra\\u003e\",\"line\":{\"color\":\"royalblue\"},\"mode\":\"lines\",\"name\":\"Fitted curve (angle = 426)\",\"visible\":false,\"x\":[100.0,221.5,343.0,443.0,543.0,765.5,988.0,1088.0,1188.0,1910.0,2632.0,2732.0,2832.0,4797.0,6762.0,6862.0,6962.0,12048.5,17135.0,17235.0,17335.0,18235.0],\"y\":[0.02689535757261451,0.10240751249140566,0.17639286028303341,0.22261997669927763,0.2564786831584486,0.3029821651011221,0.328739813864575,0.3369589574146588,0.3439365476410526,0.3874127260926018,0.4264889543043109,0.43155984461048746,0.43658491480891853,0.5327951892822306,0.6310019709177866,0.6360209257172481,0.641034236293446,0.8578850165052875,0.9551939360859618,0.9561962997224813,0.9571751036433472,0.9650140340030405],\"type\":\"scatter\"},{\"hovertemplate\":\"Raw data\\u003cbr\\u003eM\\u003csub\\u003ez\\u003c\\u002fsub\\u003e = %{y}\\u003cbr\\u003eOffset = %{x} Hz\\u003cextra\\u003e\\u003c\\u002fextra\\u003e\",\"line\":{\"color\":\"darkslategray\"},\"mode\":\"markers\",\"name\":\"Raw data\",\"visible\":false,\"x\":[443.0,443.0,1088.0,1088.0,2732.0,2732.0,6862.0,6862.0,17235.0,17235.0],\"y\":[0.6809342300651129,0.22247419719695857,0.7685715633214187,0.3376731769920527,0.8405856386118117,0.4326099749321798,0.9347479310405289,0.6355852180431496,0.9966030127510804,0.9575097886417907],\"type\":\"scatter\"}],                        {\"annotations\":[{\"font\":{\"family\":\"Times New Roman\",\"size\":22},\"showarrow\":false,\"text\":\"Fitting method: \",\"x\":0.35,\"xref\":\"paper\",\"y\":1.1,\"yref\":\"paper\"},{\"font\":{\"family\":\"Times New Roman\",\"size\":22},\"showarrow\":false,\"text\":\"Frequency offset \\u0394 (Hz)\",\"x\":0.5004254919715793,\"xref\":\"paper\",\"y\":-0.2,\"yref\":\"paper\"},{\"font\":{\"family\":\"Times New Roman\",\"size\":22},\"showarrow\":false,\"text\":\"Magnetization |M\\u003csub\\u003ez\\u003c\\u002fsub\\u003e|\",\"textangle\":-90,\"x\":-0.14,\"xref\":\"paper\",\"y\":0.5,\"yref\":\"paper\"}],\"height\":450,\"legend\":{\"bordercolor\":\"#000000\",\"borderwidth\":2,\"font\":{\"color\":\"#000\",\"family\":\"Times New Roman\",\"size\":12},\"traceorder\":\"normal\",\"x\":0.55,\"y\":0.1},\"plot_bgcolor\":\"rgba(0,0,0,0)\",\"template\":{\"data\":{\"barpolar\":[{\"marker\":{\"line\":{\"color\":\"#E5ECF6\",\"width\":0.5},\"pattern\":{\"fillmode\":\"overlay\",\"size\":10,\"solidity\":0.2}},\"type\":\"barpolar\"}],\"bar\":[{\"error_x\":{\"color\":\"#2a3f5f\"},\"error_y\":{\"color\":\"#2a3f5f\"},\"marker\":{\"line\":{\"color\":\"#E5ECF6\",\"width\":0.5},\"pattern\":{\"fillmode\":\"overlay\",\"size\":10,\"solidity\":0.2}},\"type\":\"bar\"}],\"carpet\":[{\"aaxis\":{\"endlinecolor\":\"#2a3f5f\",\"gridcolor\":\"white\",\"linecolor\":\"white\",\"minorgridcolor\":\"white\",\"startlinecolor\":\"#2a3f5f\"},\"baxis\":{\"endlinecolor\":\"#2a3f5f\",\"gridcolor\":\"white\",\"linecolor\":\"white\",\"minorgridcolor\":\"white\",\"startlinecolor\":\"#2a3f5f\"},\"type\":\"carpet\"}],\"choropleth\":[{\"colorbar\":{\"outlinewidth\":0,\"ticks\":\"\"},\"type\":\"choropleth\"}],\"contourcarpet\":[{\"colorbar\":{\"outlinewidth\":0,\"ticks\":\"\"},\"type\":\"contourcarpet\"}],\"contour\":[{\"colorbar\":{\"outlinewidth\":0,\"ticks\":\"\"},\"colorscale\":[[0.0,\"#0d0887\"],[0.1111111111111111,\"#46039f\"],[0.2222222222222222,\"#7201a8\"],[0.3333333333333333,\"#9c179e\"],[0.4444444444444444,\"#bd3786\"],[0.5555555555555556,\"#d8576b\"],[0.6666666666666666,\"#ed7953\"],[0.7777777777777778,\"#fb9f3a\"],[0.8888888888888888,\"#fdca26\"],[1.0,\"#f0f921\"]],\"type\":\"contour\"}],\"heatmapgl\":[{\"colorbar\":{\"outlinewidth\":0,\"ticks\":\"\"},\"colorscale\":[[0.0,\"#0d0887\"],[0.1111111111111111,\"#46039f\"],[0.2222222222222222,\"#7201a8\"],[0.3333333333333333,\"#9c179e\"],[0.4444444444444444,\"#bd3786\"],[0.5555555555555556,\"#d8576b\"],[0.6666666666666666,\"#ed7953\"],[0.7777777777777778,\"#fb9f3a\"],[0.8888888888888888,\"#fdca26\"],[1.0,\"#f0f921\"]],\"type\":\"heatmapgl\"}],\"heatmap\":[{\"colorbar\":{\"outlinewidth\":0,\"ticks\":\"\"},\"colorscale\":[[0.0,\"#0d0887\"],[0.1111111111111111,\"#46039f\"],[0.2222222222222222,\"#7201a8\"],[0.3333333333333333,\"#9c179e\"],[0.4444444444444444,\"#bd3786\"],[0.5555555555555556,\"#d8576b\"],[0.6666666666666666,\"#ed7953\"],[0.7777777777777778,\"#fb9f3a\"],[0.8888888888888888,\"#fdca26\"],[1.0,\"#f0f921\"]],\"type\":\"heatmap\"}],\"histogram2dcontour\":[{\"colorbar\":{\"outlinewidth\":0,\"ticks\":\"\"},\"colorscale\":[[0.0,\"#0d0887\"],[0.1111111111111111,\"#46039f\"],[0.2222222222222222,\"#7201a8\"],[0.3333333333333333,\"#9c179e\"],[0.4444444444444444,\"#bd3786\"],[0.5555555555555556,\"#d8576b\"],[0.6666666666666666,\"#ed7953\"],[0.7777777777777778,\"#fb9f3a\"],[0.8888888888888888,\"#fdca26\"],[1.0,\"#f0f921\"]],\"type\":\"histogram2dcontour\"}],\"histogram2d\":[{\"colorbar\":{\"outlinewidth\":0,\"ticks\":\"\"},\"colorscale\":[[0.0,\"#0d0887\"],[0.1111111111111111,\"#46039f\"],[0.2222222222222222,\"#7201a8\"],[0.3333333333333333,\"#9c179e\"],[0.4444444444444444,\"#bd3786\"],[0.5555555555555556,\"#d8576b\"],[0.6666666666666666,\"#ed7953\"],[0.7777777777777778,\"#fb9f3a\"],[0.8888888888888888,\"#fdca26\"],[1.0,\"#f0f921\"]],\"type\":\"histogram2d\"}],\"histogram\":[{\"marker\":{\"pattern\":{\"fillmode\":\"overlay\",\"size\":10,\"solidity\":0.2}},\"type\":\"histogram\"}],\"mesh3d\":[{\"colorbar\":{\"outlinewidth\":0,\"ticks\":\"\"},\"type\":\"mesh3d\"}],\"parcoords\":[{\"line\":{\"colorbar\":{\"outlinewidth\":0,\"ticks\":\"\"}},\"type\":\"parcoords\"}],\"pie\":[{\"automargin\":true,\"type\":\"pie\"}],\"scatter3d\":[{\"line\":{\"colorbar\":{\"outlinewidth\":0,\"ticks\":\"\"}},\"marker\":{\"colorbar\":{\"outlinewidth\":0,\"ticks\":\"\"}},\"type\":\"scatter3d\"}],\"scattercarpet\":[{\"marker\":{\"colorbar\":{\"outlinewidth\":0,\"ticks\":\"\"}},\"type\":\"scattercarpet\"}],\"scattergeo\":[{\"marker\":{\"colorbar\":{\"outlinewidth\":0,\"ticks\":\"\"}},\"type\":\"scattergeo\"}],\"scattergl\":[{\"marker\":{\"colorbar\":{\"outlinewidth\":0,\"ticks\":\"\"}},\"type\":\"scattergl\"}],\"scattermapbox\":[{\"marker\":{\"colorbar\":{\"outlinewidth\":0,\"ticks\":\"\"}},\"type\":\"scattermapbox\"}],\"scatterpolargl\":[{\"marker\":{\"colorbar\":{\"outlinewidth\":0,\"ticks\":\"\"}},\"type\":\"scatterpolargl\"}],\"scatterpolar\":[{\"marker\":{\"colorbar\":{\"outlinewidth\":0,\"ticks\":\"\"}},\"type\":\"scatterpolar\"}],\"scatter\":[{\"fillpattern\":{\"fillmode\":\"overlay\",\"size\":10,\"solidity\":0.2},\"type\":\"scatter\"}],\"scatterternary\":[{\"marker\":{\"colorbar\":{\"outlinewidth\":0,\"ticks\":\"\"}},\"type\":\"scatterternary\"}],\"surface\":[{\"colorbar\":{\"outlinewidth\":0,\"ticks\":\"\"},\"colorscale\":[[0.0,\"#0d0887\"],[0.1111111111111111,\"#46039f\"],[0.2222222222222222,\"#7201a8\"],[0.3333333333333333,\"#9c179e\"],[0.4444444444444444,\"#bd3786\"],[0.5555555555555556,\"#d8576b\"],[0.6666666666666666,\"#ed7953\"],[0.7777777777777778,\"#fb9f3a\"],[0.8888888888888888,\"#fdca26\"],[1.0,\"#f0f921\"]],\"type\":\"surface\"}],\"table\":[{\"cells\":{\"fill\":{\"color\":\"#EBF0F8\"},\"line\":{\"color\":\"white\"}},\"header\":{\"fill\":{\"color\":\"#C8D4E3\"},\"line\":{\"color\":\"white\"}},\"type\":\"table\"}]},\"layout\":{\"annotationdefaults\":{\"arrowcolor\":\"#2a3f5f\",\"arrowhead\":0,\"arrowwidth\":1},\"autotypenumbers\":\"strict\",\"coloraxis\":{\"colorbar\":{\"outlinewidth\":0,\"ticks\":\"\"}},\"colorscale\":{\"diverging\":[[0,\"#8e0152\"],[0.1,\"#c51b7d\"],[0.2,\"#de77ae\"],[0.3,\"#f1b6da\"],[0.4,\"#fde0ef\"],[0.5,\"#f7f7f7\"],[0.6,\"#e6f5d0\"],[0.7,\"#b8e186\"],[0.8,\"#7fbc41\"],[0.9,\"#4d9221\"],[1,\"#276419\"]],\"sequential\":[[0.0,\"#0d0887\"],[0.1111111111111111,\"#46039f\"],[0.2222222222222222,\"#7201a8\"],[0.3333333333333333,\"#9c179e\"],[0.4444444444444444,\"#bd3786\"],[0.5555555555555556,\"#d8576b\"],[0.6666666666666666,\"#ed7953\"],[0.7777777777777778,\"#fb9f3a\"],[0.8888888888888888,\"#fdca26\"],[1.0,\"#f0f921\"]],\"sequentialminus\":[[0.0,\"#0d0887\"],[0.1111111111111111,\"#46039f\"],[0.2222222222222222,\"#7201a8\"],[0.3333333333333333,\"#9c179e\"],[0.4444444444444444,\"#bd3786\"],[0.5555555555555556,\"#d8576b\"],[0.6666666666666666,\"#ed7953\"],[0.7777777777777778,\"#fb9f3a\"],[0.8888888888888888,\"#fdca26\"],[1.0,\"#f0f921\"]]},\"colorway\":[\"#636efa\",\"#EF553B\",\"#00cc96\",\"#ab63fa\",\"#FFA15A\",\"#19d3f3\",\"#FF6692\",\"#B6E880\",\"#FF97FF\",\"#FECB52\"],\"font\":{\"color\":\"#2a3f5f\"},\"geo\":{\"bgcolor\":\"white\",\"lakecolor\":\"white\",\"landcolor\":\"#E5ECF6\",\"showlakes\":true,\"showland\":true,\"subunitcolor\":\"white\"},\"hoverlabel\":{\"align\":\"left\"},\"hovermode\":\"closest\",\"mapbox\":{\"style\":\"light\"},\"paper_bgcolor\":\"white\",\"plot_bgcolor\":\"#E5ECF6\",\"polar\":{\"angularaxis\":{\"gridcolor\":\"white\",\"linecolor\":\"white\",\"ticks\":\"\"},\"bgcolor\":\"#E5ECF6\",\"radialaxis\":{\"gridcolor\":\"white\",\"linecolor\":\"white\",\"ticks\":\"\"}},\"scene\":{\"xaxis\":{\"backgroundcolor\":\"#E5ECF6\",\"gridcolor\":\"white\",\"gridwidth\":2,\"linecolor\":\"white\",\"showbackground\":true,\"ticks\":\"\",\"zerolinecolor\":\"white\"},\"yaxis\":{\"backgroundcolor\":\"#E5ECF6\",\"gridcolor\":\"white\",\"gridwidth\":2,\"linecolor\":\"white\",\"showbackground\":true,\"ticks\":\"\",\"zerolinecolor\":\"white\"},\"zaxis\":{\"backgroundcolor\":\"#E5ECF6\",\"gridcolor\":\"white\",\"gridwidth\":2,\"linecolor\":\"white\",\"showbackground\":true,\"ticks\":\"\",\"zerolinecolor\":\"white\"}},\"shapedefaults\":{\"line\":{\"color\":\"#2a3f5f\"}},\"ternary\":{\"aaxis\":{\"gridcolor\":\"white\",\"linecolor\":\"white\",\"ticks\":\"\"},\"baxis\":{\"gridcolor\":\"white\",\"linecolor\":\"white\",\"ticks\":\"\"},\"bgcolor\":\"#E5ECF6\",\"caxis\":{\"gridcolor\":\"white\",\"linecolor\":\"white\",\"ticks\":\"\"}},\"title\":{\"x\":0.05},\"xaxis\":{\"automargin\":true,\"gridcolor\":\"white\",\"linecolor\":\"white\",\"ticks\":\"\",\"title\":{\"standoff\":15},\"zerolinecolor\":\"white\",\"zerolinewidth\":2},\"yaxis\":{\"automargin\":true,\"gridcolor\":\"white\",\"linecolor\":\"white\",\"ticks\":\"\",\"title\":{\"standoff\":15},\"zerolinecolor\":\"white\",\"zerolinewidth\":2}}},\"updatemenus\":[{\"active\":0,\"buttons\":[{\"args\":[{\"visible\":[true,true,true,false,false,false,false,false,false,false,false,false]}],\"label\":\"Sled Pike RP\",\"method\":\"update\"},{\"args\":[{\"visible\":[false,false,false,true,true,true,false,false,false,false,false,false]}],\"label\":\"Sled Pike CW\",\"method\":\"update\"},{\"args\":[{\"visible\":[false,false,false,false,false,false,true,true,true,false,false,false]}],\"label\":\"Yarnykh\",\"method\":\"update\"},{\"args\":[{\"visible\":[false,false,false,false,false,false,false,false,false,true,true,true]}],\"label\":\"Ramani\",\"method\":\"update\"}],\"x\":0.88,\"y\":1.1}],\"width\":580,\"xaxis\":{\"dtick\":1,\"linecolor\":\"black\",\"linewidth\":2,\"range\":[2,5],\"showline\":true,\"ticktext\":[\"10\\u003csup\\u003e2\\u003c\\u002fsup\\u003e\",\"10\\u003csup\\u003e3\\u003c\\u002fsup\\u003e\",\"10\\u003csup\\u003e4\\u003c\\u002fsup\\u003e\",\"10\\u003csup\\u003e5\\u003c\\u002fsup\\u003e\"],\"tickvals\":[100,1000,10000,100000],\"type\":\"log\"},\"yaxis\":{\"linecolor\":\"black\",\"linewidth\":2,\"showline\":true}},                        {\"responsive\": true}                    ).then(function(){\n",
       "                            \n",
       "var gd = document.getElementById('2e1b98e5-367f-4756-9cf1-bd68b2f3687a');\n",
       "var x = new MutationObserver(function (mutations, observer) {{\n",
       "        var display = window.getComputedStyle(gd).display;\n",
       "        if (!display || display === 'none') {{\n",
       "            console.log([gd, 'removed!']);\n",
       "            Plotly.purge(gd);\n",
       "            observer.disconnect();\n",
       "        }}\n",
       "}});\n",
       "\n",
       "// Listen for the removal of the full notebook cells\n",
       "var notebookContainer = gd.closest('#notebook-container');\n",
       "if (notebookContainer) {{\n",
       "    x.observe(notebookContainer, {childList: true});\n",
       "}}\n",
       "\n",
       "// Listen for the clearing of the current output cell\n",
       "var outputEl = gd.closest('.output');\n",
       "if (outputEl) {{\n",
       "    x.observe(outputEl, {childList: true});\n",
       "}}\n",
       "\n",
       "                        })                };                });            </script>        </div>"
      ]
     },
     "metadata": {},
     "output_type": "display_data"
    }
   ],
   "source": [
    "#| label: qmtFig4cell\n",
    "\n",
    "import scipy\n",
    "import scipy.io as sio\n",
    "from pathlib import Path\n",
    "import numpy as np\n",
    "\n",
    "data_dir = Path(\"../../data/06-MT-01-qMT\")\n",
    "\n",
    "# Simulations have been performed and the results have been saved in the folder results.\n",
    "dataSim_model_mat = scipy.io.loadmat(data_dir / 'qMT_tutorial-ISMRM2022-main' / 'results/dataSim_model.mat')\n",
    "dataRaw_model_mat = scipy.io.loadmat(data_dir / 'qMT_tutorial-ISMRM2022-main' / 'results/dataRaw_model.mat')\n",
    "dataSim_model = np.array(dataSim_model_mat[\"dataSim_modelFit\"])\n",
    "dataRaw_model = np.array(dataRaw_model_mat[\"dataRaw_modelFit\"])\n",
    "\n",
    "import matplotlib.pyplot as plt\n",
    "from PIL import Image\n",
    "from matplotlib.image import imread\n",
    "import scipy.io\n",
    "import plotly\n",
    "from plotly.subplots import make_subplots\n",
    "import plotly.graph_objs as go\n",
    "import numpy as np\n",
    "from plotly import __version__\n",
    "from plotly.offline import download_plotlyjs, init_notebook_mode, plot, iplot\n",
    "config={'showLink': False, 'displayModeBar': False}\n",
    "\n",
    "# PYTHON CODE\n",
    "\n",
    "# PYTHON CODE\n",
    "\n",
    "init_notebook_mode(connected=True)\n",
    "\n",
    "fitModel = [\"Sled Pike RP\", \"Sled Pike CW\", \"Yarnykh\", \"Ramani\"]\n",
    "\n",
    "fig = go.Figure()\n",
    "\n",
    "#Add traces (three traces per fitting model)\n",
    "for ii in range(len(fitModel)):\n",
    "    if ii==0:\n",
    "        vis = True\n",
    "    else:\n",
    "        vis = False\n",
    "    fig.add_trace(go.Scatter(x=dataSim_model[:,0,0], y=dataSim_model[:,1,ii],\n",
    "                             name=\"Fitted curve (angle = 142)\", mode='lines', line=dict(color=\"firebrick\"), visible = vis,\n",
    "                             hovertemplate=\"Fitted curve (angle = 142)<br>M<sub>z</sub> = %{y}<br>Offset = %{x} Hz<extra></extra>\"))\n",
    "    \n",
    "    fig.add_trace(go.Scatter(x=dataSim_model[:,0,0], y=dataSim_model[:,2,ii],\n",
    "                             name=\"Fitted curve (angle = 426)\", mode='lines', line=dict(color=\"royalblue\"), visible = vis,\n",
    "                             hovertemplate=\"Fitted curve (angle = 426)<br>M<sub>z</sub> = %{y}<br>Offset = %{x} Hz<extra></extra>\"))\n",
    "    \n",
    "    fig.add_trace(go.Scatter(x=dataRaw_model[:,0,0], y=dataRaw_model[:,1,ii],\n",
    "                             name=\"Raw data\", mode='markers', line=dict(color=\"darkslategray\"), visible = vis,\n",
    "                             hovertemplate=\"Raw data<br>M<sub>z</sub> = %{y}<br>Offset = %{x} Hz<extra></extra>\"))\n",
    "\n",
    "\n",
    "buttons = []\n",
    "for i, label in enumerate(fitModel):\n",
    "    visibility = [False] * 12\n",
    "    for j in range(3):\n",
    "        visibility[3*i+j] = True\n",
    "    button = dict(\n",
    "                label =  label,\n",
    "                method = 'update',\n",
    "                args = [{'visible': visibility}])\n",
    "    buttons.append(button)\n",
    "        \n",
    "updatemenus = list([\n",
    "    dict(active=0,\n",
    "         x=0.88,\n",
    "         y=1.1,\n",
    "         buttons=buttons\n",
    "    )\n",
    "])\n",
    "\n",
    "fig['layout']['updatemenus'] = updatemenus\n",
    "\n",
    "fig.update_layout(height=450, width=580, plot_bgcolor='rgba(0,0,0,0)')\n",
    "fig.update_layout(legend=dict(\n",
    "        x=0.55,\n",
    "        y=0.1,\n",
    "        traceorder='normal',\n",
    "        font=dict(\n",
    "            family='Times New Roman',\n",
    "            size=12,\n",
    "            color='#000'\n",
    "        ),\n",
    "        bordercolor='#000000',\n",
    "        borderwidth=2),\n",
    "    annotations=[\n",
    "        dict(\n",
    "            x=0.35,\n",
    "            y=1.1,\n",
    "            showarrow=False,\n",
    "            text='Fitting method: ',\n",
    "            font=dict(\n",
    "                family='Times New Roman',\n",
    "                size=22\n",
    "            ),\n",
    "            xref='paper',\n",
    "            yref='paper'\n",
    "        ),\n",
    "        dict(\n",
    "            x=0.5004254919715793,\n",
    "            y=-0.2,\n",
    "            showarrow=False,\n",
    "            text='Frequency offset \\u0394 (Hz)',\n",
    "            font=dict(\n",
    "                family='Times New Roman',\n",
    "                size=22\n",
    "            ),\n",
    "            xref='paper',\n",
    "            yref='paper'\n",
    "        ),\n",
    "        dict(\n",
    "            x=-0.14,\n",
    "            y=0.5,\n",
    "            showarrow=False,\n",
    "            text='Magnetization |M<sub>z</sub>|',\n",
    "            font=dict(\n",
    "                family='Times New Roman',\n",
    "                size=22\n",
    "            ),\n",
    "            textangle=-90,\n",
    "            xref='paper',\n",
    "            yref='paper'\n",
    "        ),\n",
    "    ])\n",
    "\n",
    "fig.update_xaxes(type=\"log\", range=[2,5], showline=True, linewidth=2, linecolor='black', dtick=1, tickvals=[100,1000,10000,100000], ticktext=[\"10<sup>2</sup>\",\"10<sup>3</sup>\",\"10<sup>4</sup>\",\"10<sup>5</sup>\"])\n",
    "fig.update_yaxes(showline=True, linewidth=2, linecolor='black')\n",
    "\n",
    "iplot(fig, filename='dropdown')"
   ]
  }
 ],
 "metadata": {
  "kernelspec": {
   "display_name": "base",
   "language": "python",
   "name": "python3"
  },
  "language_info": {
   "codemirror_mode": {
    "name": "ipython",
    "version": 3
   },
   "file_extension": ".py",
   "mimetype": "text/x-python",
   "name": "python",
   "nbconvert_exporter": "python",
   "pygments_lexer": "ipython3",
   "version": "3.12.2"
  }
 },
 "nbformat": 4,
 "nbformat_minor": 2
}
